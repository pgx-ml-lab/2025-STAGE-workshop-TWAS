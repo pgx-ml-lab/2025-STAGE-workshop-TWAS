{
 "cells": [
  {
   "cell_type": "markdown",
   "id": "717a4ae2-553c-40de-824b-789a709f81ac",
   "metadata": {},
   "source": [
    "# Atelier sur la génétique statistique et l'épidémiologie génétique STAGE-Québec\n",
    "## Thème 2 - Phénotypes moléculaires en épidémiologie génétique\n",
    "\n",
    "Par Marc-André Legault (Université de Montréal) et Qihuang Zhang (Université McGill)\n",
    "\n",
    "**31 juillet - 1er août 2025**\n",
    "\n",
    "### Introduction\n",
    "\n",
    "Nous avons effectué une analyse TWAS en utilisant à la fois S-PrediXcan (modèle Elastic Net ajusté pour la polygénicité) et FUSION. Nous avons volontairement inclus les modèles GTEx Pancreas pour les deux logiciels afin de permettre des comparaisons.\n",
    "\n",
    "Les fichiers de résultats sont disponibles dans les points de contrôle et nous supposerons qu'ils sont :"
   ]
  },
  {
   "cell_type": "code",
   "execution_count": null,
   "id": "21a20dfa-feff-4766-9951-c6d87654be37",
   "metadata": {},
   "outputs": [],
   "source": [
    "library(ggplot2)"
   ]
  },
  {
   "cell_type": "markdown",
   "id": "3eb1c765-a42d-46c0-a9d4-03fa3e732220",
   "metadata": {},
   "source": [
    "Nous chargerons les résultats des deux analyses TWAS dans R et les fusionnerons."
   ]
  },
  {
   "cell_type": "code",
   "execution_count": null,
   "id": "f83ddfa1-480e-4613-a86a-2f06a4dd5b58",
   "metadata": {},
   "outputs": [],
   "source": [
    "df_predixcan <- read.csv(\"results/twas_en_Pancreas.csv\")\n",
    "\n",
    "# Nous conservons les statistiques TWAS non calibrées dans un DF séparé.\n",
    "df_predixcan_uncal <- df_predixcan[, c(\"gene\", \"gene_name\", \"uncalibrated_zscore\", \"uncalibrated_pvalue\", \"pred_perf_r2\")]\n",
    "names(df_predixcan_uncal) <- c(\"ENSG\", \"gene_label\", \"Z_PREDIXCAN_NO_CALIB\", \"P_PREDIXCAN_NO_CALIB\", \"R2_PREDIXCAN\")\n",
    "\n",
    "df_predixcan <- df_predixcan[, c(\"gene\", \"gene_name\", \"zscore\", \"pvalue\", \"pred_perf_r2\")]\n",
    "names(df_predixcan) <- c(\"ENSG\", \"gene_label\", \"Z_PREDIXCAN\", \"P_PREDIXCAN\", \"R2_PREDIXCAN\")\n",
    "nrow(df_predixcan)"
   ]
  },
  {
   "cell_type": "code",
   "execution_count": null,
   "id": "6e6c9925-e733-457a-a8a7-cd07c678bef0",
   "metadata": {},
   "outputs": [],
   "source": [
    "df_fusion <- read.csv(\n",
    "    \"results/fusion_GTEx_pancreas.tsv\",\n",
    "    sep=\"\\t\",\n",
    "    stringsAsFactors=F\n",
    ")\n",
    "# Gardons seulement le modèle \"enet\" qui est la même approche de régression pénalisée\n",
    "# que pour S-PrediXcan afin de maximiser la comparabilité.\n",
    "df_fusion <- df_fusion[df_fusion$MODEL == \"enet\", ]\n",
    "df_fusion <- df_fusion[, c(\"ID\", \"TWAS.Z\", \"TWAS.P\", \"MODELCV.R2\")]\n",
    "df_fusion <- df_fusion[complete.cases(df_fusion), ]\n",
    "names(df_fusion) <- c(\"ENSG\", \"Z_FUSION\", \"P_FUSION\", \"R2_FUSION\")\n",
    "df_fusion$P_FUSION <- as.numeric(df_fusion$P_FUSION)\n",
    "df_fusion$Z_FUSION <- as.numeric(df_fusion$Z_FUSION)\n",
    "\n",
    "nrow(df_fusion)"
   ]
  },
  {
   "cell_type": "code",
   "execution_count": null,
   "id": "67e39c56-14aa-4795-a785-ff96acd9f062",
   "metadata": {},
   "outputs": [],
   "source": [
    "merged_uncalibrated <- merge(df_predixcan_uncal, df_fusion, by=\"ENSG\")\n",
    "merged <- merge(df_predixcan, df_fusion, by=\"ENSG\")\n",
    "nrow(merged)"
   ]
  },
  {
   "cell_type": "markdown",
   "id": "13279d53-52d1-4e29-9c24-0a455c5eac3a",
   "metadata": {},
   "source": [
    "Comparons d'abord les valeurs P pour les modèles FUSION et S-PrediXcan avant la calibration pour la polygénicité. Nous afficherons le seuil de P <= 0,05 / 1058, le nombre total de gènes qui étaient disponibles dans les résultats pour les deux algorithmes."
   ]
  },
  {
   "cell_type": "code",
   "execution_count": null,
   "id": "d93be1b1-77fc-4227-a04b-1cd7da8496b3",
   "metadata": {},
   "outputs": [],
   "source": [
    "p_thresh <- -log10(0.05 / 1058)\n",
    "\n",
    "ggplot(merged_uncalibrated, aes(x = -log10(P_FUSION), y = -log10(P_PREDIXCAN_NO_CALIB))) +\n",
    "    geom_rect(aes(xmin = -Inf, xmax = p_thresh, ymin = p_thresh, ymax = Inf), \n",
    "              fill = \"#eff5ff\", inherit.aes = FALSE) +\n",
    "    geom_rect(aes(xmin = p_thresh, xmax = Inf, ymin = p_thresh, ymax = Inf), \n",
    "              fill = \"#ffeff5\", inherit.aes = FALSE) +\n",
    "    geom_rect(aes(xmin = p_thresh, xmax = Inf, ymin = -Inf, ymax = p_thresh), \n",
    "              fill = \"#f5ffef\", inherit.aes = FALSE) +\n",
    "    geom_point() +\n",
    "    geom_vline(xintercept = -log10(0.05 / 1058), linetype = \"dotted\", color = \"#888888\", size = 1) +\n",
    "    geom_hline(yintercept = -log10(0.05 / 1058), linetype = \"dotted\", color = \"#888888\", size = 1) +\n",
    "    geom_abline(intercept = 0, slope = 1, linetype = \"dashed\", color = \"red\") +\n",
    "    theme_bw()"
   ]
  },
  {
   "cell_type": "markdown",
   "id": "ac381b19-5877-49a9-9923-f1f7dc212120",
   "metadata": {},
   "source": [
    "<div class=\"alert alert-info\">\n",
    "    <p>\n",
    "        Nous avons identifié trois régions dans le graphique en utilisant des couleurs différentes. Comment pouvez-vous interpréter les points dans chacune de ces régions ? Quelles conclusions pouvez-vous tirer sur les différentes méthodes TWAS ?\n",
    "    </p>\n",
    "    <p>\n",
    "        En utilisant les données disponibles, pouvez-vous identifier un gène qui est significatif en utilisant les deux approches ? Seulement FUSION ? Seulement S-PrediXcan ?\n",
    "    </p>\n",
    "</div>"
   ]
  },
  {
   "cell_type": "code",
   "execution_count": null,
   "id": "f36babec-a26a-4014-862b-07becd08343e",
   "metadata": {},
   "outputs": [],
   "source": [
    "# Vous pouvez utiliser cette cellule pour explorer les données !"
   ]
  },
  {
   "cell_type": "markdown",
   "id": "14e8e09b-611a-4331-aa2f-8f7c9896bd26",
   "metadata": {},
   "source": [
    "Maintenant, nous répéterons le graphique mais en utilisant les statistiques de S-PrediXcan qui ont été calibrées pour la polygénicité. Utilisez le graphique ci-dessous pour discuter :\n",
    "\n",
    "<div class=\"alert alert-info\">\n",
    "    Comment l'ajustement pour la polygénicité influence-t-il les valeurs P ? À quelle approche devrions-nous faire confiance ?\n",
    "</div>"
   ]
  },
  {
   "cell_type": "code",
   "execution_count": null,
   "id": "79cdc2fd-4a89-4183-8037-40cf27053808",
   "metadata": {},
   "outputs": [],
   "source": [
    "p_thresh <- -log10(0.05 / 1058)\n",
    "\n",
    "ggplot(merged, aes(x = -log10(P_FUSION), y = -log10(P_PREDIXCAN))) +\n",
    "    geom_rect(aes(xmin = -Inf, xmax = p_thresh, ymin = p_thresh, ymax = Inf), \n",
    "              fill = \"#eff5ff\", inherit.aes = FALSE) +\n",
    "    geom_rect(aes(xmin = p_thresh, xmax = Inf, ymin = p_thresh, ymax = Inf), \n",
    "              fill = \"#ffeff5\", inherit.aes = FALSE) +\n",
    "    geom_rect(aes(xmin = p_thresh, xmax = Inf, ymin = -Inf, ymax = p_thresh), \n",
    "              fill = \"#f5ffef\", inherit.aes = FALSE) +\n",
    "    geom_point() +\n",
    "    geom_vline(xintercept = p_thresh, linetype = \"dotted\", color = \"#888888\", size = 1) +\n",
    "    geom_hline(yintercept = p_thresh, linetype = \"dotted\", color = \"#888888\", size = 1) +\n",
    "    geom_abline(intercept = 0, slope = 1, linetype = \"dashed\", color = \"red\") +\n",
    "    theme_bw()"
   ]
  }
 ],
 "metadata": {
  "kernelspec": {
   "display_name": "R",
   "language": "R",
   "name": "ir"
  },
  "language_info": {
   "codemirror_mode": "r",
   "file_extension": ".r",
   "mimetype": "text/x-r-source",
   "name": "R",
   "pygments_lexer": "r",
   "version": "4.3.1"
  }
 },
 "nbformat": 4,
 "nbformat_minor": 5
}