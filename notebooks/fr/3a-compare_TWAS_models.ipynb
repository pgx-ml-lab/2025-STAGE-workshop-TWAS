{
 "cells": [
  {
   "cell_type": "markdown",
   "id": "717a4ae2-553c-40de-824b-789a709f81ac",
   "metadata": {},
   "source": "# Atelier sur la génétique statistique et l'épidémiologie génétique STAGE-Québec\n## Thème 2 - Phénotypes moléculaires en épidémiologie génétique\n\nPar Marc-André Legault (Université de Montréal) et Qihuang Zhang (Université McGill)\n\n**31 juillet - 1er août 2025**\n\n### Introduction\n\nDans cette section de l'atelier, nous allons comparer les résultats de deux approches complémentaires pour l'analyse TWAS (Transcriptome-Wide Association Study) : **S-PrediXcan** et **FUSION**. Cette comparaison méthodologique vous permettra de mieux comprendre les différences pratiques entre ces outils largement utilisés dans la communauté de recherche.\n\n#### Contexte méthodologique\n- **S-PrediXcan** utilise un modèle Elastic Net avec calibration pour la polygénicité\n- **FUSION** propose plusieurs modèles de prédiction, incluant également l'Elastic Net\n\nPour cette analyse comparative, nous avons délibérément utilisé les modèles GTEx Pancreas dans les deux logiciels afin d'assurer une comparaison équitable et rigoureuse. Cette approche nous permettra d'évaluer la concordance entre les méthodes tout en identifiant leurs spécificités respectives.\n\n#### Objectifs d'apprentissage\nÀ la fin de cette section, vous serez en mesure de :\n1. Interpréter les différences entre les résultats TWAS obtenus par différentes méthodes\n2. Comprendre l'impact de la calibration pour la polygénicité\n3. Évaluer la concordance entre les approches méthodologiques\n4. Identifier les forces et limites de chaque méthode\n\nLes fichiers de résultats sont disponibles dans les points de contrôle et nous supposerons qu'ils sont localisés comme suit :"
  },
  {
   "cell_type": "code",
   "execution_count": null,
   "id": "21a20dfa-feff-4766-9951-c6d87654be37",
   "metadata": {},
   "outputs": [],
   "source": [
    "library(ggplot2)"
   ]
  },
  {
   "cell_type": "markdown",
   "id": "3eb1c765-a42d-46c0-a9d4-03fa3e732220",
   "metadata": {},
   "source": "### Chargement et préparation des données\n\nNous allons maintenant charger les résultats des deux analyses TWAS dans R et les fusionner pour permettre une comparaison directe. Cette étape est cruciale car elle nous permet d'examiner les mêmes gènes analysés par les deux méthodes.\n\n**Points clés à retenir :**\n- Les résultats S-PrediXcan incluent à la fois les statistiques calibrées et non calibrées\n- Nous conserverons les deux versions pour illustrer l'effet de la calibration pour la polygénicité\n- Les données seront fusionnées sur l'identifiant Ensembl des gènes (ENSG) pour assurer la correspondance exacte"
  },
  {
   "cell_type": "code",
   "execution_count": null,
   "id": "f83ddfa1-480e-4613-a86a-2f06a4dd5b58",
   "metadata": {},
   "outputs": [],
   "source": [
    "df_predixcan <- read.csv(\"results/twas_en_Pancreas.csv\")\n",
    "\n",
    "# Nous conservons les statistiques TWAS non calibrées dans un DF séparé.\n",
    "df_predixcan_uncal <- df_predixcan[, c(\"gene\", \"gene_name\", \"uncalibrated_zscore\", \"uncalibrated_pvalue\", \"pred_perf_r2\")]\n",
    "names(df_predixcan_uncal) <- c(\"ENSG\", \"gene_label\", \"Z_PREDIXCAN_NO_CALIB\", \"P_PREDIXCAN_NO_CALIB\", \"R2_PREDIXCAN\")\n",
    "\n",
    "df_predixcan <- df_predixcan[, c(\"gene\", \"gene_name\", \"zscore\", \"pvalue\", \"pred_perf_r2\")]\n",
    "names(df_predixcan) <- c(\"ENSG\", \"gene_label\", \"Z_PREDIXCAN\", \"P_PREDIXCAN\", \"R2_PREDIXCAN\")\n",
    "nrow(df_predixcan)"
   ]
  },
  {
   "cell_type": "code",
   "execution_count": null,
   "id": "6e6c9925-e733-457a-a8a7-cd07c678bef0",
   "metadata": {},
   "outputs": [],
   "source": [
    "df_fusion <- read.csv(\n",
    "    \"results/fusion_GTEx_pancreas.tsv\",\n",
    "    sep=\"\\t\",\n",
    "    stringsAsFactors=F\n",
    ")\n",
    "# Gardons seulement le modèle \"enet\" qui est la même approche de régression pénalisée\n",
    "# que pour S-PrediXcan afin de maximiser la comparabilité.\n",
    "df_fusion <- df_fusion[df_fusion$MODEL == \"enet\", ]\n",
    "df_fusion <- df_fusion[, c(\"ID\", \"TWAS.Z\", \"TWAS.P\", \"MODELCV.R2\")]\n",
    "df_fusion <- df_fusion[complete.cases(df_fusion), ]\n",
    "names(df_fusion) <- c(\"ENSG\", \"Z_FUSION\", \"P_FUSION\", \"R2_FUSION\")\n",
    "df_fusion$P_FUSION <- as.numeric(df_fusion$P_FUSION)\n",
    "df_fusion$Z_FUSION <- as.numeric(df_fusion$Z_FUSION)\n",
    "\n",
    "nrow(df_fusion)"
   ]
  },
  {
   "cell_type": "code",
   "execution_count": null,
   "id": "67e39c56-14aa-4795-a785-ff96acd9f062",
   "metadata": {},
   "outputs": [],
   "source": [
    "merged_uncalibrated <- merge(df_predixcan_uncal, df_fusion, by=\"ENSG\")\n",
    "merged <- merge(df_predixcan, df_fusion, by=\"ENSG\")\n",
    "nrow(merged)"
   ]
  },
  {
   "cell_type": "markdown",
   "id": "13279d53-52d1-4e29-9c24-0a455c5eac3a",
   "metadata": {},
   "source": "### Comparaison des résultats non calibrés : FUSION vs S-PrediXcan\n\nCommençons par comparer les valeurs P obtenues avec FUSION et S-PrediXcan **avant** la calibration pour la polygénicité. Cette première comparaison nous permettra d'observer la concordance brute entre les deux méthodes.\n\n#### Seuil de significativité\nNous utiliserons un seuil de significativité ajusté selon la correction de Bonferroni : **P ≤ 0,05 / 1058**, où 1058 représente le nombre total de gènes disponibles dans les résultats des deux algorithmes.\n\n**Interprétation du graphique :**\n- **Axe X :** -log₁₀(valeur P) pour FUSION\n- **Axe Y :** -log₁₀(valeur P) pour S-PrediXcan (non calibré)\n- **Ligne diagonale rouge :** Concordance parfaite entre les méthodes\n- **Lignes pointillées :** Seuil de significativité statistique"
  },
  {
   "cell_type": "code",
   "execution_count": null,
   "id": "d93be1b1-77fc-4227-a04b-1cd7da8496b3",
   "metadata": {},
   "outputs": [],
   "source": [
    "p_thresh <- -log10(0.05 / 1058)\n",
    "\n",
    "ggplot(merged_uncalibrated, aes(x = -log10(P_FUSION), y = -log10(P_PREDIXCAN_NO_CALIB))) +\n",
    "    geom_rect(aes(xmin = -Inf, xmax = p_thresh, ymin = p_thresh, ymax = Inf), \n",
    "              fill = \"#eff5ff\", inherit.aes = FALSE) +\n",
    "    geom_rect(aes(xmin = p_thresh, xmax = Inf, ymin = p_thresh, ymax = Inf), \n",
    "              fill = \"#ffeff5\", inherit.aes = FALSE) +\n",
    "    geom_rect(aes(xmin = p_thresh, xmax = Inf, ymin = -Inf, ymax = p_thresh), \n",
    "              fill = \"#f5ffef\", inherit.aes = FALSE) +\n",
    "    geom_point() +\n",
    "    geom_vline(xintercept = -log10(0.05 / 1058), linetype = \"dotted\", color = \"#888888\", size = 1) +\n",
    "    geom_hline(yintercept = -log10(0.05 / 1058), linetype = \"dotted\", color = \"#888888\", size = 1) +\n",
    "    geom_abline(intercept = 0, slope = 1, linetype = \"dashed\", color = \"red\") +\n",
    "    theme_bw()"
   ]
  },
  {
   "cell_type": "markdown",
   "id": "ac381b19-5877-49a9-9923-f1f7dc212120",
   "metadata": {},
   "source": "<div class=\"alert alert-info\">\n    <h4>Questions d'analyse critique</h4>\n    \n    <p><strong>Interprétation des régions colorées :</strong></p>\n    <p>Trois régions distinctes sont identifiées dans le graphique à l'aide de couleurs différentes. Analysez chacune de ces régions :</p>\n    <ul>\n        <li><strong>Région bleue :</strong> Que représentent les gènes dans cette zone ? Quelle méthode les identifie comme significatifs ?</li>\n        <li><strong>Région rose :</strong> Comment interpréter les gènes situés dans cette région ?</li>\n        <li><strong>Région verte :</strong> Qu'indique cette zone sur la performance comparative des méthodes ?</li>\n    </ul>\n    \n    <p><strong>Exercice pratique :</strong></p>\n    <p>En utilisant les données disponibles, identifiez des exemples concrets de gènes qui sont :</p>\n    <ul>\n        <li><strong>Significatifs avec les deux approches</strong> (concordance méthodologique)</li>\n        <li><strong>Significatifs uniquement avec FUSION</strong> (spécificité de la méthode)</li>\n        <li><strong>Significatifs uniquement avec S-PrediXcan</strong> (spécificité de la méthode)</li>\n    </ul>\n    \n    <p><strong>Réflexion méthodologique :</strong></p>\n    <p>Quelles conclusions peut-on tirer sur la concordance entre les différentes méthodes TWAS ? Ces différences sont-elles préoccupantes ou attendues ?</p>\n</div>"
  },
  {
   "cell_type": "code",
   "execution_count": null,
   "id": "f36babec-a26a-4014-862b-07becd08343e",
   "metadata": {},
   "outputs": [],
   "source": [
    "# Vous pouvez utiliser cette cellule pour explorer les données !"
   ]
  },
  {
   "cell_type": "markdown",
   "id": "14e8e09b-611a-4331-aa2f-8f7c9896bd26",
   "metadata": {},
   "source": "### Comparaison avec les résultats calibrés : Impact de l'ajustement pour la polygénicité\n\nNous répétons maintenant la même analyse comparative en utilisant les statistiques de S-PrediXcan qui ont été **calibrées pour la polygénicité**. Cette calibration est une caractéristique distinctive de S-PrediXcan qui vise à corriger l'inflation des statistiques due à la structure de déséquilibre de liaison.\n\n#### Concept clé : La calibration pour la polygénicité\n\nLa polygénicité (influence de multiples variants génétiques sur un trait) peut entraîner une inflation des statistiques TWAS. S-PrediXcan propose une méthode de calibration qui :\n- Ajuste les statistiques Z en tenant compte de la corrélation entre les prédicteurs génétiques\n- Réduit les faux positifs dus à la structure de déséquilibre de liaison\n- Fournit des valeurs P plus conservatrices et potentiellement plus fiables\n\n#### Questions de discussion\n\n<div class=\"alert alert-info\">\n    <h4>Analyse comparative approfondie</h4>\n    \n    <p><strong>Impact de la calibration :</strong></p>\n    <ul>\n        <li>Comment l'ajustement pour la polygénicité influence-t-il les valeurs P de S-PrediXcan ?</li>\n        <li>Observe-t-on un déplacement systématique des points par rapport au graphique précédent ?</li>\n        <li>Les résultats deviennent-ils plus ou moins significatifs après calibration ?</li>\n    </ul>\n    \n    <p><strong>Évaluation méthodologique :</strong></p>\n    <ul>\n        <li>À quelle approche devrait-on accorder plus de confiance : les résultats calibrés ou non calibrés ?</li>\n        <li>Comment cette calibration affecte-t-elle la concordance entre FUSION et S-PrediXcan ?</li>\n        <li>Quelles sont les implications pratiques pour l'interprétation des résultats TWAS ?</li>\n    </ul>\n    \n    <p><strong>Considérations pour la recherche :</strong></p>\n    <ul>\n        <li>Dans quels contextes serait-il préférable d'utiliser FUSION par rapport à S-PrediXcan ?</li>\n        <li>Comment ces différences méthodologiques influencent-elles les conclusions biologiques ?</li>\n    </ul>\n</div>\n\n**Note pratique :** Il est recommandé de comparer attentivement les deux graphiques pour identifier les gènes dont le statut de significativité change après calibration. Ces cas sont particulièrement informatifs pour comprendre l'impact de la correction pour la polygénicité."
  },
  {
   "cell_type": "code",
   "execution_count": null,
   "id": "79cdc2fd-4a89-4183-8037-40cf27053808",
   "metadata": {},
   "outputs": [],
   "source": [
    "p_thresh <- -log10(0.05 / 1058)\n",
    "\n",
    "ggplot(merged, aes(x = -log10(P_FUSION), y = -log10(P_PREDIXCAN))) +\n",
    "    geom_rect(aes(xmin = -Inf, xmax = p_thresh, ymin = p_thresh, ymax = Inf), \n",
    "              fill = \"#eff5ff\", inherit.aes = FALSE) +\n",
    "    geom_rect(aes(xmin = p_thresh, xmax = Inf, ymin = p_thresh, ymax = Inf), \n",
    "              fill = \"#ffeff5\", inherit.aes = FALSE) +\n",
    "    geom_rect(aes(xmin = p_thresh, xmax = Inf, ymin = -Inf, ymax = p_thresh), \n",
    "              fill = \"#f5ffef\", inherit.aes = FALSE) +\n",
    "    geom_point() +\n",
    "    geom_vline(xintercept = p_thresh, linetype = \"dotted\", color = \"#888888\", size = 1) +\n",
    "    geom_hline(yintercept = p_thresh, linetype = \"dotted\", color = \"#888888\", size = 1) +\n",
    "    geom_abline(intercept = 0, slope = 1, linetype = \"dashed\", color = \"red\") +\n",
    "    theme_bw()"
   ]
  }
 ],
 "metadata": {
  "kernelspec": {
   "display_name": "R",
   "language": "R",
   "name": "ir"
  },
  "language_info": {
   "codemirror_mode": "r",
   "file_extension": ".r",
   "mimetype": "text/x-r-source",
   "name": "R",
   "pygments_lexer": "r",
   "version": "4.3.1"
  }
 },
 "nbformat": 4,
 "nbformat_minor": 5
}