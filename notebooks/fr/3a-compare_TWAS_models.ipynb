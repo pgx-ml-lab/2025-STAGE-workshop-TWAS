{
 "cells": [
  {
   "cell_type": "markdown",
   "id": "717a4ae2-553c-40de-824b-789a709f81ac",
   "metadata": {},
   "source": [
    "# Atelier sur la génétique statistique et l'épidémiologie génétique STAGE-Québec\n",
    "## Thème 2 - Phénotypes moléculaires en épidémiologie génétique\n",
    "\n",
    "Par Marc-André Legault (Université de Montréal) et Qihuang Zhang (Université McGill)\n",
    "\n",
    "**31 juillet - 1er août 2025**\n",
    "\n",
    "### Comparaison des méthodologies TWAS : S-PrediXcan vs FUSION\n",
    "\n",
    "Ce carnet présente une analyse comparative examinant comment différentes méthodes TWAS (Transcriptome-Wide Association Study) peuvent donner des résultats variés quand appliquées au même jeu de données. Comprendre ces différences méthodologiques est essentiel pour interpréter les découvertes TWAS et sélectionner des approches analytiques appropriées pour les applications de recherche.\n",
    "\n",
    "**Approche analytique :**\n",
    "Nous avons mené des analyses TWAS parallèles des mêmes données d'expression génique pancréatique en utilisant deux méthodes établies :\n",
    "- **S-PrediXcan** : Employant des modèles Elastic Net avec ajustement de polygénicité\n",
    "- **FUSION** : Nous nous concentrons sur le modèle Elastic Net inclus pour une comparaison directe\n",
    "\n",
    "**Objectifs d'apprentissage :**\n",
    "À la fin de ce carnet, les participants comprendront :\n",
    "- Comment différentes méthodes TWAS peuvent produire des résultats différents à partir de données identiques\n",
    "- L'impact de la calibration de polygénicité sur la signification statistique\n",
    "- Les critères pour évaluer la fiabilité de différentes approches\n",
    "- Comment interpréter les résultats TWAS comparatifs dans des contextes de recherche\n",
    "\n",
    "Les fichiers de résultats des analyses précédentes sont stockés dans le répertoire checkpoints et peuvent être utilisés pour exécuter ce carnet."
   ]
  },
  {
   "cell_type": "code",
   "execution_count": null,
   "id": "21a20dfa-feff-4766-9951-c6d87654be37",
   "metadata": {},
   "outputs": [],
   "source": [
    "library(ggplot2)"
   ]
  },
  {
   "cell_type": "markdown",
   "id": "3eb1c765-a42d-46c0-a9d4-03fa3e732220",
   "metadata": {},
   "source": [
    "## Chargement et préparation des données\n",
    "\n",
    "Nous allons maintenant charger et préparer les résultats des deux approches TWAS pour une comparaison directe. Ce processus implique :\n",
    "\n",
    "1. **Chargement des résultats S-PrediXcan** : Incluant les statistiques calibrées et non calibrées\n",
    "2. **Chargement des résultats FUSION** : Filtrage pour les modèles Elastic Net pour correspondre à l'approche de S-PrediXcan\n",
    "3. **Fusion des jeux de données** : Combinaison des résultats par identifiant de gène pour l'analyse comparative\n",
    "\n",
    "Nous commençons par charger la bibliothèque de visualisation nécessaire et examiner nos données :"
   ]
  },
  {
   "cell_type": "code",
   "execution_count": null,
   "id": "f83ddfa1-480e-4613-a86a-2f06a4dd5b58",
   "metadata": {},
   "outputs": [],
   "source": [
    "df_predixcan <- read.csv(\"results/twas_en_Pancreas.csv\")\n",
    "\n",
    "# Nous gardons les statistiques TWAS non calibrées dans un DF séparé.\n",
    "df_predixcan_uncal <- df_predixcan[, c(\"gene\", \"gene_name\", \"uncalibrated_zscore\", \"uncalibrated_pvalue\", \"pred_perf_r2\")]\n",
    "names(df_predixcan_uncal) <- c(\"ENSG\", \"gene_label\", \"Z_PREDIXCAN_NO_CALIB\", \"P_PREDIXCAN_NO_CALIB\", \"R2_PREDIXCAN\")\n",
    "\n",
    "df_predixcan <- df_predixcan[, c(\"gene\", \"gene_name\", \"zscore\", \"pvalue\", \"pred_perf_r2\")]\n",
    "names(df_predixcan) <- c(\"ENSG\", \"gene_label\", \"Z_PREDIXCAN\", \"P_PREDIXCAN\", \"R2_PREDIXCAN\")\n",
    "nrow(df_predixcan)"
   ]
  },
  {
   "cell_type": "code",
   "execution_count": null,
   "id": "6e6c9925-e733-457a-a8a7-cd07c678bef0",
   "metadata": {},
   "outputs": [],
   "source": [
    "df_fusion <- read.csv(\n",
    "    \"results/fusion_GTEx_pancreas.tsv\",\n",
    "    sep=\"\\t\",\n",
    "    stringsAsFactors=F\n",
    ")\n",
    "# Garder seulement le modèle \"enet\" qui est la même approche de régression pénalisée\n",
    "# que pour S-PrediXcan pour maximiser la comparabilité.\n",
    "df_fusion <- df_fusion[df_fusion$MODEL == \"enet\", ]\n",
    "df_fusion <- df_fusion[, c(\"ID\", \"TWAS.Z\", \"TWAS.P\", \"MODELCV.R2\")]\n",
    "df_fusion <- df_fusion[complete.cases(df_fusion), ]\n",
    "names(df_fusion) <- c(\"ENSG\", \"Z_FUSION\", \"P_FUSION\", \"R2_FUSION\")\n",
    "df_fusion$P_FUSION <- as.numeric(df_fusion$P_FUSION)\n",
    "df_fusion$Z_FUSION <- as.numeric(df_fusion$Z_FUSION)\n",
    "\n",
    "nrow(df_fusion)"
   ]
  },
  {
   "cell_type": "code",
   "execution_count": null,
   "id": "67e39c56-14aa-4795-a785-ff96acd9f062",
   "metadata": {},
   "outputs": [],
   "source": [
    "merged_uncalibrated <- merge(df_predixcan_uncal, df_fusion, by=\"ENSG\")\n",
    "merged <- merge(df_predixcan, df_fusion, by=\"ENSG\")\n",
    "nrow(merged)"
   ]
  },
  {
   "cell_type": "markdown",
   "id": "13279d53-52d1-4e29-9c24-0a455c5eac3a",
   "metadata": {},
   "source": [
    "## Analyse comparative : Résultats non calibrés\n",
    "\n",
    "Nous commençons notre comparaison avec les résultats S-PrediXcan **non calibrés** versus FUSION. Cette comparaison est particulièrement informative car elle démontre la sortie statistique brute avant tout ajustement de polygénicité.\n",
    "\n",
    "**Aspects clés de cette comparaison :**\n",
    "- **Seuil de signification** : Correction de Bonferroni appliquée (P ≤ 0,05 / 1 058 gènes)\n",
    "- **Régions codées par couleur** : Le graphique divise les résultats en trois zones interprétatives\n",
    "- **Comparaison méthodologique directe** : Les deux méthodes utilisent des modèles Elastic Net sous-jacents identiques\n",
    "\n",
    "La visualisation ci-dessous illustre où les méthodes s'accordent, divergent, et les implications pour l'interprétation biologique :"
   ]
  },
  {
   "cell_type": "code",
   "execution_count": null,
   "id": "d93be1b1-77fc-4227-a04b-1cd7da8496b3",
   "metadata": {},
   "outputs": [],
   "source": [
    "p_thresh <- -log10(0.05 / 1058)\n",
    "\n",
    "ggplot(merged_uncalibrated, aes(x = -log10(P_FUSION), y = -log10(P_PREDIXCAN_NO_CALIB))) +\n",
    "    geom_rect(aes(xmin = -Inf, xmax = p_thresh, ymin = p_thresh, ymax = Inf), \n",
    "              fill = \"#eff5ff\", inherit.aes = FALSE) +\n",
    "    geom_rect(aes(xmin = p_thresh, xmax = Inf, ymin = p_thresh, ymax = Inf), \n",
    "              fill = \"#ffeff5\", inherit.aes = FALSE) +\n",
    "    geom_rect(aes(xmin = p_thresh, xmax = Inf, ymin = -Inf, ymax = p_thresh), \n",
    "              fill = \"#f5ffef\", inherit.aes = FALSE) +\n",
    "    geom_point() +\n",
    "    geom_vline(xintercept = -log10(0.05 / 1058), linetype = \"dotted\", color = \"#888888\", size = 1) +\n",
    "    geom_hline(yintercept = -log10(0.05 / 1058), linetype = \"dotted\", color = \"#888888\", size = 1) +\n",
    "    geom_abline(intercept = 0, slope = 1, linetype = \"dashed\", color = \"red\") +\n",
    "    theme_bw()"
   ]
  },
  {
   "cell_type": "markdown",
   "id": "ac381b19-5877-49a9-9923-f1f7dc212120",
   "metadata": {},
   "source": [
    "<div class=\"alert alert-info\">    \n",
    "<p><strong>Examinez les trois régions colorées dans le graphique ci-dessus :</strong></p>\n",
    "    \n",
    "<p><strong>Région bleue (haut-gauche) :</strong> Gènes significatifs seulement par S-PrediXcan\n",
    "    <br /><strong>Région rose (haut-droite) :</strong> Gènes significatifs par les deux méthodes  \n",
    "    <br /><strong>Région verte (bas-droite) :</strong> Gènes significatifs seulement par FUSION</p>\n",
    "    <p>\n",
    "    <strong>Questions de discussion :</strong>\n",
    "    <ul>\n",
    "        <li>Quelles sont les implications quand un gène tombe dans chaque région colorée ?</li>\n",
    "        <li>Pourquoi deux méthodes utilisant le même modèle sous-jacent pourraient-elles produire des résultats différents ?</li>\n",
    "        <li>Quels gènes fourniraient la preuve la plus forte pour des études de suivi ?</li>\n",
    "        <li>Comment les gènes peuvent-ils être significatifs dans une méthode mais pas l'autre ?</li>\n",
    "    </ul>\n",
    "    </p>\n",
    "    <p><strong>Exercice d'exploration de données :</strong> Utilisez la cellule d'exploration de données ci-dessous pour identifier des exemples spécifiques :</p>\n",
    "    <ul>\n",
    "        <li>Identifier un gène significatif dans les deux approches (région rose)</li>\n",
    "        <li>Trouver un gène significatif seulement dans FUSION (région verte)</li>\n",
    "        <li>Localiser un gène significatif seulement dans S-PrediXcan (région bleue)</li>\n",
    "    </ul>\n",
    "    <p><em>Considérez examiner les gènes avec les différences les plus extrêmes entre les méthodes et leur pertinence biologique potentielle au diabète.</em></p>\n",
    "</div>"
   ]
  },
  {
   "cell_type": "code",
   "execution_count": null,
   "id": "f36babec-a26a-4014-862b-07becd08343e",
   "metadata": {},
   "outputs": [],
   "source": [
    "# Vous pouvez utiliser cette cellule pour explorer les données !"
   ]
  },
  {
   "cell_type": "markdown",
   "id": "14e8e09b-611a-4331-aa2f-8f7c9896bd26",
   "metadata": {},
   "source": [
    "## L'impact de la calibration de polygénicité\n",
    "\n",
    "Nous examinons maintenant la comparaison entre **S-PrediXcan calibré versus FUSION**. Cette analyse révèle l'impact pratique de l'ajustement de polygénicité de S-PrediXcan—un développement méthodologique conçu pour tenir compte de la nature polygénique des traits complexes.\n",
    "\n",
    "**Méthodologie de calibration de polygénicité :**\n",
    "S-PrediXcan ajuste les statistiques de test pour tenir compte de l'architecture polygénique des traits complexes, où plusieurs gènes influencent simultanément des phénotypes tels que le diabète. Cette calibration peut substantiellement modifier quels gènes apparaissent statistiquement significatifs et vise à tenir compte des associations fallacieuses.\n",
    "\n",
    "**Effets attendus :**\n",
    "La calibration résulte typiquement en des inférences statistiques plus conservatrices dans S-PrediXcan, réduisant potentiellement les associations faussement positives tout en augmentant possiblement les faux négatifs. La comparaison ci-dessous démontre comment cet ajustement affecte nos résultats d'association au diabète.\n",
    "\n",
    "L'analyse suivante examine comment la calibration transforme nos résultats :"
   ]
  },
  {
   "cell_type": "code",
   "execution_count": null,
   "id": "79cdc2fd-4a89-4183-8037-40cf27053808",
   "metadata": {},
   "outputs": [],
   "source": [
    "p_thresh <- -log10(0.05 / 1058)\n",
    "\n",
    "ggplot(merged, aes(x = -log10(P_FUSION), y = -log10(P_PREDIXCAN))) +\n",
    "    geom_rect(aes(xmin = -Inf, xmax = p_thresh, ymin = p_thresh, ymax = Inf), \n",
    "              fill = \"#eff5ff\", inherit.aes = FALSE) +\n",
    "    geom_rect(aes(xmin = p_thresh, xmax = Inf, ymin = p_thresh, ymax = Inf), \n",
    "              fill = \"#ffeff5\", inherit.aes = FALSE) +\n",
    "    geom_rect(aes(xmin = p_thresh, xmax = Inf, ymin = -Inf, ymax = p_thresh), \n",
    "              fill = \"#f5ffef\", inherit.aes = FALSE) +\n",
    "    geom_point() +\n",
    "    geom_vline(xintercept = p_thresh, linetype = \"dotted\", color = \"#888888\", size = 1) +\n",
    "    geom_hline(yintercept = p_thresh, linetype = \"dotted\", color = \"#888888\", size = 1) +\n",
    "    geom_abline(intercept = 0, slope = 1, linetype = \"dashed\", color = \"red\") +\n",
    "    theme_bw()"
   ]
  },
  {
   "cell_type": "markdown",
   "id": "0d22b0d3-0b76-441a-8937-696b6f51a28c",
   "metadata": {},
   "source": [
    "<div class=\"alert alert-info\">\n",
    "    <h4>Questions analytiques clés :</h4>\n",
    "    <ul>\n",
    "        <li><strong>Ampleur de l'effet :</strong> Dans quelle mesure l'ajustement de polygénicité modifie-t-il les valeurs p ?</li>\n",
    "        <li><strong>Patron de changement :</strong> Tous les gènes sont-ils affectés uniformément, ou certains montrent-ils des changements plus substantiels ?</li>\n",
    "        <li><strong>Fiabilité méthodologique :</strong> Étant donné ces différences, quelle approche fournit une identification plus fiable des vraies associations gène-trait ?</li>\n",
    "        <li><strong>Considérations pratiques :</strong> Comment ces différences devraient-elles informer la sélection de méthodologie TWAS ?</li>\n",
    "    </ul>\n",
    "</div>"
   ]
  },
  {
   "cell_type": "markdown",
   "id": "bf28be02-ca4a-4e83-bb50-ebaa8bbfeff9",
   "metadata": {},
   "source": [
    "Répondez ici ! Vous pouvez aussi utiliser une autre cellule de code pour explorer les données."
   ]
  },
  {
   "cell_type": "code",
   "execution_count": null,
   "id": "011e91ce-c2e7-422f-9603-60143d90dc8f",
   "metadata": {},
   "outputs": [],
   "source": []
  }
 ],
 "metadata": {
  "kernelspec": {
   "display_name": "R",
   "language": "R",
   "name": "ir"
  },
  "language_info": {
   "codemirror_mode": "r",
   "file_extension": ".r",
   "mimetype": "text/x-r-source",
   "name": "R",
   "pygments_lexer": "r",
   "version": "4.0.0"
  }
 },
 "nbformat": 4,
 "nbformat_minor": 4
}