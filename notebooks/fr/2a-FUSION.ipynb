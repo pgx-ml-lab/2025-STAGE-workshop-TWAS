{
 "cells": [
  {
   "cell_type": "markdown",
   "id": "caa83ec8-1ddd-4222-88f7-f5c87e91a8f0",
   "metadata": {},
   "source": [
    "# Atelier sur la génétique statistique et l'épidémiologie génétique STAGE-Québec\n",
    "## Thème 2 - Phénotypes moléculaires en épidémiologie génétique\n",
    "\n",
    "Par Marc-André Legault (Université de Montréal) et Qihuang Zhang (Université McGill)\n",
    "\n",
    "**31 juillet - 1er août 2025**\n",
    "\n",
    "### Introduction\n",
    "\n",
    "Ce carnet présente la deuxième analyse TWAS (Transcriptome-Wide Association Study) utilisant **FUSION**, une approche alternative à la méthode S-PrediXcan démontrée précédemment. En appliquant FUSION aux mêmes statistiques sommaires GWAS, vous gagnerez de l'expérience avec différentes méthodologies TWAS et apprendrez à comparer leurs résultats respectifs.\n",
    "\n",
    "**Méthodologie FUSION** : FUSION emploie une approche bayésienne pour combiner plusieurs modèles de prédiction et fournit des métriques de qualité complètes pour chaque association gène-trait. Cette analyse complémentaire améliorera la compréhension de comment différentes méthodologies TWAS peuvent donner des insights variés à partir de données d'entrée identiques.\n",
    "\n",
    "### Comprendre la structure des données FUSION\n",
    "\n",
    "L'analyse utilise une organisation de données structurée qui facilite les analyses FUSION :\n",
    "\n",
    "<pre>\n",
    "/data/FUSION/\n",
    "├── gwas/      # Statistiques sommaires GWAS (données diabète de l'analyse précédente)\n",
    "├── ld/        # Panneaux de référence LD (population 1000 Genomes EUR)\n",
    "└── models/    # Modèles de prédiction d'expression génique pré-entraînés\n",
    "    ├── GTExv8_EUR_Pancreas/    # Modèles du tissu pancréas de GTEx\n",
    "    └── YFS_BLOOD_RNAARR/       # Modèles du tissu sanguin de Young Finns Study\n",
    "</pre>\n",
    "\n",
    "**Composantes :**\n",
    "- **Données GWAS** : Statistiques sommaires GWAS diabète analysées précédemment avec S-PrediXcan\n",
    "- **Référence LD** : Patrons de déséquilibre de liaison spécifiques à la population requis pour l'inférence statistique précise\n",
    "- **Modèles de prédiction** : Poids pré-entraînés pour estimer l'expression génique à partir des variants génétiques\n",
    "\n",
    "Chaque répertoire `models/` contient :\n",
    "- Fichiers `*.wgt.RDat` : Poids de prédiction pour les gènes individuels\n",
    "- Un fichier `.pos` : Liste maîtresse des gènes disponibles avec coordonnées génomiques\n",
    "\n",
    "### Exécution de FUSION : Analyse initiale avec les modèles de tissu sanguin\n",
    "\n",
    "La première analyse emploie des modèles d'expression génique du tissu **sang total** (Young Finns Study). Le tissu sanguin fournit une couverture large car il est facilement accessible et extensivement étudié.\n",
    "\n",
    "**Note computationnelle** : L'analyse traite tous les 22 autosomes, avec une déclaration de rupture après le chromosome 2 incluse pour l'efficacité temporelle. Les résultats génomiques complets sont disponibles pour examen, et l'analyse complète peut être exécutée en retirant la déclaration de rupture."
   ]
  },
  {
   "cell_type": "code",
   "execution_count": null,
   "id": "4950485e-ee07-4a09-8475-cf810d58d1aa",
   "metadata": {},
   "outputs": [],
   "source": [
    "%%bash\n",
    "for chrom in $(seq 1 22); do\n",
    "    Rscript /workshop/software/FUSION/FUSION.assoc_test.R \\\n",
    "        --sumstats /workshop/data/FUSION/gwas/Mahajan.NatGen2022.DIAMANTE-EUR.ldsc_ss.FUSION_ref.tsv \\\n",
    "        --weights /workshop/data/FUSION/models/YFS_BLOOD_RNAARR/YFS.BLOOD.RNAARR.pos \\\n",
    "        --weights_dir /workshop/data/FUSION/models/YFS_BLOOD_RNAARR/ \\\n",
    "        --ref_ld_chr /workshop/data/FUSION/ld/1000G.EUR. \\\n",
    "        --chr $chrom \\\n",
    "        --out results/fusion_YFS_$chrom.tsv\n",
    "        \n",
    "    if (( $chrom > 2 )); then\n",
    "        # Commentez la ligne ci-dessous pour exécuter tous les chromosomes,\n",
    "        # sinon seulement les deux premiers seront utilisés.\n",
    "        break\n",
    "    fi\n",
    "done"
   ]
  },
  {
   "cell_type": "markdown",
   "id": "af88575b-0fe5-45f8-a727-f505fc92c5e7",
   "metadata": {},
   "source": [
    "### Comparaison de tissus : Analyse du pancréas GTEx\n",
    "\n",
    "L'analyse subséquente emploie des modèles de prédiction du tissu **pancréas** utilisant les données GTEx. Ceci fournit une opportunité de comparaison directe parce que l'analyse utilise les mêmes données d'expression du pancréas GTEx qui supportaient l'analyse S-PrediXcan."
   ]
  },
  {
   "cell_type": "code",
   "execution_count": null,
   "id": "02f55b80-b224-4880-bcce-77ccbcba624e",
   "metadata": {},
   "outputs": [],
   "source": [
    "%%bash\n",
    "for chrom in $(seq 1 22); do\n",
    "    Rscript /workshop/software/FUSION/FUSION.assoc_test.R \\\n",
    "        --sumstats /workshop/data/FUSION/gwas/Mahajan.NatGen2022.DIAMANTE-EUR.ldsc_ss.FUSION_ref.tsv \\\n",
    "        --weights /workshop/data/FUSION/models/GTExv8_EUR_Pancreas/GTExv8.EUR.Pancreas.pos \\\n",
    "        --weights_dir /workshop/data/FUSION/models/GTExv8_EUR_Pancreas \\\n",
    "        --ref_ld_chr /workshop/data/FUSION/ld/1000G.EUR. \\\n",
    "        --chr $chrom \\\n",
    "        --out results/fusion_GTEx_pancreas_$chrom.tsv\n",
    "        \n",
    "    if (( $chrom > 2 )); then\n",
    "        # Commentez la ligne ci-dessous pour exécuter tous les chromosomes,\n",
    "        # sinon seulement les deux premiers seront utilisés.\n",
    "        break\n",
    "    fi\n",
    "done"
   ]
  },
  {
   "cell_type": "markdown",
   "id": "e4c6a45b-32e5-4008-a8ec-5267867083cf",
   "metadata": {},
   "source": [
    "### Organisation des résultats pour l'analyse\n",
    "\n",
    "Pour une analyse complète, les résultats spécifiques aux chromosomes devraient être combinés en fichiers uniques. Le code suivant démontre comment fusionner les sorties spécifiques aux chromosomes, bien qu'il soit commenté pour cette session d'atelier qui se concentre sur un sous-ensemble de chromosomes."
   ]
  },
  {
   "cell_type": "code",
   "execution_count": null,
   "id": "ac2ff95b-3307-420a-ba42-89b0ff498500",
   "metadata": {},
   "outputs": [],
   "source": [
    "%%bash\n",
    "# Fusionner les fichiers (GTEx Pancréas).\n",
    "# cp results/fusion_GTEx_pancreas_1.tsv results/fusion_GTEx_pancreas.tsv\n",
    "# for chrom in $(seq 2 22); do\n",
    "#     cat results/fusion_GTEx_pancreas_${chrom}.tsv | sed 1d >> results/fusion_GTEx_pancreas.tsv\n",
    "# done\n",
    "#\n",
    "# Fusionner les fichiers (YFS).\n",
    "# cp results/fusion_YFS_1.tsv results/fusion_YFS.tsv\n",
    "# for chrom in $(seq 2 22); do\n",
    "#     cat results/fusion_YFS_${chrom}.tsv | sed 1d >> results/fusion_YFS.tsv\n",
    "# done"
   ]
  },
  {
   "cell_type": "markdown",
   "id": "590c3885-40db-426f-8306-913542bd4e4b",
   "metadata": {},
   "source": [
    "### Structure de sortie FUSION : Interprétation des résultats\n",
    "\n",
    "L'analyse FUSION génère des résultats TWAS en format de valeurs séparées par tabulations (TSV). Comprendre la structure de sortie est essentiel pour l'analyse en aval et l'interprétation. La commande suivante examine les en-têtes de colonnes :"
   ]
  },
  {
   "cell_type": "code",
   "execution_count": null,
   "id": "db25013f-eba4-498f-bd28-51b980621e14",
   "metadata": {},
   "outputs": [],
   "source": [
    "%%bash\n",
    "head -n 1 /workshop/local/results/fusion_GTEx_pancreas_1.tsv | tr '\\t' '\\n' | nl"
   ]
  },
  {
   "cell_type": "markdown",
   "id": "c462cd15-ca1c-450d-9f00-c72cefbcf896",
   "metadata": {},
   "source": [
    "### Interprétation de la sortie FUSION : Métriques clés\n",
    "\n",
    "Comprendre les colonnes de sortie de FUSION est essentiel pour une interprétation appropriée des résultats. Les métriques les plus importantes incluent :\n",
    "\n",
    "**Résultats TWAS primaires :**\n",
    "- **TWAS.Z, TWAS.P** : Statistiques d'association gène-trait centrales - scores Z et valeurs P\n",
    "- **ID** : Identifiant de gène (le format varie selon le jeu de données - peut être des symboles de gènes ou des ID Ensembl)\n",
    "\n",
    "**Métriques d'évaluation de qualité :**\n",
    "- **MODELCV.R2** : R² de validation croisée indiquant à quel point les variants génétiques prédisent l'expression génique (valeurs plus élevées indiquent une plus grande fiabilité)\n",
    "- **MODELCV.PV** : Valeur P pour la performance du modèle de prédiction\n",
    "- **NSNP, NWGT** : Nombre de SNP utilisés et nombre avec des poids non-zéro\n",
    "\n",
    "**Contexte additionnel :**\n",
    "- **BEST.GWAS.Z** : Signal GWAS individuel le plus fort dans la région du gène (pour comparaison avec le signal TWAS)\n",
    "- **EQTL.R2** : Capacité prédictive du top eQTL pour l'expression\n",
    "- **HSQ** : Estimation d'héritabilité pour l'expression génique\n",
    "\n",
    "Exemple de résultats démontrant ces métriques :"
   ]
  },
  {
   "cell_type": "code",
   "execution_count": null,
   "id": "e49d7d2a-13ab-486d-aa34-07b842f8270e",
   "metadata": {},
   "outputs": [],
   "source": [
    "%%bash\n",
    "awk '{print $1, $4, $5, $9, $10, $11, $19, $20}' /workshop/local/results/fusion_GTEx_pancreas_1.tsv | head"
   ]
  },
  {
   "cell_type": "code",
   "execution_count": null,
   "id": "b75430ea-d44d-4eba-b8e9-0e0723e34824",
   "metadata": {},
   "outputs": [],
   "source": [
    "%%bash\n",
    "wc -l ./results/fusion_GTEx_pancreas.tsv\n",
    "wc -l ./results/fusion_YFS.tsv"
   ]
  },
  {
   "cell_type": "markdown",
   "id": "8086f23d-78b1-40a4-a103-c7495f22bad6",
   "metadata": {},
   "source": [
    "<div class=\"alert alert-info\">\n",
    "<h4>Exercice d'analyse 1 : Évaluation de la signification pangénomique</h4>\n",
    "\n",
    "<strong>Objectif :</strong> Identifier les gènes atteignant la signification pangénomique en utilisant la correction de Bonferroni dans les deux types de tissus.\n",
    "\n",
    "<strong>Tâches :</strong>\n",
    "1. Calculer le seuil de signification : 0,05 divisé par le nombre de gènes testés par tissu\n",
    "2. Quantifier les gènes répondant à ce critère strict dans chaque tissu\n",
    "3. Évaluer les implications pour les effets génétiques spécifiques aux tissus versus partagés\n",
    "\n",
    "<strong>Méthode :</strong> Utiliser les comptes de lignes montrés ci-dessus pour déterminer le nombre total de gènes testés, puis appliquer le filtrage approprié.\n",
    "\n",
    "<!--\n",
    "Solution:\n",
    "awk 'NR == 1 || $20 <= 0.05/5765 { print $3, $19, $20 }' results/fusion_GTEx_pancreas.tsv\n",
    "awk 'NR == 1 || $20 <= 0.05/4628 { print $3, $19, $20 }' results/fusion_YFS.tsv\n",
    "\n",
    "# 119 significatifs pour GTEx pancréas\n",
    "# 85 significatifs pour YFS\n",
    "//-->\n",
    "\n",
    "</div>"
   ]
  },
  {
   "cell_type": "code",
   "execution_count": null,
   "id": "8c8892e8-1bff-42de-9935-e1a314c5bb70",
   "metadata": {},
   "outputs": [],
   "source": []
  },
  {
   "cell_type": "markdown",
   "id": "09a361f5-37a5-4664-b64b-18fefacf07ed",
   "metadata": {},
   "source": [
    "<div class=\"alert alert-info\">\n",
    "<h4>Exercice d'analyse 2 : Évaluation de la qualité du modèle</h4>\n",
    "\n",
    "<strong>Objectif :</strong> Évaluer comment MODELCV.R2 devrait influencer la confiance dans les résultats TWAS.\n",
    "\n",
    "<strong>Considérations :</strong>\n",
    "- Interprétation des valeurs R² faibles (par ex., 0,01) concernant la fiabilité du signal TWAS\n",
    "- Évaluation des valeurs TWAS.P hautement significatives quand MODELCV.R2 est faible\n",
    "- Établissement de seuils R² raisonnables pour le filtrage des résultats\n",
    "- Facteurs biologiques qui peuvent contribuer à une précision de prédiction faible pour certains gènes\n",
    "</div>"
   ]
  },
  {
   "cell_type": "code",
   "execution_count": null,
   "id": "c11ae4cf-eb8b-4c49-b36a-463b4c4981fe",
   "metadata": {},
   "outputs": [],
   "source": []
  },
  {
   "cell_type": "markdown",
   "id": "f578b27a-75a7-461d-8e9d-216c20f62cbd",
   "metadata": {},
   "source": [
    "<div class=\"alert alert-info\">\n",
    "<h4>Exercice d'analyse 3 : Patrons d'association spécifiques aux tissus</h4>\n",
    "\n",
    "**Objectif :** Évaluer les patrons différentiels d'association génique entre les tissus sanguins et pancréatiques et leurs implications pour la biologie du diabète.\n",
    "\n",
    "**Domaines d'investigation :**\n",
    "1. **Associations partagées** : Identifier les gènes avec des associations significatives dans les deux tissus et évaluer la cohérence de direction d'effet\n",
    "2. **Associations spécifiques aux tissus** : Déterminer les gènes significatifs dans seulement un tissu et évaluer les facteurs explicatifs potentiels\n",
    "3. **Comparaison d'ampleur d'effet** : Pour les gènes significatifs dans les deux tissus, comparer les forces d'association\n",
    "4. **Interprétation biologique** : Évaluer si les patrons spécifiques aux tissus s'alignent avec la pathophysiologie établie du diabète\n",
    "\n",
    "**Approches analytiques :**\n",
    "- Générer des graphiques de dispersion comparant les scores TWAS.Z entre les tissus\n",
    "- Évaluer les différences systématiques dans la qualité du modèle de prédiction (MODELCV.R2) entre les tissus\n",
    "\n",
    "</div>"
   ]
  },
  {
   "cell_type": "markdown",
   "id": "326f1a9e-68fb-4d7f-ba03-ec143e141aa4",
   "metadata": {},
   "source": [
    "### Prochaines étapes\n",
    "\n",
    "Dans le [prochain carnet](3a-compare_TWAS_models.ipynb), nous comparerons les résultats de TWAS et S-PrediXcan et explorerons leur sensibilité et spécificité."
   ]
  }
 ],
 "metadata": {
  "kernelspec": {
   "display_name": "Bash",
   "language": "bash",
   "name": "bash"
  },
  "language_info": {
   "codemirror_mode": "shell",
   "file_extension": ".sh",
   "mimetype": "text/x-sh",
   "name": "bash"
  }
 },
 "nbformat": 4,
 "nbformat_minor": 4
}