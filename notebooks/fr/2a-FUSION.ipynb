{
 "cells": [
  {
   "cell_type": "markdown",
   "id": "caa83ec8-1ddd-4222-88f7-f5c87e91a8f0",
   "metadata": {},
   "source": [
    "# Atelier sur la génétique statistique et l'épidémiologie génétique STAGE-Québec\n",
    "## Thème 2 - Phénotypes moléculaires en épidémiologie génétique\n",
    "\n",
    "Par Marc-André Legault (Université de Montréal) et Qihuang Zhang (Université McGill)\n",
    "\n",
    "**31 juillet - 1er août 2025**\n",
    "\n",
    "### Introduction\n",
    "\n",
    "Dans ce cahier, nous utiliserons un deuxième logiciel TWAS appelé FUSION sur les mêmes statistiques sommaires GWAS. Ceci nous permettra de comprendre comment exécuter le logiciel FUSION, et de comparer les résultats avec S-PrediXcan qui est le thème de la 3e section.\n",
    "\n",
    "### Exploration des données\n",
    "\n",
    "La structure de fichiers pour les données FUSION incluses dans ce cahier est la suivante :\n",
    "<pre>\n",
    "/data/FUSION/\n",
    "├── gwas/      # Statistiques sommaires GWAS\n",
    "├── ld/        # Panels de référence LD (1000 Genomes EUR)\n",
    "└── models/    # Modèles de poids d'expression génique\n",
    "    ├── GTExv8_EUR_Pancreas/\n",
    "    └── YFS_BLOOD_RNAARR/\n",
    "</pre>\n",
    "\n",
    "Chaque sous-dossier ``models/`` contient :\n",
    "\n",
    "- Des fichiers de modèles de poids *.wgt.RDat\n",
    "- Un fichier .pos listant tous les gènes disponibles\n",
    "\n",
    "### Exécution du logiciel\n",
    "\n",
    "Le code ci-dessous appellera FUSION pour le premier modèle de prédiction d'expression génique. Ce modèle a été dérivé de l'expression génique dans le sang total de l'étude Young Finns Study. La boucle appellera FUSION pour chaque chromosome. Pour des raisons computationnelles, vous pourriez vouloir exécuter seulement les deux premiers chromosomes. Si vous voulez exécuter tout le transcriptome, vous pouvez commenter l'instruction ``break`` en ajoutant le signe dièse au début de la ligne (``# break``).\n",
    "\n",
    "Nous avons préparé un point de contrôle avec les résultats complets pour économiser les ressources computationnelles."
   ]
  },
  {
   "cell_type": "code",
   "execution_count": null,
   "id": "4950485e-ee07-4a09-8475-cf810d58d1aa",
   "metadata": {},
   "outputs": [],
   "source": [
    "for chrom in $(seq 1 22); do\n",
    "    Rscript /workshop/software/FUSION/FUSION.assoc_test.R \\\n",
    "        --sumstats /workshop/data/FUSION/gwas/Mahajan.NatGen2022.DIAMANTE-EUR.ldsc_ss.FUSION_ref.tsv \\\n",
    "        --weights /workshop/data/FUSION/models/YFS_BLOOD_RNAARR/YFS.BLOOD.RNAARR.pos \\\n",
    "        --weights_dir /workshop/data/FUSION/models/YFS_BLOOD_RNAARR/ \\\n",
    "        --ref_ld_chr /workshop/data/FUSION/ld/1000G.EUR. \\\n",
    "        --chr $chrom \\\n",
    "        --out results/fusion_YFS_$chrom.tsv\n",
    "        \n",
    "    if (( $chrom > 2 )); then\n",
    "        # Commentez la ligne ci-dessous pour exécuter tous les chromosomes,\n",
    "        # sinon seulement les deux premiers seront utilisés.\n",
    "        break\n",
    "    fi\n",
    "done"
   ]
  },
  {
   "cell_type": "markdown",
   "id": "af88575b-0fe5-45f8-a727-f505fc92c5e7",
   "metadata": {},
   "source": [
    "Maintenant, nous pouvons aussi exécuter FUSION avec des poids estimés à partir de GTEx (pancréas). Les mêmes données GTEx ont été utilisées pour le modèle S-PrediXcan que nous avons précédemment exécuté. Ce sera un point de comparaison entre les deux approches."
   ]
  },
  {
   "cell_type": "code",
   "execution_count": null,
   "id": "02f55b80-b224-4880-bcce-77ccbcba624e",
   "metadata": {},
   "outputs": [],
   "source": [
    "for chrom in $(seq 1 22); do\n",
    "    Rscript /workshop/software/FUSION/FUSION.assoc_test.R \\\n",
    "        --sumstats /workshop/data/FUSION/gwas/Mahajan.NatGen2022.DIAMANTE-EUR.ldsc_ss.FUSION_ref.tsv \\\n",
    "        --weights /workshop/data/FUSION/models/GTExv8_EUR_Pancreas/GTExv8.EUR.Pancreas.pos \\\n",
    "        --weights_dir /workshop/data/FUSION/models/GTExv8_EUR_Pancreas \\\n",
    "        --ref_ld_chr /workshop/data/FUSION/ld/1000G.EUR. \\\n",
    "        --chr $chrom \\\n",
    "        --out results/fusion_GTEx_pancreas_$chrom.tsv\n",
    "        \n",
    "    if (( $chrom > 2 )); then\n",
    "        # Commentez la ligne ci-dessous pour exécuter tous les chromosomes,\n",
    "        # sinon seulement les deux premiers seront utilisés.\n",
    "        break\n",
    "    fi\n",
    "done"
   ]
  },
  {
   "cell_type": "markdown",
   "id": "e4c6a45b-32e5-4008-a8ec-5267867083cf",
   "metadata": {},
   "source": [
    "Pour plus de commodité, vous pouvez combiner les résultats en un seul fichier."
   ]
  },
  {
   "cell_type": "code",
   "execution_count": null,
   "id": "ac2ff95b-3307-420a-ba42-89b0ff498500",
   "metadata": {},
   "outputs": [],
   "source": [
    "# Fusionner les fichiers (GTEx Pancréas).\n",
    "# cp results/fusion_GTEx_pancreas_1.tsv results/fusion_GTEx_pancreas.tsv\n",
    "# for chrom in $(seq 2 22); do\n",
    "#     cat results/fusion_GTEx_pancreas_${chrom}.tsv | sed 1d >> results/fusion_GTEx_pancreas.tsv\n",
    "# done\n",
    "#\n",
    "# Fusionner les fichiers (YFS).\n",
    "# cp results/fusion_YFS_1.tsv results/fusion_YFS.tsv\n",
    "# for chrom in $(seq 2 22); do\n",
    "#     cat results/fusion_YFS_${chrom}.tsv | sed 1d >> results/fusion_YFS.tsv\n",
    "# done"
   ]
  },
  {
   "cell_type": "markdown",
   "id": "590c3885-40db-426f-8306-913542bd4e4b",
   "metadata": {},
   "source": [
    "Maintenant que nous avons des résultats TWAS, vous pouvez ouvrir un fichier de résultats en double-cliquant dessus dans le navigateur de fichiers. Vous devriez voir un fichier TSV avec ces colonnes :"
   ]
  },
  {
   "cell_type": "code",
   "execution_count": null,
   "id": "db25013f-eba4-498f-bd28-51b980621e14",
   "metadata": {},
   "outputs": [],
   "source": [
    "head -n 1 /workshop/local/results/fusion_GTEx_pancreas_1.tsv | tr '\\t' '\\n' | nl"
   ]
  },
  {
   "cell_type": "markdown",
   "id": "c462cd15-ca1c-450d-9f00-c72cefbcf896",
   "metadata": {},
   "source": [
    "### Explication des résultats\n",
    "\n",
    "Chaque fichier de sortie contiendra :\n",
    "\n",
    "- TWAS.Z, TWAS.P : Scores Z et valeurs p pour les associations gène-trait imputées\n",
    "- MODELCV.R2, MODELCV.PV : Performance prédictive par validation croisée du modèle\n",
    "- Best.GWAS.Z : Signal SNP GWAS le plus fort dans la région\n",
    "\n",
    "Voici un extrait de fichier :"
   ]
  },
  {
   "cell_type": "code",
   "execution_count": null,
   "id": "e49d7d2a-13ab-486d-aa34-07b842f8270e",
   "metadata": {},
   "outputs": [],
   "source": [
    "awk '{print $1, $4, $5, $9, $10, $11, $19, $20}' /workshop/local/results/fusion_GTEx_pancreas_1.tsv | head"
   ]
  },
  {
   "cell_type": "code",
   "execution_count": null,
   "id": "b75430ea-d44d-4eba-b8e9-0e0723e34824",
   "metadata": {},
   "outputs": [],
   "source": [
    "wc -l ./results/fusion_GTEx_pancreas.tsv\n",
    "wc -l ./results/fusion_YFS.tsv"
   ]
  },
  {
   "cell_type": "markdown",
   "id": "8086f23d-78b1-40a4-a103-c7495f22bad6",
   "metadata": {},
   "source": [
    "<div class=\"alert alert-info\">\n",
    "Pouvez-vous identifier les gènes dans les deux tissus qui atteignent un seuil de significativité Bonferroni à l'échelle du tissu de 0,05 / # de gènes testés par tissu ? Combien y en a-t-il ?\n",
    "\n",
    "<!--\n",
    "Solution:\n",
    "awk 'NR == 1 || $20 <= 0.05/5765 { print $3, $19, $20 }' results/fusion_GTEx_pancreas.tsv\n",
    "awk 'NR == 1 || $20 <= 0.05/4628 { print $3, $19, $20 }' results/fusion_YFS.tsv\n",
    "\n",
    "# 119 significatifs pour GTEx pancréas\n",
    "# 85 significatifs pour YFS\n",
    "//-->\n",
    "\n",
    "</div>"
   ]
  },
  {
   "cell_type": "code",
   "execution_count": null,
   "id": "8c8892e8-1bff-42de-9935-e1a314c5bb70",
   "metadata": {},
   "outputs": [],
   "source": []
  },
  {
   "cell_type": "markdown",
   "id": "09a361f5-37a5-4664-b64b-18fefacf07ed",
   "metadata": {},
   "source": [
    "<div class=\"alert alert-info\">\n",
    "Comment MODELCV.R2 affecte-t-il votre confiance ?\n",
    "</div>"
   ]
  },
  {
   "cell_type": "code",
   "execution_count": null,
   "id": "c11ae4cf-eb8b-4c49-b36a-463b4c4981fe",
   "metadata": {},
   "outputs": [],
   "source": []
  },
  {
   "cell_type": "markdown",
   "id": "f578b27a-75a7-461d-8e9d-216c20f62cbd",
   "metadata": {},
   "source": [
    "<div class=\"alert alert-info\">\n",
    "Certains signaux géniques sont-ils plus forts dans un tissu que dans un autre ?\n",
    "</div>"
   ]
  },
  {
   "cell_type": "code",
   "execution_count": null,
   "id": "44931ebe-3f7e-46b7-9f75-11234f1d7669",
   "metadata": {},
   "outputs": [],
   "source": []
  }
 ],
 "metadata": {
  "kernelspec": {
   "display_name": "Bash",
   "language": "bash",
   "name": "bash"
  },
  "language_info": {
   "codemirror_mode": "shell",
   "file_extension": ".sh",
   "mimetype": "text/x-sh",
   "name": "bash"
  }
 },
 "nbformat": 4,
 "nbformat_minor": 5
}