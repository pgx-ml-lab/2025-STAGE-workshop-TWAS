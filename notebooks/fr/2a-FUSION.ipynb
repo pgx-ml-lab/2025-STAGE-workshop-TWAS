{
 "cells": [
  {
   "cell_type": "markdown",
   "id": "caa83ec8-1ddd-4222-88f7-f5c87e91a8f0",
   "metadata": {},
   "source": "# Atelier sur la génétique statistique et l'épidémiologie génétique STAGE-Québec\n## Thème 2 - Phénotypes moléculaires en épidémiologie génétique\n\nPar Marc-André Legault (Université de Montréal) et Qihuang Zhang (Université McGill)\n\n**31 juillet - 1er août 2025**\n\n### Introduction\n\nCe cahier présente l'utilisation d'une deuxième approche TWAS, **FUSION**, appliquée aux mêmes statistiques sommaires GWAS que précédemment. Cette analyse comparative permet de :\n\n1. Comprendre le fonctionnement et l'exécution de FUSION\n2. Comparer les résultats avec ceux obtenus par S-PrediXcan \n3. Analyser les similitudes et différences entre ces deux méthodes TWAS\n\nFUSION (Functional Summary-based ImputatiON) constitue une alternative méthodologique à S-PrediXcan, utilisant une approche différente pour l'imputation de l'expression génique et l'analyse d'association. Cette comparaison offre une perspective élargie des outils TWAS disponibles.\n\n### Organisation des données\n\nLa structure de fichiers pour les données FUSION utilisées dans ce cahier est organisée comme suit :\n\n<pre>\n/data/FUSION/\n├── gwas/      # Statistiques sommaires GWAS (format spécifique à FUSION)\n├── ld/        # Panneaux de référence de déséquilibre de liaison (1000 Genomes EUR)\n└── models/    # Modèles de pondération de l'expression génique\n    ├── GTExv8_EUR_Pancreas/    # Modèles dérivés du pancréas (GTEx v8)\n    └── YFS_BLOOD_RNAARR/       # Modèles dérivés du sang (Young Finns Study)\n</pre>\n\n**Contenu de chaque dossier de modèles :**\n\nChaque sous-dossier `models/` contient :\n- Des fichiers de modèles de pondération `*.wgt.RDat` (un par chromosome)\n- Un fichier `.pos` répertoriant tous les gènes disponibles avec leurs coordonnées génomiques\n\nCette organisation facilite l'analyse par chromosome et permet une gestion efficace des ressources computationnelles.\n\n### Exécution de FUSION\n\nL'analyse débute avec le premier modèle de prédiction d'expression génique, entraîné à partir de données d'expression génique dans le sang total de la cohorte **Young Finns Study (YFS)**.\n\nLe code ci-dessous exécute FUSION chromosome par chromosome. **Note importante :** Pour des raisons de temps de calcul et de ressources, l'analyse est limitée aux deux premiers chromosomes. Pour analyser le transcriptome complet, il suffit de désactiver la limitation en commentant l'instruction `break` (ajout de `#` au début de la ligne).\n\n*Un point de contrôle avec les résultats complets a été préparé pour économiser les ressources computationnelles lors de l'atelier.*"
  },
  {
   "cell_type": "code",
   "execution_count": null,
   "id": "4950485e-ee07-4a09-8475-cf810d58d1aa",
   "metadata": {},
   "outputs": [],
   "source": [
    "for chrom in $(seq 1 22); do\n",
    "    Rscript /workshop/software/FUSION/FUSION.assoc_test.R \\\n",
    "        --sumstats /workshop/data/FUSION/gwas/Mahajan.NatGen2022.DIAMANTE-EUR.ldsc_ss.FUSION_ref.tsv \\\n",
    "        --weights /workshop/data/FUSION/models/YFS_BLOOD_RNAARR/YFS.BLOOD.RNAARR.pos \\\n",
    "        --weights_dir /workshop/data/FUSION/models/YFS_BLOOD_RNAARR/ \\\n",
    "        --ref_ld_chr /workshop/data/FUSION/ld/1000G.EUR. \\\n",
    "        --chr $chrom \\\n",
    "        --out results/fusion_YFS_$chrom.tsv\n",
    "        \n",
    "    if (( $chrom > 2 )); then\n",
    "        # Commentez la ligne ci-dessous pour exécuter tous les chromosomes,\n",
    "        # sinon seulement les deux premiers seront utilisés.\n",
    "        break\n",
    "    fi\n",
    "done"
   ]
  },
  {
   "cell_type": "markdown",
   "id": "af88575b-0fe5-45f8-a727-f505fc92c5e7",
   "metadata": {},
   "source": "### Analyse comparative avec les modèles GTEx (pancréas)\n\nL'analyse suivante utilise des modèles de pondération estimés à partir des données **GTEx v8 (pancréas)**. Ces modèles présentent une pertinence particulière pour l'étude du diabète, le pancréas étant l'organe central dans la régulation de la glycémie.\n\n**Comparaison méthodologique :** Ces données GTEx sont identiques à celles utilisées pour créer les modèles S-PrediXcan analysés précédemment. Cette approche permet une comparaison directe des deux méthodes TWAS (FUSION vs S-PrediXcan) en utilisant les mêmes données de référence d'expression génique, isolant ainsi les différences méthodologiques entre les deux approches."
  },
  {
   "cell_type": "code",
   "execution_count": null,
   "id": "02f55b80-b224-4880-bcce-77ccbcba624e",
   "metadata": {},
   "outputs": [],
   "source": [
    "for chrom in $(seq 1 22); do\n",
    "    Rscript /workshop/software/FUSION/FUSION.assoc_test.R \\\n",
    "        --sumstats /workshop/data/FUSION/gwas/Mahajan.NatGen2022.DIAMANTE-EUR.ldsc_ss.FUSION_ref.tsv \\\n",
    "        --weights /workshop/data/FUSION/models/GTExv8_EUR_Pancreas/GTExv8.EUR.Pancreas.pos \\\n",
    "        --weights_dir /workshop/data/FUSION/models/GTExv8_EUR_Pancreas \\\n",
    "        --ref_ld_chr /workshop/data/FUSION/ld/1000G.EUR. \\\n",
    "        --chr $chrom \\\n",
    "        --out results/fusion_GTEx_pancreas_$chrom.tsv\n",
    "        \n",
    "    if (( $chrom > 2 )); then\n",
    "        # Commentez la ligne ci-dessous pour exécuter tous les chromosomes,\n",
    "        # sinon seulement les deux premiers seront utilisés.\n",
    "        break\n",
    "    fi\n",
    "done"
   ]
  },
  {
   "cell_type": "markdown",
   "id": "e4c6a45b-32e5-4008-a8ec-5267867083cf",
   "metadata": {},
   "source": "### Consolidation des résultats\n\nPour faciliter l'analyse downstream et la comparaison entre chromosomes, il est possible de consolider tous les résultats en un seul fichier par tissu. Le code ci-dessous est commenté mais peut être activé si nécessaire :"
  },
  {
   "cell_type": "code",
   "execution_count": null,
   "id": "ac2ff95b-3307-420a-ba42-89b0ff498500",
   "metadata": {},
   "outputs": [],
   "source": [
    "# Fusionner les fichiers (GTEx Pancréas).\n",
    "# cp results/fusion_GTEx_pancreas_1.tsv results/fusion_GTEx_pancreas.tsv\n",
    "# for chrom in $(seq 2 22); do\n",
    "#     cat results/fusion_GTEx_pancreas_${chrom}.tsv | sed 1d >> results/fusion_GTEx_pancreas.tsv\n",
    "# done\n",
    "#\n",
    "# Fusionner les fichiers (YFS).\n",
    "# cp results/fusion_YFS_1.tsv results/fusion_YFS.tsv\n",
    "# for chrom in $(seq 2 22); do\n",
    "#     cat results/fusion_YFS_${chrom}.tsv | sed 1d >> results/fusion_YFS.tsv\n",
    "# done"
   ]
  },
  {
   "cell_type": "markdown",
   "id": "590c3885-40db-426f-8306-913542bd4e4b",
   "metadata": {},
   "source": "### Structure des résultats\n\nL'examen de la structure des résultats TWAS générés constitue l'étape suivante. Les fichiers peuvent être ouverts en double-cliquant dans le navigateur de fichiers, ou via la commande ci-dessous pour examiner les en-têtes de colonnes :\n\nLes fichiers de sortie FUSION contiennent plusieurs colonnes informatives organisées de manière systématique :"
  },
  {
   "cell_type": "code",
   "execution_count": null,
   "id": "db25013f-eba4-498f-bd28-51b980621e14",
   "metadata": {},
   "outputs": [],
   "source": [
    "head -n 1 /workshop/local/results/fusion_GTEx_pancreas_1.tsv | tr '\\t' '\\n' | nl"
   ]
  },
  {
   "cell_type": "markdown",
   "id": "c462cd15-ca1c-450d-9f00-c72cefbcf896",
   "metadata": {},
   "source": "### Interprétation des résultats FUSION\n\n**Colonnes principales des fichiers de sortie :**\n\n- **TWAS.Z, TWAS.P** : Score Z et valeur p pour l'association gène-trait imputée (statistiques principales TWAS)\n- **MODELCV.R2, MODELCV.PV** : Performance prédictive du modèle évaluée par validation croisée (R² et valeur p)\n- **Best.GWAS.Z** : Signal SNP GWAS le plus fort dans la région génique (pour évaluer la colinéarité)\n\n**Éléments d'interprétation :**\n\n1. **TWAS.P** constitue la statistique principale d'association gène-trait\n2. **MODELCV.R2** indique la qualité prédictive du modèle (valeur élevée = fiabilité accrue)\n3. **Best.GWAS.Z** permet de distinguer les signaux géniques des signaux SNP directs\n\nL'extrait formaté ci-dessous facilite l'interprétation des résultats :"
  },
  {
   "cell_type": "code",
   "execution_count": null,
   "id": "e49d7d2a-13ab-486d-aa34-07b842f8270e",
   "metadata": {},
   "outputs": [],
   "source": [
    "awk '{print $1, $4, $5, $9, $10, $11, $19, $20}' /workshop/local/results/fusion_GTEx_pancreas_1.tsv | head"
   ]
  },
  {
   "cell_type": "code",
   "execution_count": null,
   "id": "b75430ea-d44d-4eba-b8e9-0e0723e34824",
   "metadata": {},
   "outputs": [],
   "source": [
    "wc -l ./results/fusion_GTEx_pancreas.tsv\n",
    "wc -l ./results/fusion_YFS.tsv"
   ]
  },
  {
   "cell_type": "markdown",
   "id": "8086f23d-78b1-40a4-a103-c7495f22bad6",
   "metadata": {},
   "source": "<div class=\"alert alert-info\">\n<strong>Exercice pratique 1 : Correction multiple et significativité</strong>\n\nIdentifiez les gènes dans chaque tissu qui atteignent le seuil de significativité après correction de Bonferroni à l'échelle du tissu (α = 0,05 / nombre de gènes testés par tissu).\n\n**Questions d'analyse :**\n1. Combien de gènes significatifs sont identifiés dans chaque tissu ?\n2. Quelle différence observe-t-on dans le nombre de découvertes entre les deux tissus ?\n3. Cette différence reflète-t-elle la pertinence biologique des tissus pour le diabète ?\n\n**Méthode :** Utilisez les commandes `awk` et `wc -l` pour compter le nombre total de gènes testés, puis identifiez ceux qui atteignent le seuil ajusté.\n\n<!--\nSolution:\nawk 'NR == 1 || $20 <= 0.05/5765 { print $3, $19, $20 }' results/fusion_GTEx_pancreas.tsv\nawk 'NR == 1 || $20 <= 0.05/4628 { print $3, $19, $20 }' results/fusion_YFS.tsv\n\n# 119 significatifs pour GTEx pancréas\n# 85 significatifs pour YFS\n//-->\n\n</div>"
  },
  {
   "cell_type": "code",
   "execution_count": null,
   "id": "8c8892e8-1bff-42de-9935-e1a314c5bb70",
   "metadata": {},
   "outputs": [],
   "source": []
  },
  {
   "cell_type": "markdown",
   "id": "09a361f5-37a5-4664-b64b-18fefacf07ed",
   "metadata": {},
   "source": "<div class=\"alert alert-info\">\n<strong>Exercice pratique 2 : Évaluation de la qualité des modèles</strong>\n\nExaminez la distribution des valeurs **MODELCV.R2** dans les résultats obtenus.\n\n**Questions d'analyse :**\n1. Comment la performance prédictive (R²) du modèle influence-t-elle la confiance dans les associations TWAS identifiées ?\n2. Un filtrage des résultats selon un seuil minimal de R² serait-il approprié ? Si oui, quel seuil pourrait être appliqué ?\n3. Existe-t-il une corrélation entre la significativité TWAS et la qualité du modèle de prédiction ?\n\n**Approche analytique :** Créez des histogrammes des valeurs R² et examinez la relation entre R² et significativité TWAS.\n</div>"
  },
  {
   "cell_type": "code",
   "execution_count": null,
   "id": "c11ae4cf-eb8b-4c49-b36a-463b4c4981fe",
   "metadata": {},
   "outputs": [],
   "source": []
  },
  {
   "cell_type": "markdown",
   "id": "f578b27a-75a7-461d-8e9d-216c20f62cbd",
   "metadata": {},
   "source": "<div class=\"alert alert-info\">\n<strong>Exercice pratique 3 : Comparaison inter-tissus</strong>\n\nComparez les signaux géniques entre les deux tissus analysés (pancréas vs sang).\n\n**Questions d'investigation :**\n1. Certains signaux géniques présentent-ils une intensité variable selon le tissu ?\n2. Quels gènes montrent des associations significatives dans les deux tissus ?\n3. Comment interpréter les différences observées d'un point de vue biologique ?\n\n**Approches analytiques :**\n- Identifiez les gènes communs entre les deux analyses\n- Comparez les scores Z TWAS pour les gènes partagés\n- Analysez les implications biologiques des différences tissulaires\n\n**Perspective :** Cette comparaison constitue une préparation à la comparaison entre FUSION et S-PrediXcan dans la section suivante.\n</div>"
  },
  {
   "cell_type": "code",
   "execution_count": null,
   "id": "44931ebe-3f7e-46b7-9f75-11234f1d7669",
   "metadata": {},
   "outputs": [],
   "source": []
  }
 ],
 "metadata": {
  "kernelspec": {
   "display_name": "Bash",
   "language": "bash",
   "name": "bash"
  },
  "language_info": {
   "codemirror_mode": "shell",
   "file_extension": ".sh",
   "mimetype": "text/x-sh",
   "name": "bash"
  }
 },
 "nbformat": 4,
 "nbformat_minor": 5
}