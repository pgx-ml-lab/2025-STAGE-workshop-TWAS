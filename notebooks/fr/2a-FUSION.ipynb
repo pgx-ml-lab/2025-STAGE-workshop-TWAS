{
 "cells": [
  {
   "cell_type": "markdown",
   "metadata": {},
   "source": [
    "# Atelier de Formation en Statistique Génétique et Épidémiologie Génétique STAGE-Québec\n",
    "## Thème 2 - Phénotypes moléculaires en épidémiologie génétique\n",
    "\n",
    "Par Marc-André Legault (Université de Montréal) et Qihuang Zhang (Université McGill)\n",
    "\n",
    "**31 juillet - 1er août 2025**\n",
    "\n",
    "### Introduction\n",
    "\n",
    "Ce carnet présente la deuxième analyse TWAS (Transcriptome-Wide Association Study) utilisant **FUSION**, une approche alternative à la méthode S-PrediXcan démontrée précédemment. En appliquant FUSION aux mêmes statistiques sommaires GWAS, vous gagnerez de l'expérience avec différentes méthodologies TWAS et apprendrez à comparer leurs résultats respectifs.\n",
    "\n",
    "### Comprendre la structure des données FUSION\n",
    "\n",
    "L'analyse utilise une organisation de données structurée qui facilite les analyses FUSION :\n",
    "\n",
    "<pre>\n",
    "/data/FUSION/\n",
    "├── gwas/      # Statistiques sommaires GWAS (données diabète de l'analyse précédente)\n",
    "├── ld/        # Référence LD (population 1000 Genomes EUR)\n",
    "└── models/    # Modèles de prédiction d'expression génique pré-entraînés\n",
    "    ├── GTExv8_EUR_Pancreas/    # Modèles du tissu pancréas de GTEx\n",
    "    └── YFS_BLOOD_RNAARR/       # Modèles du tissu sanguin de Young Finns Study\n",
    "</pre>\n",
    "\n",
    "**Composantes :**\n",
    "- **Données GWAS** : Statistiques sommaires GWAS diabète analysées précédemment avec S-PrediXcan\n",
    "- **Référence LD** : Patrons de déséquilibre de liaison spécifiques à la population\n",
    "- **Modèles de prédiction** : Poids pré-entraînés pour estimer l'expression génique à partir des variants génétiques\n",
    "\n",
    "Chaque répertoire `models/` contient :\n",
    "- Fichiers `*.wgt.RDat` : Poids de prédiction pour les gènes individuels\n",
    "- Un fichier `.pos` : Liste maîtresse des gènes disponibles avec coordonnées génomiques\n",
    "\n",
    "### Exécution de FUSION : Analyse initiale avec les modèles de tissu sanguin\n",
    "\n",
    "La première analyse emploie des modèles d'expression génique du tissu **sang total** (Young Finns Study). Le tissu sanguin fournit une couverture large car il est facilement accessible et fréquemment étudié.\n",
    "\n",
    "**Note computationnelle** : L'analyse traite tous les 22 autosomes, avec une déclaration de rupture après le chromosome 2 incluse pour l'efficacité temporelle. Les résultats génomiques complets sont disponibles pour examen, et l'analyse complète peut être exécutée en retirant la déclaration de rupture (_break_)."
   ]
  },
  {
   "cell_type": "code",
   "execution_count": 1,
   "metadata": {
    "tags": []
   },
   "outputs": [
    {
     "name": "stdout",
     "output_type": "stream",
     "text": [
      "WARNING :  YFS.BLOOD.RNAARR/YFS.S100PBP.wgt.RDat S100PBP 1 33282368 33324476 had 268 overlapping SNPs, but none with non-zero expression weights, try more SNPS or a different model\n",
      "WARNING :  YFS.BLOOD.RNAARR/YFS.ISG20L2.wgt.RDat ISG20L2 1 156691683 156698591 had 432 overlapping SNPs, but none with non-zero expression weights, try more SNPS or a different model\n",
      "Analysis completed.\n",
      "NOTE: 2 / 476 genes were skipped\n",
      "Analysis completed.\n",
      "NOTE: 0 / 322 genes were skipped\n",
      "Analysis completed.\n",
      "NOTE: 0 / 293 genes were skipped\n"
     ]
    }
   ],
   "source": [
    "for chrom in $(seq 1 22); do\n",
    "    Rscript /workshop/software/FUSION/FUSION.assoc_test.R \\\n",
    "        --sumstats /workshop/data/FUSION/gwas/Mahajan.NatGen2022.DIAMANTE-EUR.ldsc_ss.FUSION_ref.tsv \\\n",
    "        --weights /workshop/data/FUSION/models/YFS_BLOOD_RNAARR/YFS.BLOOD.RNAARR.pos \\\n",
    "        --weights_dir /workshop/data/FUSION/models/YFS_BLOOD_RNAARR/ \\\n",
    "        --ref_ld_chr /workshop/data/FUSION/ld/1000G.EUR. \\\n",
    "        --chr $chrom \\\n",
    "        --out /workshop/local/results/fusion_YFS_$chrom.tsv\n",
    "        \n",
    "    if (( $chrom > 2 )); then\n",
    "        # Commentez la ligne ci-dessous pour exécuter tous les chromosomes,\n",
    "        # sinon seulement les deux premiers seront utilisés.\n",
    "        break\n",
    "    fi\n",
    "done"
   ]
  },
  {
   "cell_type": "markdown",
   "metadata": {},
   "source": [
    "### Comparaison de tissus : Analyse du pancréas GTEx\n",
    "\n",
    "L'analyse subséquente emploie des modèles de prédiction du tissu **pancréas** utilisant les données GTEx. Ceci fournit une opportunité de comparaison directe parce que l'analyse utilise les mêmes données d'expression du pancréas GTEx qui supportaient l'analyse S-PrediXcan."
   ]
  },
  {
   "cell_type": "code",
   "execution_count": 2,
   "metadata": {
    "tags": []
   },
   "outputs": [
    {
     "name": "stdout",
     "output_type": "stream",
     "text": [
      "WARNING :  GTExv8.EUR.Pancreas GTExv8.EUR.Pancreas/ENSG00000269713.7.wgt.RDat ENSG00000269713.7 1 149103560 149103561 243 had 2 / 3 non-overlapping GWAS Z-scores, skipping this gene.\n",
      "WARNING :  GTExv8.EUR.Pancreas GTExv8.EUR.Pancreas/ENSG00000274265.4.wgt.RDat ENSG00000274265.4 1 149176021 149176022 243 had 2 / 3 non-overlapping GWAS Z-scores, skipping this gene.\n",
      "WARNING :  GTExv8.EUR.Pancreas GTExv8.EUR.Pancreas/ENSG00000215861.5.wgt.RDat ENSG00000215861.5 1 149321731 149321732 243 had mean GWAS Z-score imputation r2 of 0.6850275 at expression weight SNPs, skipping this gene.\n",
      "Analysis completed.\n",
      "NOTE: 3 / 538 genes were skipped\n",
      "Analysis completed.\n",
      "NOTE: 0 / 420 genes were skipped\n",
      "Analysis completed.\n",
      "NOTE: 0 / 340 genes were skipped\n"
     ]
    }
   ],
   "source": [
    "for chrom in $(seq 1 22); do\n",
    "    Rscript /workshop/software/FUSION/FUSION.assoc_test.R \\\n",
    "        --sumstats /workshop/data/FUSION/gwas/Mahajan.NatGen2022.DIAMANTE-EUR.ldsc_ss.FUSION_ref.tsv \\\n",
    "        --weights /workshop/data/FUSION/models/GTExv8_EUR_Pancreas/GTExv8.EUR.Pancreas.pos \\\n",
    "        --weights_dir /workshop/data/FUSION/models/GTExv8_EUR_Pancreas \\\n",
    "        --ref_ld_chr /workshop/data/FUSION/ld/1000G.EUR. \\\n",
    "        --chr $chrom \\\n",
    "        --out /workshop/local/results/fusion_GTEx_pancreas_$chrom.tsv\n",
    "        \n",
    "    if (( $chrom > 2 )); then\n",
    "        # Commentez la ligne ci-dessous pour exécuter tous les chromosomes,\n",
    "        # sinon seulement les deux premiers seront utilisés.\n",
    "        break\n",
    "    fi\n",
    "done"
   ]
  },
  {
   "cell_type": "markdown",
   "metadata": {},
   "source": [
    "### Organisation des résultats pour l'analyse\n",
    "\n",
    "Pour une analyse complète, les résultats spécifiques aux chromosomes devraient être combinés en fichiers uniques. Le code suivant démontre comment fusionner les sorties spécifiques aux chromosomes, bien qu'il soit commenté pour cette session d'atelier qui se concentre sur un sous-ensemble de chromosomes."
   ]
  },
  {
   "cell_type": "code",
   "execution_count": 4,
   "metadata": {},
   "outputs": [],
   "source": [
    "# Fusionner les fichiers (GTEx Pancréas).\n",
    "# cp results/fusion_GTEx_pancreas_1.tsv results/fusion_GTEx_pancreas.tsv\n",
    "# for chrom in $(seq 2 22); do\n",
    "#     cat results/fusion_GTEx_pancreas_${chrom}.tsv | sed 1d >> results/fusion_GTEx_pancreas.tsv\n",
    "# done\n",
    "#\n",
    "# Fusionner les fichiers (YFS).\n",
    "# cp results/fusion_YFS_1.tsv results/fusion_YFS.tsv\n",
    "# for chrom in $(seq 2 22); do\n",
    "#     cat results/fusion_YFS_${chrom}.tsv | sed 1d >> results/fusion_YFS.tsv\n",
    "# done"
   ]
  },
  {
   "cell_type": "markdown",
   "metadata": {},
   "source": [
    "### Structure de sortie FUSION : Interprétation des résultats\n",
    "\n",
    "L'analyse FUSION génère des résultats TWAS en format de valeurs séparées par tabulations (TSV). Comprendre la structure de sortie est essentiel pour l'analyse en aval et l'interprétation. La commande suivante examine les en-têtes de colonnes :"
   ]
  },
  {
   "cell_type": "code",
   "execution_count": 5,
   "metadata": {},
   "outputs": [
    {
     "name": "stdout",
     "output_type": "stream",
     "text": [
      "     1\tPANEL\n",
      "     2\tFILE\n",
      "     3\tID\n",
      "     4\tCHR\n",
      "     5\tP0\n",
      "     6\tP1\n",
      "     7\tHSQ\n",
      "     8\tBEST.GWAS.ID\n",
      "     9\tBEST.GWAS.Z\n",
      "    10\tEQTL.ID\n",
      "    11\tEQTL.R2\n",
      "    12\tEQTL.Z\n",
      "    13\tEQTL.GWAS.Z\n",
      "    14\tNSNP\n",
      "    15\tNWGT\n",
      "    16\tMODEL\n",
      "    17\tMODELCV.R2\n",
      "    18\tMODELCV.PV\n",
      "    19\tTWAS.Z\n",
      "    20\tTWAS.P\n"
     ]
    }
   ],
   "source": [
    "head -n 1 /workshop/local/results/fusion_GTEx_pancreas_1.tsv | tr '\\t' '\\n' | nl"
   ]
  },
  {
   "cell_type": "markdown",
   "metadata": {},
   "source": [
    "### Interprétation de la sortie FUSION : Métriques clés\n",
    "\n",
    "Comprendre les colonnes de sortie de FUSION est essentiel pour une interprétation appropriée des résultats. Les métriques les plus importantes incluent :\n",
    "\n",
    "**Résultats TWAS primaires :**\n",
    "- **TWAS.Z, TWAS.P** : Statistiques d'association gène-trait centrales - scores Z et valeurs P\n",
    "- **ID** : Identifiant de gène (le format varie selon le jeu de données - peut être des symboles de gènes ou des ID Ensembl)\n",
    "\n",
    "**Métriques d'évaluation de qualité :**\n",
    "- **MODELCV.R2** : R² de validation croisée indiquant à quel point les variants génétiques prédisent l'expression génique (valeurs plus élevées indiquent une plus grande fiabilité)\n",
    "- **MODELCV.PV** : Valeur P pour la performance du modèle de prédiction\n",
    "- **NSNP, NWGT** : Nombre de SNP utilisés et nombre avec des poids non-zéro\n",
    "\n",
    "**Contexte additionnel :**\n",
    "- **BEST.GWAS.Z** : Signal GWAS individuel le plus fort dans la région du gène (pour comparaison avec le signal TWAS)\n",
    "- **EQTL.R2** : Capacité prédictive du top eQTL pour l'expression\n",
    "- **HSQ** : Estimation d'héritabilité pour l'expression génique\n",
    "\n",
    "Exemple de résultats démontrant ces métriques :"
   ]
  },
  {
   "cell_type": "code",
   "execution_count": 6,
   "metadata": {},
   "outputs": [
    {
     "name": "stdout",
     "output_type": "stream",
     "text": [
      "PANEL CHR P0 BEST.GWAS.Z EQTL.ID EQTL.R2 TWAS.Z TWAS.P\n",
      "GTExv8.EUR.Pancreas 1 959308 3.180 rs3748595 0.107999 1.15827 2.47e-01\n",
      "GTExv8.EUR.Pancreas 1 966496 3.180 rs604618 -0.004009 0.34623 7.29e-01\n",
      "GTExv8.EUR.Pancreas 1 998050 3.180 rs3128117 0.391529 0.69014 4.90e-01\n",
      "GTExv8.EUR.Pancreas 1 1063287 3.180 rs9442372 0.156418 -0.12335 9.02e-01\n",
      "GTExv8.EUR.Pancreas 1 1116360 3.180 rs4275402 -0.001403 -0.91489 3.60e-01\n",
      "GTExv8.EUR.Pancreas 1 1324690 3.180 rs2765021 0.100828 -3.00972 2.61e-03\n",
      "GTExv8.EUR.Pancreas 1 1407312 3.180 rs35242196 0.152516 -0.73636 4.62e-01\n",
      "GTExv8.EUR.Pancreas 1 1421768 3.180 rs12089560 0.120587 1.47945 1.39e-01\n",
      "GTExv8.EUR.Pancreas 1 1422468 3.180 rs12089560 0.114774 0.98098 3.27e-01\n"
     ]
    }
   ],
   "source": [
    "awk '{print $1, $4, $5, $9, $10, $11, $19, $20}' /workshop/local/results/fusion_GTEx_pancreas_1.tsv | head"
   ]
  },
  {
   "cell_type": "code",
   "execution_count": 8,
   "metadata": {},
   "outputs": [
    {
     "name": "stdout",
     "output_type": "stream",
     "text": [
      "5766 /workshop/local/results/fusion_GTEx_pancreas.tsv\n",
      "4629 /workshop/local/results/fusion_YFS.tsv\n"
     ]
    }
   ],
   "source": [
    "wc -l /workshop/local/results/fusion_GTEx_pancreas.tsv\n",
    "wc -l /workshop/local/results/fusion_YFS.tsv"
   ]
  },
  {
   "cell_type": "markdown",
   "metadata": {},
   "source": [
    "<div class=\"alert alert-info\">\n",
    "<h4>Exercice d'analyse 1 : Évaluation de la significativité</h4>\n",
    "\n",
    "<strong>Objectif :</strong> Identifier les gènes significativement associés au DT2 dans les deux types de tissus en utilisant la correction de Bonferroni.\n",
    "\n",
    "<strong>Tâches :</strong>\n",
    "1. Calculer le seuil de signification : 0,05 divisé par le nombre de gènes testés par tissu\n",
    "2. Quantifier les gènes répondant à ce critère strict dans chaque tissu\n",
    "3. Évaluer les implications pour les effets génétiques spécifiques aux tissus versus partagés\n",
    "\n",
    "<strong>Méthode :</strong> Utiliser les comptes de lignes montrés ci-dessus pour déterminer le nombre total de gènes testés, puis appliquer le filtrage approprié.\n",
    "\n",
    "<!--\n",
    "Solution:\n",
    "awk 'NR == 1 || $20 <= 0.05/5765 { print $3, $19, $20 }' results/fusion_GTEx_pancreas.tsv\n",
    "awk 'NR == 1 || $20 <= 0.05/4628 { print $3, $19, $20 }' results/fusion_YFS.tsv\n",
    "\n",
    "# 119 significatifs pour GTEx pancréas\n",
    "# 85 significatifs pour YFS\n",
    "//-->\n",
    "\n",
    "</div>"
   ]
  },
  {
   "cell_type": "code",
   "execution_count": null,
   "metadata": {},
   "outputs": [],
   "source": []
  },
  {
   "cell_type": "markdown",
   "metadata": {},
   "source": [
    "<div class=\"alert alert-info\">\n",
    "<h4>Exercice d'analyse 2 : Évaluation de la qualité du modèle</h4>\n",
    "\n",
    "<strong>Objectif :</strong> Évaluer comment MODELCV.R2 devrait influencer la confiance dans les résultats TWAS.\n",
    "\n",
    "<strong>Considérations :</strong>\n",
    "- Interprétation des valeurs R² faibles (par ex., 0,01) concernant la fiabilité du signal TWAS\n",
    "- Évaluation des valeurs TWAS.P hautement significatives quand MODELCV.R2 est faible\n",
    "- Établissement de seuils R² raisonnables pour le filtrage des résultats\n",
    "- Facteurs biologiques qui peuvent contribuer à une précision de prédiction faible pour certains gènes\n",
    "</div>"
   ]
  },
  {
   "cell_type": "code",
   "execution_count": null,
   "metadata": {},
   "outputs": [],
   "source": []
  },
  {
   "cell_type": "markdown",
   "metadata": {},
   "source": [
    "<div class=\"alert alert-info\">\n",
    "<h4>Exercice d'analyse 3 : Patrons d'association spécifiques aux tissus</h4>\n",
    "\n",
    "**Objectif :** Évaluer les patrons différentiels d'association génique entre les tissus sanguins et pancréatiques et leurs implications pour la biologie du diabète.\n",
    "\n",
    "**Domaines d'investigation :**\n",
    "1. **Associations partagées** : Identifier les gènes avec des associations significatives dans les deux tissus et évaluer la cohérence de direction d'effet\n",
    "2. **Associations spécifiques aux tissus** : Déterminer les gènes significatifs dans seulement un tissu et évaluer les facteurs explicatifs potentiels\n",
    "3. **Comparaison de la taille d'effet** : Pour les gènes significatifs dans les deux tissus, comparer la taille de l'effet\n",
    "4. **Interprétation biologique** : Évaluer si les patrons spécifiques aux tissus s'alignent avec la pathophysiologie établie du diabète\n",
    "\n",
    "**Approches analytiques :**\n",
    "- Générer des graphiques en nuage à points comparant les scores TWAS.Z entre les tissus\n",
    "- Évaluer les différences systématiques dans la qualité du modèle de prédiction (MODELCV.R2) entre les tissus\n",
    "\n",
    "</div>"
   ]
  },
  {
   "cell_type": "markdown",
   "metadata": {},
   "source": [
    "### Prochaines étapes\n",
    "\n",
    "Dans le [prochain carnet](3a-compare_TWAS_models.ipynb), nous comparerons les résultats de TWAS et S-PrediXcan et explorerons leur sensibilité et spécificité."
   ]
  }
 ],
 "metadata": {
  "kernelspec": {
   "display_name": "Bash",
   "language": "bash",
   "name": "bash"
  },
  "language_info": {
   "codemirror_mode": "shell",
   "file_extension": ".sh",
   "mimetype": "text/x-sh",
   "name": "bash"
  }
 },
 "nbformat": 4,
 "nbformat_minor": 4
}
