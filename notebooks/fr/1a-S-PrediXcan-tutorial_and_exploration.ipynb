{
 "cells": [
  {
   "cell_type": "markdown",
   "metadata": {
    "tags": []
   },
   "source": [
    "# Atelier de Formation en Statistique Génétique et Épidémiologie Génétique STAGE-Québec\n",
    "## Thème 2 - Phénotypes moléculaires en épidémiologie génétique\n",
    "\n",
    "Par Marc-André Legault (Université de Montréal) et Qihuang Zhang (Université McGill)\n",
    "\n",
    "**31 juillet - 1er août 2025**\n",
    "\n",
    "### Introduction\n",
    "\n",
    "Cet atelier offre une introduction aux études d'association du transcriptome imputé (TWAS). Nous démontrerons comment identifier les gènes du diabète de type 2 (DT2) en testant l'association entre l'expression génique prédite dans divers tissus et le risque de DT2.\n",
    "\n",
    "Nous utiliserons des données réelles provenant d'une méta-analyse à grande échelle impliquant 180 834 cas de DT2 et plus d'un million de témoins de [Mahajan _et al._ (2022)](https://www.nature.com/articles/s41588-022-01058-3). Ce sont des statistiques sommaires de haute qualité qui représentent les standards actuels en épidémiologie génétique.\n",
    "\n",
    "Cet atelier couvrira deux approches TWAS établies :\n",
    "- **[S-PrediXcan](https://www.nature.com/articles/s41467-018-03621-1)**\n",
    "- **[TWAS FUSION](https://www.nature.com/articles/ng.3506)**\n",
    "\n",
    "Les statistiques sommaires GWAS ont été harmonisées pour correspondre aux modèles de prédiction d'expression génique. Nous avons créé un ensemble ciblé de tissus provenant de GTEx pour équilibrer l'exhaustivité et l'efficacité computationnelle.\n",
    "\n",
    "### Structure de l'atelier\n",
    "\n",
    "L'atelier est organisé en trois sections interconnectées :\n",
    "\n",
    "1. **S-PrediXcan** (ce carnet) - Fondements du TWAS basé sur les statistiques sommaires utilisant S-PrediXcan.\n",
    "2. **TWAS / FUSION** [(lien)](2a-FUSION.ipynb) - Un deuxième logiciel pour effectuer des TWAS.\n",
    "3. **Comparaison des méthodes** [(lien)](3a-compare_TWAS_models.ipynb) - Analyse comparative des résultats.\n",
    "\n",
    "**Navigation :** Utilisez l'explorateur de fichiers dans le panneau de gauche pour explorer tous les matériaux de l'atelier et explorer les différents tutoriels.\n",
    "\n",
    "<div class=\"alert alert-warning\">\n",
    "    <p>\n",
    "    <strong>Important :</strong> Le dossier <strong>local</strong> est partagé avec votre ordinateur—tout le reste disparaîtra quand vous fermerez le serveur. Sauvegardez votre travail et vos résultats importants dans ce dossier.\n",
    "    </p>\n",
    "    <p>\n",
    "    Le dossier « local » dans cet environnement se trouve sur votre ordinateur, dans votre répertoire personnel :<br/>\n",
    "    • Windows : <code>C:\\Users\\[votre nom d'utilisateur]\\STAGE2025_workshop_theme2</code><br/>\n",
    "    • macOS/Linux : <code>/Users/[votre nom d'utilisateur]/STAGE2025_workshop_theme2</code>\n",
    "    </p>\n",
    "</div>\n",
    "\n",
    "Nous commencerons par explorer S-PrediXcan et l'appliquer à nos données GWAS préparées pour investiguer l'architecture génétique du diabète de type 2."
   ]
  },
  {
   "cell_type": "markdown",
   "metadata": {
    "tags": []
   },
   "source": [
    "### Exploration des statistiques sommaires GWAS\n",
    "\n",
    "Avant d'exécuter S-PrediXcan, nous examinerons nos données d'entrée. Comprendre la structure et le contenu des statistiques sommaires GWAS est essentiel pour toute analyse TWAS.\n",
    "\n",
    "Nos statistiques sommaires GWAS ont été harmonisées avec les modèles [PredictDB](https://predictdb.hakyimlab.org/)—les modèles standards de prédiction d'expression génique qui accompagnent S-PrediXcan. Cette harmonisation assure que les noms de variants, le codage des allèles et les coordonnées génomiques sont alignés entre nos données GWAS et les modèles de prédiction.\n",
    "\n",
    "**Note :** Cette étape d'harmonisation est critique car les incohérences dans la nomenclature des variants ou le codage des allèles peuvent mener à des résultats incorrects ou à des associations manquées.\n",
    "\n",
    "Examinons la structure des données, qui suit un format cohérent dans tous les tissus :"
   ]
  },
  {
   "cell_type": "code",
   "execution_count": 1,
   "metadata": {},
   "outputs": [
    {
     "name": "stdout",
     "output_type": "stream",
     "text": [
      "Examen du fichier /workshop/data/PrediXcan/gwas_harmonized/harmonized_en_Whole_Blood.tsv.gz\n",
      "Numéros de colonnes et titres :\n",
      "     1\tchromosome\n",
      "     2\tbase_pair_location\n",
      "     3\teffect_allele\n",
      "     4\tother_allele\n",
      "     5\tbeta\n",
      "     6\tstandard_error\n",
      "     7\teffect_allele_frequency\n",
      "     8\tneg_log_10_p_value\n",
      "     9\trsid_x\n",
      "    10\tvariant_id\n",
      "    11\tpredictdb_id\n",
      "    12\trsid_y\n",
      "\n",
      "Extrait du fichier :\n",
      "chromosome\tbase_pair_location\teffect_allele\tother_allele\tbeta\tstandard_error\trsid_x\n",
      "chr1\t785910\tC\tG\t-0.0176\t0.0262\trs12565286\n",
      "chr1\t817186\tA\tG\t0.0048\t0.0098\trs3094315\n",
      "chr1\t817341\tG\tA\t0.0045\t0.0097\trs3131972\n",
      "chr1\t825532\tT\tC\t0.0069\t0.0099\trs1048488\n",
      "chr1\t825767\tC\tT\t0.0066\t0.0098\trs3115850\n",
      "chr1\t833068\tA\tG\t0.0\t0.0117\trs12562034\n",
      "chr1\t841742\tT\tA\t0.0078\t0.0101\trs2980319\n",
      "chr1\t843942\tG\tA\t-0.007\t0.0101\trs4040617\n",
      "chr1\t849670\tA\tG\t0.0063\t0.0098\trs2905062\n"
     ]
    }
   ],
   "source": [
    "filename=\"/workshop/data/PrediXcan/gwas_harmonized/harmonized_en_Whole_Blood.tsv.gz\"\n",
    "echo \"Examen du fichier $filename\"\n",
    "echo \"Numéros de colonnes et titres :\"\n",
    "echo \"$(zcat $filename | head -n 1 | tr '\\t' '\\n' | nl)\"\n",
    "echo\n",
    "echo \"Extrait du fichier :\"\n",
    "zcat $filename | head -n 10 | cut -f 1-6,9"
   ]
  },
  {
   "cell_type": "markdown",
   "metadata": {},
   "source": [
    "<div class=\"alert alert-info\">\n",
    "    <strong>Exercice :</strong> Prenez un moment pour interpréter les colonnes affichées. Que représente chaque colonne, et pourquoi chacune pourrait-elle être importante pour une analyse TWAS ?\n",
    "</div>"
   ]
  },
  {
   "cell_type": "markdown",
   "metadata": {},
   "source": [
    "Entrez votre réponse ici"
   ]
  },
  {
   "cell_type": "markdown",
   "metadata": {},
   "source": [
    "### Modèles de prédiction d'expression génique : La fondation du TWAS\n",
    "\n",
    "Nous examinerons maintenant comment l'expression génique est prédite à partir des variants génétiques. Les modèles de prédiction d'expression génique sont la pierre angulaire de toute analyse TWAS. Examinons les modèles pour le tissu « Sang total » (_Whole blood_) de GTEx comme exemple.\n",
    "\n",
    "**Définition :** Ces modèles sont des fonctions mathématiques qui prédisent les niveaux d'expression génique basés sur les données génotypiques. Ils représentent la relation : « Étant donné le génotype d'une personne à des SNP spécifiques, quelle serait vraisemblablement son expression génique dans ce tissu ? » Ces modèles ont été entraînés en utilisant des données du consortium GTEx, où les chercheurs ont mesuré à la fois les génotypes et l'expression génique chez les mêmes individus.\n",
    "\n",
    "PredictDB distribue ces modèles comme bases de données SQLite. Chaque base de données contient deux tables essentielles qui fonctionnent ensemble :"
   ]
  },
  {
   "cell_type": "code",
   "execution_count": 2,
   "metadata": {},
   "outputs": [
    {
     "name": "stdout",
     "output_type": "stream",
     "text": [
      "CREATE TABLE `extra` (\n",
      "  `gene` TEXT,\n",
      "  `genename` TEXT,\n",
      "  `gene_type` TEXT,\n",
      "  `alpha` REAL,\n",
      "  `n_snps_in_window` INTEGER,\n",
      "  `n.snps.in.model` INTEGER,\n",
      "  `test_R2_avg` REAL,\n",
      "  `test_R2_sd` REAL,\n",
      "  `cv_R2_avg` REAL,\n",
      "  `cv_R2_sd` REAL,\n",
      "  `in_sample_R2` REAL,\n",
      "  `nested_cv_fisher_pval` REAL,\n",
      "  `nested_cv_converged` INTEGER,\n",
      "  `rho_avg` REAL,\n",
      "  `rho_se` REAL,\n",
      "  `rho_zscore` REAL,\n",
      "  `pred.perf.R2` REAL,\n",
      "  `pred.perf.pval` REAL,\n",
      "  `pred.perf.qval` REAL,\n",
      "  `phi` REAL\n",
      ");\n",
      "CREATE INDEX metab_model_summary ON extra (gene);\n"
     ]
    }
   ],
   "source": [
    "# Schéma pour la table \"extra\" :\n",
    "sqlite3 /workshop/data/PrediXcan/predictdb/en_Whole_Blood.db \".schema extra\""
   ]
  },
  {
   "cell_type": "markdown",
   "metadata": {},
   "source": [
    "La table `extra` contient des informations de contrôle qualité du modèle. Pour chaque gène, elle inclut :\n",
    "- **Identifiants de gènes** (ID Ensembl et nom du gène)\n",
    "- **Composition du modèle** (combien de SNP sont inclus)\n",
    "- **Métriques de performance** (à quel point le modèle prédit bien l'expression)\n",
    "\n",
    "Ces métadonnées sont essentielles pour interpréter les résultats TWAS de manière appropriée.\n",
    "\n",
    "<div class=\"alert alert-info\">\n",
    "    <strong>Question :</strong> Pourquoi la colonne <code>pred.perf.pval</code> est-elle importante ? Que nous dit-elle sur l'adéquation d'un gène pour l'analyse TWAS ? Considérez ce qui arrive si nous ne pouvons pas prédire de manière fiable l'expression d'un gène à partir des données génotypiques.\n",
    "</div>"
   ]
  },
  {
   "cell_type": "markdown",
   "metadata": {},
   "source": [
    "Entrez votre réponse ici"
   ]
  },
  {
   "cell_type": "markdown",
   "metadata": {},
   "source": [
    "La table `weights` contient les paramètres de prédiction actuels—les composantes mathématiques de chaque modèle d'expression génique. Pour chaque gène (identifié par son ID Ensembl), cette table liste :\n",
    "- **Quels variations génétiques** (eQTL) influencent l'expression\n",
    "- **La taille de l'effet** de chaque variation (le poids de prédiction)\n",
    "\n",
    "Examinons ceci avec un exemple. Nous regarderons le modèle pour **ENSG00000157823.16**, qui code pour AP3S2 (Adaptor Related Protein Complex 3 Subunit Sigma 2). Pour nous concentrer sur les contributeurs les plus importants, nous trierons les variants par leur poids absolu et montrerons les 10 premiers :"
   ]
  },
  {
   "cell_type": "code",
   "execution_count": 3,
   "metadata": {},
   "outputs": [
    {
     "name": "stdout",
     "output_type": "stream",
     "text": [
      "gene                rsid        varID                   ref_allele  eff_allele  weight             \n",
      "------------------  ----------  ----------------------  ----------  ----------  -------------------\n",
      "ENSG00000157823.16  rs4363847   chr15_90547112_T_C_b38  T           C           0.128329668848438  \n",
      "ENSG00000157823.16  rs12898828  chr15_89817721_A_T_b38  A           T           -0.109067828981916 \n",
      "ENSG00000157823.16  rs11073814  chr15_88835653_A_T_b38  A           T           0.0524825659916266 \n",
      "ENSG00000157823.16  rs3853641   chr15_89900547_G_C_b38  G           C           -0.0467714907373544\n",
      "ENSG00000157823.16  rs16943673  chr15_89864201_T_C_b38  T           C           -0.0326710086433488\n",
      "ENSG00000157823.16  rs10520684  chr15_89881770_C_A_b38  C           A           -0.0295110487238457\n",
      "ENSG00000157823.16  rs1879530   chr15_88902553_G_A_b38  G           A           0.0263159897074107 \n",
      "ENSG00000157823.16  rs2165069   chr15_89863887_C_T_b38  C           T           -0.0251527944185157\n",
      "ENSG00000157823.16  rs4932250   chr15_89818473_G_A_b38  G           A           -0.0242119510907331\n",
      "ENSG00000157823.16  rs3759831   chr15_89871410_C_G_b38  C           G           -0.0223217371169919\n"
     ]
    }
   ],
   "source": [
    "sqlite3 /workshop/data/PrediXcan/predictdb/en_Whole_Blood.db <<EOF\n",
    ".mode columns\n",
    ".header on\n",
    "select * from weights\n",
    "  where gene='ENSG00000157823.16'\n",
    "  order by abs(weight) desc limit 10;\n",
    "EOF"
   ]
  },
  {
   "cell_type": "markdown",
   "metadata": {},
   "source": [
    "<div class=\"alert alert-info\">\n",
    "    <strong>Interprétation des poids :</strong> Remarquez que certains poids sont positifs tandis que d'autres sont négatifs. Que cela nous dit-il sur la relation entre ces variants et l'expression génique ? Quelles méthodes statistiques pourraient être utilisées pour estimer ces poids de prédiction ?\n",
    "</div>"
   ]
  },
  {
   "cell_type": "markdown",
   "metadata": {},
   "source": [
    "Entrez votre réponse ici"
   ]
  },
  {
   "cell_type": "markdown",
   "metadata": {},
   "source": [
    "### Exécution de votre première analyse TWAS avec S-PrediXcan\n",
    "\n",
    "Nous sommes maintenant prêts à effectuer notre analyse TWAS en utilisant S-PrediXcan. Cette analyse combinera nos statistiques sommaires GWAS avec les modèles de prédiction d'expression génique pour identifier les gènes dont les niveaux d'expression prédits sont associés au risque de diabète de type 2.\n",
    "\n",
    "**Note :** L'analyse ci-dessous peut prendre plusieurs minutes à compléter. Si elle prend trop de temps, vous pouvez l'arrêter et utiliser les fichiers de sauvegarde pré-calculés que nous avons fournis.\n",
    "\n",
    "### Comprendre la commande S-PrediXcan\n",
    "\n",
    "Chaque paramètre d'entrée sert un but spécifique :\n",
    "\n",
    "**Fichiers d'entrée principaux :**\n",
    "- **`model_db_path`** : La base de données SQLite contenant les poids de prédiction d'expression génique\n",
    "- **`covariance`** : Estimations du déséquilibre de liaison (LD) entre les SNP—essentiel pour tenir compte de la corrélation entre variants voisins\n",
    "- **`gwas_file`** : Nos statistiques sommaires GWAS harmonisées\n",
    "\n",
    "**Paramètres de mappage de colonnes :**\n",
    "Les paramètres `*_column` disent à S-PrediXcan comment interpréter le format de notre fichier GWAS. Cette flexibilité permet au logiciel de fonctionner avec des données de différentes sources et formats.\n",
    "\n",
    "**Paramètres de calibration polygénique :**\n",
    "- **Héritabilité SNP (`gwas_h2 = 0.15`)** : La proportion de variance du trait expliquée par tous les SNP\n",
    "- **Taille d'échantillon (`gwas_N = 1000000`)** : La taille d'échantillon effective de notre GWAS\n",
    "\n",
    "**Justification :** Les traits polygéniques comme le DT2 ont des milliers de variants causaux avec de petits effets distribués à travers le génome. Plusieurs de ces variants sont en déséquilibre de liaison avec nos eQTL, créant potentiellement des associations fallacieuses. En fournissant des estimations d'héritabilité et de taille d'échantillon, nous permettons à la méthode de recalibration de S-PrediXcan ([Liang _et al._ 2024](https://www.biorxiv.org/content/10.1101/2023.10.17.562831v2)) de tenir compte de ce « contexte polygénique » et de fournir des résultats plus précis.\n",
    "\n",
    "L'analyse sera exécutée sur sept tissus sélectionnés :"
   ]
  },
  {
   "cell_type": "code",
   "execution_count": 5,
   "metadata": {},
   "outputs": [
    {
     "name": "stdout",
     "output_type": "stream",
     "text": [
      "\n",
      "\n",
      "Exécution de S-PrediXcan pour le tissu Adipose_Subcutaneous\n",
      "\n",
      "INFO - Processing GWAS command line parameters\n",
      "INFO - Building beta for /workshop/data/PrediXcan/gwas_harmonized/harmonized_en_Adipose_Subcutaneous.tsv.gz and /workshop/data/PrediXcan/predictdb/en_Adipose_Subcutaneous.db\n",
      "INFO - Reading input gwas with special handling: /workshop/data/PrediXcan/gwas_harmonized/harmonized_en_Adipose_Subcutaneous.tsv.gz\n",
      "INFO - Processing input gwas\n",
      "INFO - Calculating zscore from se and beta\n",
      "INFO - Aligning GWAS to models\n",
      "INFO - Trimming output\n",
      "INFO - Successfully parsed input gwas in 2.3616790429950925 seconds\n",
      "INFO - Started metaxcan process\n",
      "INFO - Loading model from: /workshop/data/PrediXcan/predictdb/en_Adipose_Subcutaneous.db\n",
      "INFO - Loading covariance data from: /workshop/data/PrediXcan/predictdb/en_Adipose_Subcutaneous.txt.gz\n",
      "INFO - Processing loaded gwas\n",
      "INFO - Started metaxcan association\n",
      "INFO - 10 % of model's snps found so far in the gwas study\n",
      "INFO - 20 % of model's snps found so far in the gwas study\n",
      "INFO - 30 % of model's snps found so far in the gwas study\n",
      "INFO - 40 % of model's snps found so far in the gwas study\n",
      "INFO - 50 % of model's snps found so far in the gwas study\n",
      "INFO - 60 % of model's snps found so far in the gwas study\n",
      "INFO - 70 % of model's snps found so far in the gwas study\n",
      "INFO - 80 % of model's snps found so far in the gwas study\n",
      "INFO - 86 % of model's snps used\n",
      "INFO - Calibrating pvalue and zscore using phi in model, N and h2\n",
      "INFO - The pvalue and zscore have been calibrated successfully\n",
      "INFO - Sucessfully processed metaxcan association in 36.970879432999936 seconds\n"
     ]
    }
   ],
   "source": [
    "tissues=\"Adipose_Subcutaneous Artery_Coronary Brain_Cortex Liver Muscle_Skeletal Pancreas Whole_Blood\"\n",
    "\n",
    "for tissue in $tissues; do\n",
    "    echo\n",
    "    echo\n",
    "    echo \"Exécution de S-PrediXcan pour le tissu ${tissue}\"\n",
    "    echo\n",
    "    SPrediXcan.py \\\n",
    "        --model_db_path /workshop/data/PrediXcan/predictdb/en_${tissue}.db \\\n",
    "        --covariance /workshop/data/PrediXcan/predictdb/en_${tissue}.txt.gz \\\n",
    "        --gwas_file /workshop/data/PrediXcan/gwas_harmonized/harmonized_en_${tissue}.tsv.gz \\\n",
    "        --snp_column rsid_x \\\n",
    "        --effect_allele_column effect_allele \\\n",
    "        --non_effect_allele_column other_allele \\\n",
    "        --output_file /workshop/local/results/twas_en_${tissue}.csv \\\n",
    "        --beta_column beta \\\n",
    "        --se_column standard_error \\\n",
    "        --gwas_h2 0.15 \\\n",
    "        --gwas_N 1000000\n",
    "    \n",
    "    # Commentez cette ligne pour exécuter tous les tissus.\n",
    "    break\n",
    "done"
   ]
  },
  {
   "cell_type": "markdown",
   "metadata": {},
   "source": [
    "### Analyse complétée\n",
    "\n",
    "Vous avez exécuté avec succès S-PrediXcan sur plusieurs tissus et généré des résultats TWAS complets pour le DT2. Chaque fichier de sortie contient des statistiques d'association au niveau génique qui indiquent quels gènes ont des niveaux d'expression prédits significativement associés au risque de DT2 dans chaque tissu.\n",
    "\n",
    "<div class=\"alert alert-info\">\n",
    "    <strong>Examinez vos résultats :</strong> Ouvrez un des fichiers de résultats dans le répertoire <code>results</code>. Cherchez des colonnes comme les noms de gènes, les valeurs p d'association et les tailles d'effet. Quels gènes montrent les associations les plus fortes ? En reconnaissez-vous comme gènes connus du diabète ?\n",
    "</div>"
   ]
  },
  {
   "cell_type": "markdown",
   "metadata": {},
   "source": [
    "Entrez votre réponse ici"
   ]
  },
  {
   "cell_type": "markdown",
   "metadata": {},
   "source": [
    "### Prochaines étapes\n",
    "\n",
    "Vous avez établi une fondation en méthodologie TWAS. La prochaine phase implique **l'interprétation** de ces résultats. Dans notre [prochain carnet](1b-S-PrediXcan-interpretation.ipynb), nous utiliserons l'environnement de programmation R pour :\n",
    "\n",
    "- **Appliquer** les corrections pour tests multiples de manière appropriée\n",
    "- **Visualiser** les patrons d'association à travers les tissus\n",
    "- **Identifier** les gènes candidats les plus prometteurs\n",
    "- **Comprendre** la signification biologique de nos découvertes"
   ]
  }
 ],
 "metadata": {
  "kernelspec": {
   "display_name": "Bash",
   "language": "bash",
   "name": "bash"
  },
  "language_info": {
   "codemirror_mode": "shell",
   "file_extension": ".sh",
   "mimetype": "text/x-sh",
   "name": "bash"
  }
 },
 "nbformat": 4,
 "nbformat_minor": 4
}
