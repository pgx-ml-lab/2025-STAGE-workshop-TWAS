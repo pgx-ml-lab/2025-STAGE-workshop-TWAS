{
 "cells": [
  {
   "cell_type": "markdown",
   "id": "d68b42e2-7eb2-45ce-8cea-e15444d9154b",
   "metadata": {},
   "source": [
    "# Atelier sur la génétique statistique et l'épidémiologie génétique STAGE-Québec\n",
    "## Thème 2 - Phénotypes moléculaires en épidémiologie génétique\n",
    "\n",
    "Par Marc-André Legault (Université de Montréal) et Qihuang Zhang (Université McGill)\n",
    "\n",
    "**31 juillet - 1er août 2025**\n",
    "\n",
    "### Introduction\n",
    "\n",
    "Cet atelier offre une introduction complète aux études d'association pangénomique du transcriptome (TWAS). Nous démontrerons comment identifier les gènes du diabète de type 2 (DT2) en testant l'association entre l'expression génique prédite dans divers tissus et le risque de DT2.\n",
    "\n",
    "L'analyse utilise des données réelles provenant d'une méta-analyse à grande échelle impliquant 180 834 cas de DT2 et plus d'un million de témoins de [Mahajan _et al._ (2022)](https://www.nature.com/articles/s41588-022-01058-3). Ce sont des statistiques sommaires de haute qualité qui représentent les standards actuels en recherche d'épidémiologie génétique.\n",
    "\n",
    "Cet atelier couvrira deux approches TWAS établies :\n",
    "- **[S-PrediXcan](https://www.nature.com/articles/s41467-018-03621-1)**\n",
    "- **[TWAS FUSION](https://www.nature.com/articles/ng.3506)**\n",
    "\n",
    "Les statistiques sommaires GWAS ont été harmonisées pour correspondre à la version du génome (GRCh38) utilisée par les modèles de prédiction d'expression génique. Nous avons créé un ensemble ciblé de tissus provenant de GTEx pour équilibrer l'exhaustivité et l'efficacité computationnelle.\n",
    "\n",
    "### Structure de l'atelier\n",
    "\n",
    "L'atelier est organisé en trois sections interconnectées :\n",
    "\n",
    "1. **S-PrediXcan** (ce carnet) - Fondements du TWAS basé sur les statistiques sommaires utilisant S-PrediXcan.\n",
    "2. **TWAS / FUSION** [(lien)](2a-FUSION.ipynb) - Un deuxième logiciel pour effectuer des TWAS.\n",
    "3. **Comparaison des méthodes** [(lien)](3a-compare_TWAS_models.ipynb) - Analyse comparative des résultats.\n",
    "\n",
    "**Navigation :** Utilisez l'explorateur de fichiers dans le panneau de gauche pour explorer tous les matériaux de l'atelier et basculer entre les carnets.\n",
    "\n",
    "<div class=\"alert alert-warning\">\n",
    "    <p>\n",
    "    <strong>Important :</strong> Le dossier <strong>local</strong> est partagé avec votre ordinateur—tout le reste disparaîtra quand vous fermerez le serveur de carnets. Sauvegardez votre travail et vos résultats importants dans le dossier local.\n",
    "    </p>\n",
    "    <p>\n",
    "    Le dossier « local » dans cet environnement se trouve sur votre ordinateur, dans votre répertoire personnel :<br/>\n",
    "    • Windows : <code>C:\\Users\\[votre nom d'utilisateur]\\STAGE2025_workshop_theme2</code><br/>\n",
    "    • macOS/Linux : <code>/Users/[votre nom d'utilisateur]/STAGE2025_workshop_theme2</code>\n",
    "    </p>\n",
    "</div>\n",
    "\n",
    "Nous commencerons par explorer S-PrediXcan et l'appliquer à nos données GWAS préparées pour investiguer l'architecture génétique du diabète de type 2."
   ]
  },
  {
   "cell_type": "markdown",
   "id": "ffb1f99e-87c3-47b8-b422-e99013a8cb28",
   "metadata": {},
   "source": [
    "### Exploration des statistiques sommaires GWAS\n",
    "\n",
    "Avant d'exécuter S-PrediXcan, nous examinerons nos données d'entrée. Comprendre la structure et le contenu des statistiques sommaires GWAS est essentiel pour toute analyse TWAS.\n",
    "\n",
    "Nos statistiques sommaires GWAS ont été harmonisées avec les modèles [PredictDB](https://predictdb.hakyimlab.org/)—les modèles standards de prédiction d'expression génique qui accompagnent S-PrediXcan. Cette harmonisation assure que les noms de variants, le codage des allèles et les coordonnées génomiques sont alignés entre nos données GWAS et les modèles de prédiction.\n",
    "\n",
    "**Note :** Cette étape d'harmonisation est critique car les incohérences dans la nomenclature des variants ou le codage des allèles peuvent mener à des résultats incorrects ou à des associations manquées.\n",
    "\n",
    "Examinons la structure des données, qui suit un format cohérent dans tous les tissus :"
   ]
  },
  {
   "cell_type": "code",
   "execution_count": null,
   "id": "73589759-60a8-45ff-81fe-3d4773cd758a",
   "metadata": {},
   "outputs": [],
   "source": [
    "%%bash\n",
    "filename=\"../data/PrediXcan/gwas_harmonized/harmonized_en_Whole_Blood.tsv.gz\"\n",
    "echo \"Examen du fichier $filename\"\n",
    "echo \"Numéros de colonnes et titres :\"\n",
    "echo \"$(zcat $filename | head -n 1 | tr '\\t' '\\n' | nl)\"\n",
    "echo\n",
    "echo \"Extrait du fichier :\"\n",
    "zcat $filename | head -n 10 | cut -f 1-6,9"
   ]
  },
  {
   "cell_type": "markdown",
   "id": "d84d2d6b-1a38-4f2f-b2d2-2f538b04af58",
   "metadata": {},
   "source": [
    "<div class=\"alert alert-info\">\n",
    "    <strong>Exercice :</strong> Prenez un moment pour interpréter les colonnes affichées. Que représente chaque colonne, et pourquoi chacune pourrait-elle être importante pour une analyse TWAS ?\n",
    "</div>"
   ]
  },
  {
   "cell_type": "markdown",
   "id": "de1be96f-9694-4cb1-97b6-491d7c2303f2",
   "metadata": {},
   "source": [
    "Entrez votre réponse ici"
   ]
  },
  {
   "cell_type": "markdown",
   "id": "61ab83c3-8a39-410c-869a-d1d1eeeef27f",
   "metadata": {},
   "source": [
    "### Modèles de prédiction d'expression génique : La fondation du TWAS\n",
    "\n",
    "Nous examinerons maintenant comment l'expression génique est prédite à partir des variants génétiques. Les modèles de prédiction d'expression génique sont la pierre angulaire de toute analyse TWAS. Examinons les modèles pour le tissu « Sang total » de GTEx comme exemple.\n",
    "\n",
    "**Définition :** Ces modèles sont des fonctions mathématiques qui prédisent les niveaux d'expression génique basés sur les données génotypiques. Ils représentent la relation : « Étant donné le génotype d'une personne à des SNP spécifiques, quelle serait vraisemblablement son expression génique dans ce tissu ? » Ces modèles ont été entraînés en utilisant des données du consortium GTEx, où les chercheurs ont mesuré à la fois les génotypes et l'expression génique chez les mêmes individus.\n",
    "\n",
    "PredictDB distribue ces modèles comme bases de données SQLite. Chaque base de données contient deux tables essentielles qui fonctionnent ensemble :"
   ]
  },
  {
   "cell_type": "code",
   "execution_count": null,
   "id": "cad73eb5-cada-4838-bec1-44a6bddaef07",
   "metadata": {},
   "outputs": [],
   "source": [
    "%%bash\n",
    "# Schéma pour la table \"extra\" :\n",
    "sqlite3 ../data/PrediXcan/predictdb/en_Whole_Blood.db \".schema extra\""
   ]
  },
  {
   "cell_type": "markdown",
   "id": "22f8bc0c-b16d-45f8-93b7-099483098945",
   "metadata": {},
   "source": [
    "La table `extra` contient des informations de contrôle qualité du modèle. Pour chaque gène, elle inclut :\n",
    "- **Identifiants de gènes** (ID Ensembl et nom du gène)\n",
    "- **Composition du modèle** (combien de SNP sont inclus)\n",
    "- **Métriques de performance** (à quel point le modèle prédit bien l'expression)\n",
    "\n",
    "Ces métadonnées sont essentielles pour interpréter les résultats TWAS de manière appropriée.\n",
    "\n",
    "<div class=\"alert alert-info\">\n",
    "    <strong>Question :</strong> Pourquoi la colonne <code>pred.perf.pval</code> est-elle importante ? Que nous dit-elle sur l'adéquation d'un gène pour l'analyse TWAS ? Considérez ce qui arrive si nous ne pouvons pas prédire de manière fiable l'expression d'un gène à partir des données génotypiques.\n",
    "</div>"
   ]
  },
  {
   "cell_type": "markdown",
   "id": "d2dee5e4-f863-4baf-b081-8ec144c0d600",
   "metadata": {},
   "source": [
    "Entrez votre réponse ici"
   ]
  },
  {
   "cell_type": "markdown",
   "id": "a9ab2df2-b8c9-4ba3-9538-0d7fce689f83",
   "metadata": {},
   "source": [
    "La table `weights` contient les paramètres de prédiction actuels—les composantes mathématiques de chaque modèle d'expression génique. Pour chaque gène (identifié par son ID Ensembl), cette table liste :\n",
    "- **Quels variants génétiques** (eQTL) influencent l'expression\n",
    "- **L'ampleur de l'influence** de chaque variant (le poids de prédiction)\n",
    "\n",
    "Examinons ceci avec un exemple. Nous regarderons le modèle pour **ENSG00000157823.16**, qui code pour AP3S2 (Adaptor Related Protein Complex 3 Subunit Sigma 2). Pour nous concentrer sur les contributeurs les plus importants, nous trierons les variants par leur poids absolu et montrerons les 10 premiers :"
   ]
  },
  {
   "cell_type": "code",
   "execution_count": null,
   "id": "33627747-e995-4c01-b12c-889ec39b0ab6",
   "metadata": {},
   "outputs": [],
   "source": [
    "%%bash\n",
    "sqlite3 ../data/PrediXcan/predictdb/en_Whole_Blood.db <<EOF\n",
    ".mode columns\n",
    ".header on\n",
    "select * from weights\n",
    "  where gene='ENSG00000157823.16'\n",
    "  order by abs(weight) desc limit 10;\n",
    "EOF"
   ]
  },
  {
   "cell_type": "markdown",
   "id": "dd2cee8c-d457-4eb2-b8b3-06a5720874bc",
   "metadata": {},
   "source": [
    "<div class=\"alert alert-info\">\n",
    "    <strong>Interprétation des poids :</strong> Remarquez que certains poids sont positifs tandis que d'autres sont négatifs. Que cela nous dit-il sur la relation entre ces variants et l'expression génique ? Quelles méthodes statistiques pourraient être utilisées pour estimer ces poids de prédiction ?\n",
    "</div>"
   ]
  },
  {
   "cell_type": "code",
   "execution_count": null,
   "id": "aacb436f-435f-449d-9db2-5bdb058e313b",
   "metadata": {},
   "outputs": [],
   "source": [
    "# Entrez votre réponse ici"
   ]
  },
  {
   "cell_type": "markdown",
   "id": "0fb3cdb7-5b2e-415f-9d07-9ff0fe4985f7",
   "metadata": {},
   "source": [
    "### Exécution de votre première analyse TWAS avec S-PrediXcan\n",
    "\n",
    "Nous sommes maintenant prêts à effectuer notre analyse TWAS en utilisant S-PrediXcan. Cette analyse combinera nos statistiques sommaires GWAS avec les modèles de prédiction d'expression génique pour identifier les gènes dont les niveaux d'expression prédits sont associés au risque de diabète de type 2.\n",
    "\n",
    "**Note :** L'analyse ci-dessous peut prendre plusieurs minutes à compléter. Si elle prend trop de temps, vous pouvez l'arrêter et utiliser les fichiers de sauvegarde pré-calculés que nous avons fournis.\n",
    "\n",
    "### Comprendre la commande S-PrediXcan\n",
    "\n",
    "Chaque paramètre d'entrée sert un but spécifique :\n",
    "\n",
    "**Fichiers d'entrée principaux :**\n",
    "- **`model_db_path`** : La base de données SQLite contenant les poids de prédiction d'expression génique\n",
    "- **`covariance`** : Estimations du déséquilibre de liaison (LD) entre les SNP—essentiel pour tenir compte de la corrélation entre variants voisins\n",
    "- **`gwas_file`** : Nos statistiques sommaires GWAS harmonisées\n",
    "\n",
    "**Paramètres de mappage de colonnes :**\n",
    "Les paramètres `*_column` disent à S-PrediXcan comment interpréter le format de notre fichier GWAS. Cette flexibilité permet au logiciel de fonctionner avec des données de différentes sources et formats.\n",
    "\n",
    "**Paramètres de calibration polygénique :**\n",
    "- **Héritabilité SNP (`gwas_h2 = 0.15`)** : La proportion de variance du trait expliquée par tous les SNP\n",
    "- **Taille d'échantillon (`gwas_N = 1000000`)** : La taille d'échantillon effective de notre GWAS\n",
    "\n",
    "**Justification :** Les traits polygéniques comme le DT2 ont des milliers de variants causaux avec de petits effets distribués à travers le génome. Plusieurs de ces variants sont en déséquilibre de liaison avec nos eQTL, créant potentiellement des associations fallacieuses. En fournissant des estimations d'héritabilité et de taille d'échantillon, nous permettons à la méthode de recalibration de S-PrediXcan ([Liang _et al._ 2024](https://www.biorxiv.org/content/10.1101/2023.10.17.562831v2)) de tenir compte de ce « contexte polygénique » et de fournir des résultats plus précis.\n",
    "\n",
    "L'analyse sera exécutée sur sept tissus sélectionnés :"
   ]
  },
  {
   "cell_type": "code",
   "execution_count": null,
   "id": "98d19b80-4a11-47a9-b3a9-9c7b5b96c477",
   "metadata": {},
   "outputs": [],
   "source": [
    "%%bash\n",
    "tissues=\"Adipose_Subcutaneous Artery_Coronary Brain_Cortex Liver Muscle_Skeletal Pancreas Whole_Blood\"\n",
    "\n",
    "for tissue in $tissues; do\n",
    "    echo\n",
    "    echo\n",
    "    echo \"Exécution de S-PrediXcan pour le tissu ${tissue}\"\n",
    "    echo\n",
    "    SPrediXcan.py \\\n",
    "        --model_db_path ../data/PrediXcan/predictdb/en_${tissue}.db \\\n",
    "        --covariance ../data/PrediXcan/predictdb/en_${tissue}.txt.gz \\\n",
    "        --gwas_file ../data/PrediXcan/gwas_harmonized/harmonized_en_${tissue}.tsv.gz \\\n",
    "        --snp_column rsid_x \\\n",
    "        --effect_allele_column effect_allele \\\n",
    "        --non_effect_allele_column other_allele \\\n",
    "        --output_file /workshop/local/results/twas_en_${tissue}.csv \\\n",
    "        --beta_column beta \\\n",
    "        --se_column standard_error \\\n",
    "        --gwas_h2 0.15 \\\n",
    "        --gwas_N 1000000\n",
    "    \n",
    "    # Décommentez cette ligne pour n'exécuter qu'un seul tissu.\n",
    "    # break\n",
    "done"
   ]
  },
  {
   "cell_type": "markdown",
   "id": "3c1c674e-66a9-4e88-94da-abd303e08dda",
   "metadata": {},
   "source": [
    "### Analyse complétée\n",
    "\n",
    "Vous avez exécuté avec succès S-PrediXcan sur plusieurs tissus et généré des résultats TWAS complets pour le diabète de type 2. Chaque fichier de sortie contient des statistiques d'association au niveau génique qui indiquent quels gènes ont des niveaux d'expression prédits significativement associés au risque de DT2 dans chaque tissu.\n",
    "\n",
    "<div class=\"alert alert-info\">\n",
    "    <strong>Examinez vos résultats :</strong> Ouvrez un des fichiers de résultats dans le répertoire <code>results</code>. Cherchez des colonnes comme les noms de gènes, les valeurs p d'association et les tailles d'effet. Quels gènes montrent les associations les plus fortes ? En reconnaissez-vous comme gènes connus du diabète ?\n",
    "</div>"
   ]
  },
  {
   "cell_type": "markdown",
   "id": "3fb56881-05ee-4b93-818e-efb6c544edb4",
   "metadata": {},
   "source": [
    "Entrez votre réponse ici"
   ]
  },
  {
   "cell_type": "markdown",
   "id": "9f754404-f2ce-4bb5-ab28-9f9707ce40fe",
   "metadata": {},
   "source": [
    "### Prochaines étapes\n",
    "\n",
    "Vous avez établi une fondation en méthodologie TWAS. La prochaine phase implique **l'interprétation** de ces résultats. Dans notre [prochain carnet](1b-S-PrediXcan-interpretation.ipynb), nous utiliserons l'environnement de programmation R pour :\n",
    "\n",
    "- **Appliquer** les corrections pour tests multiples de manière appropriée\n",
    "- **Visualiser** les patrons d'association à travers les tissus\n",
    "- **Identifier** les gènes candidats les plus prometteurs\n",
    "- **Comprendre** la signification biologique de nos découvertes\n",
    "\n",
    "Cette phase d'interprétation transforme les résultats de génétique statistique en insights biologiques."
   ]
  }
 ],
 "metadata": {
  "kernelspec": {
   "display_name": "Python 3",
   "language": "python",
   "name": "python3"
  },
  "language_info": {
   "codemirror_mode": {
    "name": "ipython",
    "version": 3
   },
   "file_extension": ".py",
   "mimetype": "text/x-python",
   "name": "python",
   "nbconvert_exporter": "python",
   "pygments_lexer": "ipython3",
   "version": "3.8.5"
  }
 },
 "nbformat": 4,
 "nbformat_minor": 4
}