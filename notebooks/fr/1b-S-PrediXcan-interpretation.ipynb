{
 "cells": [
  {
   "cell_type": "markdown",
   "id": "3f5ed96d-a84f-41b7-ae5c-34d01f6ef965",
   "metadata": {},
   "source": "# Atelier sur la génétique statistique et l'épidémiologie génétique STAGE-Québec\n## Thème 2 - Phénotypes moléculaires en épidémiologie génétique\n\nPar Marc-André Legault (Université de Montréal) et Qihuang Zhang (Université McGill)\n\n**31 juillet - 1er août 2025**\n\n### Introduction\n\nDans le carnet précédent, nous avons réalisé une analyse TWAS (Transcriptome-Wide Association Study) du diabète de type 2 pour 7 tissus GTEx en utilisant les modèles de prédiction de l'expression génique de PredictDB et la méthode S-PrediXcan. \n\nDans ce carnet, nous examinerons ces résultats pour en comprendre les implications biologiques. L'objectif principal consiste à interpréter et visualiser les associations significatives entre l'expression génique prédite et le diabète de type 2 dans différents tissus.\n\n**Première étape : Résumé des gènes significatifs par tissu**\n\nNous examinerons le nombre de gènes significatifs identifiés dans chaque tissu. Pour ce faire, nous devons d'abord calculer les seuils de valeur P appropriés selon différentes approches de correction pour tests multiples :\n\n| Tissu                | N gènes testés | Bonferroni global | Bonferroni par tissu |\n| :------------------: | -------------- | ----------------- | -------------------- |\n| Tissu adipeux sous-cutané |            |                   |                      |\n| ...                  |                |                   |                      |"
  },
  {
   "cell_type": "code",
   "execution_count": null,
   "id": "16ab5d92-a543-4998-91c3-ff13d34f3e7d",
   "metadata": {},
   "outputs": [],
   "source": [
    "library(ggplot2)"
   ]
  },
  {
   "cell_type": "code",
   "execution_count": null,
   "id": "6e21568a-02a7-4bc0-8f63-aaa9b7f57f4a",
   "metadata": {},
   "outputs": [],
   "source": [
    "tissues <- c(\n",
    "    \"en_Adipose_Subcutaneous\",\n",
    "    \"en_Artery_Coronary\",\n",
    "    \"en_Brain_Cortex\",\n",
    "    \"en_Liver\",\n",
    "    \"en_Muscle_Skeletal\",\n",
    "    \"en_Pancreas\",\n",
    "    \"en_Whole_Blood\"\n",
    ")\n",
    "\n",
    "df <- data.frame()\n",
    "for (tissue in tissues) {\n",
    "    cur <- read.csv(paste0(\"/workshop/local/results/twas_\", tissue, \".csv\"))\n",
    "    df <- rbind(df, data.frame(tissue = tissue, n_tested_genes = nrow(cur)))\n",
    "}\n",
    "\n",
    "df$global_bonf <- 0.05 / sum(df$n_tested_genes)\n",
    "df$tissue_bonf <- 0.05 / df$n_tested_genes\n",
    "df"
   ]
  },
  {
   "cell_type": "markdown",
   "id": "dc6f8f05-17d9-48d0-848e-91af52be01fc",
   "metadata": {},
   "source": "**Analyse des seuils de signification**\n\nLes résultats montrent qu'une correction de Bonferroni complète tenant compte de tous les tests effectués à travers l'ensemble des tissus demeure moins stricte que le seuil de signification génome-entier traditionnel ($5 \\times 10^{-8}$). \n\nLe nombre de gènes testés varie considérablement entre les tissus : de 3 765 gènes pour le foie jusqu'à 8 626 gènes pour le tissu adipeux sous-cutané. Cette variation explique les différences observées dans les seuils de Bonferroni spécifiques aux tissus.\n\nNous examinerons maintenant le nombre de gènes significatifs selon différentes approches de correction statistique. Nous inclurons également la correction du taux de fausses découvertes (FDR) de Benjamini-Hochberg, une méthode moins conservatrice que la correction de Bonferroni.\n\n<div class=\"alert alert-info\">\n<strong>Question de réflexion :</strong> Pourquoi le nombre de gènes testés varie-t-il selon les tissus ? Quels facteurs biologiques et techniques peuvent expliquer ces différences ?\n</div>"
  },
  {
   "cell_type": "code",
   "execution_count": null,
   "id": "358a66f5-fada-4b71-b8d9-012bba2869c0",
   "metadata": {},
   "outputs": [],
   "source": [
    "n_sig <- data.frame()\n",
    "sig_genes_data <- data.frame()\n",
    "sig_genes <- list()\n",
    "\n",
    "for (tissue in tissues) {\n",
    "    cur <- read.csv(paste0(\"/workshop/local/results/twas_\", tissue, \".csv\"))\n",
    "\n",
    "    sig_global_bonf <- cur$pvalue <= 1.174205e-6\n",
    "    sig_tissue_bonf <- cur$pvalue <= 0.05 / nrow(cur)\n",
    "    q <- p.adjust(cur$pvalue, method = \"BH\")\n",
    "    sig_fdr <- q <= 0.05\n",
    "    \n",
    "    sig_genes_data_cur <- cur[sig_fdr, c(\"gene_name\", \"pvalue\", \"effect_size\", \"n_snps_in_model\", \"n_snps_used\", \"pred_perf_pval\")]\n",
    "    sig_genes_data_cur$tissue <- tissue\n",
    "    sig_genes_data <- rbind(sig_genes_data, sig_genes_data_cur)\n",
    "    \n",
    "    sig_genes[[tissue]] <- list(\n",
    "        sig_global_bonf = cur[sig_global_bonf, \"gene_name\"],\n",
    "        sig_tissue_bonf = cur[sig_tissue_bonf, \"gene_name\"],\n",
    "        sig_fdr = cur[sig_fdr, \"gene_name\"]\n",
    "    )\n",
    "    \n",
    "    n_sig <- rbind(n_sig, data.frame(\n",
    "        tissue = tissue,\n",
    "        sig_global_bonf = sum(sig_global_bonf),\n",
    "        sig_tissue_bonf = sum(sig_tissue_bonf),\n",
    "        sig_fdr = sum(sig_fdr)\n",
    "    ))\n",
    "}\n",
    "n_sig"
   ]
  },
  {
   "cell_type": "markdown",
   "id": "1e34d7cb-14d4-425b-b8f1-9780ff66ec72",
   "metadata": {},
   "source": "<div class=\"alert alert-info\">\n<strong>Analyse comparative des méthodes de correction :</strong>\n<ul>\n<li>Quelle correction est la plus stricte ? La moins stricte ?</li>\n<li>Quelle approche est la plus appropriée dans le contexte d'une analyse TWAS ?</li>\n<li>Quelles sont les hypothèses sous-jacentes de chacune de ces méthodes de correction pour tests multiples ?</li>\n<li>Comment le choix de la méthode influence-t-il l'interprétation biologique des résultats ?</li>\n</ul>\n</div>"
  },
  {
   "cell_type": "code",
   "execution_count": null,
   "id": "c1f64559-52cf-40df-909b-ee4ef42e9bc8",
   "metadata": {},
   "outputs": [],
   "source": [
    "cat(\"Gènes significatifs à FDR <= 5% à travers les tissus:\\n\\n\")\n",
    "for (tissue in tissues) {\n",
    "    cat(paste0(\n",
    "        \"\\t'\", tissue, \"': \",\n",
    "        paste0(sig_genes[[tissue]]$sig_fdr, collapse = \", \"),\n",
    "        \"\\n\"\n",
    "    ))\n",
    "}"
   ]
  },
  {
   "cell_type": "markdown",
   "id": "286a0c98-3558-40f5-87fb-d609b57ee217",
   "metadata": {},
   "source": "**Identification des gènes candidats**\n\n<div class=\"alert alert-info\">\n<strong>Observations importantes :</strong>\n<p>L'expression génétiquement prédite d'<em>AP3S2</em> est associée au diabète de type 2 dans <strong>tous</strong> les tissus considérés, suggérant un rôle biologique fondamental de ce gène dans la pathogenèse du diabète.</p>\n\n<p>D'autres gènes présentent des effets spécifiques aux tissus. Par exemple, l'expression de <em>FTO</em> n'est associée au diabète de type 2 que dans le muscle squelettique.</p>\n\n<p><strong>Question d'interprétation :</strong> Qu'est-ce qui pourrait expliquer cette spécificité tissulaire pour <em>FTO</em> ? Considérez les aspects suivants :</p>\n<ul>\n<li>La spécificité biologique de l'effet du gène selon le tissu</li>\n<li>L'héritabilité variable de l'expression génique entre les tissus</li>\n<li>Les différences de puissance statistique pour détecter les eQTL selon les tissus</li>\n<li>La taille des échantillons disponibles pour chaque tissu dans GTEx</li>\n</ul>\n</div>\n\n**Visualisation des résultats TWAS**\n\nPour analyser les patterns d'association et examiner la directionnalité des effets, nous créerons un diagramme en points qui résume visuellement les résultats significatifs :"
  },
  {
   "cell_type": "code",
   "execution_count": null,
   "id": "a640394f-7b56-4df4-a3ce-33c60cc46b5c",
   "metadata": {},
   "outputs": [],
   "source": [
    "source(\"/workshop/utilities/gene_tissue_dotplot.R\")\n",
    "options(repr.plot.width = 10, repr.plot.height = 5)\n",
    "options(repr.plot.res = 200)\n",
    "plot_gene_tissue_dots_advanced(sig_genes_data)"
   ]
  },
  {
   "cell_type": "markdown",
   "id": "ebb6977b-bd85-4913-8d69-877f31f06d24",
   "metadata": {},
   "source": "**Interprétation thérapeutique des résultats**\n\n<div class=\"alert alert-info\">\n<strong>Analyse des implications thérapeutiques :</strong>\n<p>En supposant que les associations observées reflètent des relations causales, quel gène représenterait la cible thérapeutique la plus prometteuse pour prévenir le diabète de type 2 ? Dans quel(s) tissu(s) devrait-on cibler cette intervention ?</p>\n\n<p><strong>Critères d'évaluation :</strong></p>\n<ul>\n<li>Les gènes présentant des associations <strong>positives</strong> et <strong>robustes</strong> (représentées en rouge dans le graphique)</li>\n<li>La spécificité tissulaire des effets</li>\n<li>La faisabilité biologique de l'inhibition génique dans différents tissus</li>\n</ul>\n\n<p><em>Hypothèse de travail : WFS1 dans le tissu adipeux ou ANK1 dans le muscle squelettique pourraient constituer des candidats thérapeutiques intéressants.</em></p>\n</div>\n\n**Analyse de région génomique : Focus sur _WFS1_**\n\nPour approfondir notre compréhension des mécanismes sous-jacents, nous examinerons en détail la région génomique du gène _WFS1_. Nous extrairons les statistiques sommaires GWAS correspondantes et créerons un graphique de région qui mettra en évidence les variants génétiques inclus dans le modèle prédictif :"
  },
  {
   "cell_type": "code",
   "execution_count": null,
   "id": "ba3510a9-1853-4eb9-ad59-53df56012408",
   "metadata": {},
   "outputs": [],
   "source": [
    "# Nous définissons la région WFS1 en utilisant les données d'Ensembl.\n",
    "# Voir : https://useast.ensembl.org/Homo_sapiens/Gene/Summary?db=core;g=ENSG00000109501;r=4:6269849-6303265\n",
    "# Nous avons ajouté un espacement de +/- 100kb.\n",
    "wfs1_region <- list(\n",
    "    chrom = \"chr4\",\n",
    "    start = 6269849 - 100000,\n",
    "    end = 6303265 + 100000\n",
    ")\n",
    "\n",
    "get_predictdb_and_gwas_data <- function(region, gene_name, tissue) {\n",
    "    # Nous lisons les statistiques sommaires GWAS, mais gardons seulement l'information pour\n",
    "    # les variants dans la région d'intérêt.\n",
    "    gwas <- read.csv(\n",
    "        paste0(\n",
    "            \"/workshop/data/PrediXcan/gwas_harmonized/harmonized_\",\n",
    "            tissue,\n",
    "            \".tsv.gz\"\n",
    "        ), sep=\"\\t\"\n",
    "    )\n",
    "    gwas_region <- gwas[\n",
    "        (gwas$chromosome == region$chrom) &\n",
    "        (region$start <= gwas$base_pair_location) &\n",
    "        (gwas$base_pair_location <= region$end),\n",
    "    ]\n",
    "    rm(gwas)\n",
    "\n",
    "    # Nous extrairons le rsid et les poids des variants inclus dans le\n",
    "    # modèle prédictif de l'expression génique.\n",
    "    db_filename = paste0(\"/workshop/data/PrediXcan/predictdb/\", tissue, \".db\")\n",
    "        \n",
    "    model <- system(paste0(\n",
    "        \"sqlite3 \",\n",
    "        db_filename,\n",
    "        \" \\\"select rsid, weight from weights w, extra e where e.gene=w.gene and e.genename='\",\n",
    "        gene_name, \"';\\\"\"    ), intern=T)\n",
    "\n",
    "    if (length(model) == 0) {\n",
    "        stop(\"Impossible de trouver les données PredictDB pour le gène.\")\n",
    "    }\n",
    "\n",
    "    model <- data.frame(do.call(rbind, strsplit(model, \"\\\\|\")))\n",
    "    colnames(model) <- c(\"rsid\", \"weight\")\n",
    "    model$weight <- as.numeric(model$weight)\n",
    "\n",
    "    # Nous créons des variables indicatrices pour tester si un variant est dans le modèle\n",
    "    # et nous définissons une valeur par défaut pour les poids à des fins de visualisation.\n",
    "    gwas_region$in_model <- gwas_region$rsid_x %in% model$rsid\n",
    "\n",
    "    gwas_region <- merge(gwas_region, model, by.x = \"rsid_x\", by.y = \"rsid\", all.x = T)\n",
    "    min_abs_weight = min(abs(na.omit(gwas_region$weight)))\n",
    "    gwas_region$weight <- ifelse(\n",
    "        is.na(gwas_region$weight),\n",
    "        0.8 * min_abs_weight,\n",
    "        gwas_region$weight\n",
    "    )\n",
    "    \n",
    "    list(\n",
    "        model = model,\n",
    "        gwas_region = gwas_region\n",
    "    )\n",
    "}\n",
    "\n",
    "plot_region <- function(region, gene_name, tissue) {\n",
    "    data <- get_predictdb_and_gwas_data(region, gene_name, tissue)\n",
    "    \n",
    "    options(repr.plot.width = 10, repr.plot.height = 4)\n",
    "    options(repr.plot.res = 200)\n",
    "    \n",
    "    plot <- ggplot(data$gwas_region, aes(x = base_pair_location, y = neg_log_10_p_value,\n",
    "                      color = in_model, size = abs(weight))) +\n",
    "        geom_point(alpha = 0.7) +\n",
    "        scale_color_manual(values = c(\"FALSE\" = \"#222222\", \"TRUE\" = \"#2E86C1\")) +\n",
    "        labs(x = paste0(\"Position des paires de bases (\", region$chr, \" ,GRCh38)\"),\n",
    "             y = \"-log10(P)\",\n",
    "             color = paste0(\"Dans le modèle \", gene_name)) +\n",
    "        theme_minimal()\n",
    "    \n",
    "    plot\n",
    "}"
   ]
  },
  {
   "cell_type": "code",
   "execution_count": null,
   "id": "417a73cd-64da-4a94-ac7d-f9a13f0f21e0",
   "metadata": {},
   "outputs": [],
   "source": [
    "plot_region(wfs1_region, \"WFS1\", \"en_Adipose_Subcutaneous\")"
   ]
  },
  {
   "cell_type": "markdown",
   "id": "bfd3e2e8-800b-4000-9186-0df4ea888d0b",
   "metadata": {},
   "source": "**Interprétation du graphique de région génomique**\n\n<div class=\"alert alert-info\">\n<p>Le graphique présente les statistiques d'association des variants génétiques situés dans la région du gène <em>WFS1</em> avec le diabète de type 2. Voici les éléments clés à analyser :</p>\n\n<p><strong>Légende du graphique :</strong></p>\n<ul>\n<li><strong>Points bleus :</strong> Variants inclus dans le modèle prédisant l'expression de <em>WFS1</em> dans le tissu adipeux sous-cutané</li>\n<li><strong>Taille des points :</strong> Proportionnelle au poids (importance) du variant dans le modèle prédictif</li>\n<li><strong>Axe Y :</strong> Force de l'association avec le diabète de type 2 (-log10 de la valeur P)</li>\n</ul>\n\n<p><strong>Questions d'interprétation :</strong></p>\n<ol>\n<li>Ce graphique appuie-t-il les résultats de l'analyse TWAS ?</li>\n<li>Observe-t-on une concordance entre les variants les plus fortement associés au diabète (pics les plus élevés) et ceux inclus dans le modèle prédictif (points bleus) ?</li>\n<li>Comment cette visualisation peut-elle informer l'interprétation causale des résultats TWAS ?</li>\n<li>Que révèle la distribution spatiale des variants du modèle par rapport au gène ?</li>\n</ol>\n\n<p><strong>Exploration supplémentaire :</strong></p>\n<p>Les fonctions ci-dessous permettent de visualiser les signaux d'association de <em>WFS1</em> dans d'autres tissus. Il est recommandé de comparer les patterns observés entre les tissus et de tester également d'autres gènes significatifs identifiés dans l'analyse.</p>\n</div>"
  },
  {
   "cell_type": "code",
   "execution_count": null,
   "id": "52107c97-dc32-499a-95c4-ced1fd79da7d",
   "metadata": {},
   "outputs": [],
   "source": [
    "# plot_region(wfs1_region, \"WFS1\", \"en_Whole_Blood\")\n",
    "# plot_region(wfs1_region, \"WFS1\", \"en_Pancreas\")\n",
    "# plot_region(wfs1_region, \"WFS1\", \"en_Muscle_Skeletal\")"
   ]
  }
 ],
 "metadata": {
  "kernelspec": {
   "display_name": "R",
   "language": "R",
   "name": "ir"
  },
  "language_info": {
   "codemirror_mode": "r",
   "file_extension": ".r",
   "mimetype": "text/x-r-source",
   "name": "R",
   "pygments_lexer": "r",
   "version": "4.1.1"
  }
 },
 "nbformat": 4,
 "nbformat_minor": 5
}