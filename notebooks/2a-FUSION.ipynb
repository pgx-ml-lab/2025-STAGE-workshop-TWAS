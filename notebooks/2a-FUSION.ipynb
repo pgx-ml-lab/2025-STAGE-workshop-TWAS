{
 "cells": [
  {
   "cell_type": "markdown",
   "id": "caa83ec8-1ddd-4222-88f7-f5c87e91a8f0",
   "metadata": {},
   "source": "# Workshop on Statistical Genetics and Genetic Epidemiology STAGE-Quebec\n## Theme 2 - Molecular Phenotypes in Genetic Epidemiology\n\nBy Marc-André Legault (Université de Montréal) and Qihuang Zhang (McGill University)\n\n**July 31 - August 1, 2025**\n\n### Introduction\n\nThis notebook presents the second TWAS (Transcriptome-Wide Association Study) analysis using **FUSION**, an alternative approach to the S-PrediXcan method demonstrated previously. By applying FUSION to the same GWAS summary statistics, participants will gain experience with different TWAS methodologies and learn to compare their respective results.\n\n**FUSION methodology**: FUSION employs a Bayesian approach to combine multiple prediction models and provides comprehensive quality metrics for each gene-trait association. This complementary analysis will enhance understanding of how different TWAS methodologies can yield varying insights from identical input data.\n\n### Understanding the FUSION Data Structure\n\nThe analysis utilizes a structured data organization that facilitates FUSION analyses:\n\n<pre>\n/data/FUSION/\n├── gwas/      # GWAS summary statistics (diabetes data from previous analysis)\n├── ld/        # LD reference panels (1000 Genomes EUR population)\n└── models/    # Pre-trained gene expression prediction models\n    ├── GTExv8_EUR_Pancreas/    # Pancreas tissue models from GTEx\n    └── YFS_BLOOD_RNAARR/       # Blood tissue models from Young Finns Study\n</pre>\n\n**Components:**\n- **GWAS data**: Diabetes GWAS summary statistics analyzed previously with S-PrediXcan\n- **LD reference**: Population-specific linkage disequilibrium patterns required for accurate statistical inference\n- **Prediction models**: Pre-trained weights for estimating gene expression from genetic variants\n\nEach `models/` directory contains:\n- `*.wgt.RDat` files: Prediction weights for individual genes\n- One `.pos` file: Master list of available genes with genomic coordinates\n\n### Running FUSION: Initial Analysis with Blood Tissue Models\n\nThe first analysis employs gene expression models from **whole blood** tissue (Young Finns Study). Blood tissue provides broad coverage as it is readily accessible and extensively studied in genetic research.\n\n**Computational note**: The analysis processes all 22 autosomes, with a break statement after chromosome 2 included for time efficiency. Complete genomic results are available for examination, and the full analysis can be executed by removing the break statement."
  },
  {
   "cell_type": "code",
   "execution_count": 4,
   "id": "4950485e-ee07-4a09-8475-cf810d58d1aa",
   "metadata": {
    "tags": []
   },
   "outputs": [
    {
     "name": "stdout",
     "output_type": "stream",
     "text": [
      "WARNING :  YFS.BLOOD.RNAARR/YFS.S100PBP.wgt.RDat S100PBP 1 33282368 33324476 had 268 overlapping SNPs, but none with non-zero expression weights, try more SNPS or a different model\n",
      "WARNING :  YFS.BLOOD.RNAARR/YFS.ISG20L2.wgt.RDat ISG20L2 1 156691683 156698591 had 432 overlapping SNPs, but none with non-zero expression weights, try more SNPS or a different model\n",
      "Analysis completed.\n",
      "NOTE: 2 / 476 genes were skipped\n",
      "Analysis completed.\n",
      "NOTE: 0 / 322 genes were skipped\n",
      "Analysis completed.\n",
      "NOTE: 0 / 293 genes were skipped\n"
     ]
    }
   ],
   "source": [
    "for chrom in $(seq 1 22); do\n",
    "    Rscript /workshop/software/FUSION/FUSION.assoc_test.R \\\n",
    "        --sumstats /workshop/data/FUSION/gwas/Mahajan.NatGen2022.DIAMANTE-EUR.ldsc_ss.FUSION_ref.tsv \\\n",
    "        --weights /workshop/data/FUSION/models/YFS_BLOOD_RNAARR/YFS.BLOOD.RNAARR.pos \\\n",
    "        --weights_dir /workshop/data/FUSION/models/YFS_BLOOD_RNAARR/ \\\n",
    "        --ref_ld_chr /workshop/data/FUSION/ld/1000G.EUR. \\\n",
    "        --chr $chrom \\\n",
    "        --out results/fusion_YFS_$chrom.tsv\n",
    "        \n",
    "    if (( $chrom > 2 )); then\n",
    "        # Comment the line below to run all the chromosomes,\n",
    "        # otherwise only the first two will be used.\n",
    "        break\n",
    "    fi\n",
    "done"
   ]
  },
  {
   "cell_type": "markdown",
   "id": "af88575b-0fe5-45f8-a727-f505fc92c5e7",
   "metadata": {},
   "source": "### Tissue Comparison: GTEx Pancreas Analysis\n\nThe subsequent analysis employs prediction models from **pancreas tissue** using GTEx data. This provides a direct comparison opportunity because:\n\n1. **Identical underlying data**: The analysis uses the same GTEx pancreas expression data that supported the S-PrediXcan analysis\n2. **Methodological comparison**: FUSION's approach enables direct comparison of methodological differences\n3. **Biological relevance**: Pancreas tissue is highly relevant for diabetes research, potentially revealing tissue-specific associations\n\n**Comparative analysis value**: By analyzing identical tissue data with different TWAS methods, researchers can understand how methodological choices influence results and develop skills for interpreting findings across different analytical frameworks."
  },
  {
   "cell_type": "code",
   "execution_count": null,
   "id": "02f55b80-b224-4880-bcce-77ccbcba624e",
   "metadata": {
    "scrolled": true,
    "tags": []
   },
   "outputs": [
    {
     "name": "stdout",
     "output_type": "stream",
     "text": [
      "WARNING :  GTExv8.EUR.Pancreas GTExv8.EUR.Pancreas/ENSG00000269713.7.wgt.RDat ENSG00000269713.7 1 149103560 149103561 243 had 2 / 3 non-overlapping GWAS Z-scores, skipping this gene.\n",
      "WARNING :  GTExv8.EUR.Pancreas GTExv8.EUR.Pancreas/ENSG00000274265.4.wgt.RDat ENSG00000274265.4 1 149176021 149176022 243 had 2 / 3 non-overlapping GWAS Z-scores, skipping this gene.\n",
      "WARNING :  GTExv8.EUR.Pancreas GTExv8.EUR.Pancreas/ENSG00000215861.5.wgt.RDat ENSG00000215861.5 1 149321731 149321732 243 had mean GWAS Z-score imputation r2 of 0.6850275 at expression weight SNPs, skipping this gene.\n",
      "Analysis completed.\n",
      "NOTE: 3 / 538 genes were skipped\n",
      "Analysis completed.\n",
      "NOTE: 0 / 420 genes were skipped\n"
     ]
    }
   ],
   "source": [
    "for chrom in $(seq 1 22); do\n",
    "    Rscript /workshop/software/FUSION/FUSION.assoc_test.R \\\n",
    "        --sumstats /workshop/data/FUSION/gwas/Mahajan.NatGen2022.DIAMANTE-EUR.ldsc_ss.FUSION_ref.tsv \\\n",
    "        --weights /workshop/data/FUSION/models/GTExv8_EUR_Pancreas/GTExv8.EUR.Pancreas.pos \\\n",
    "        --weights_dir /workshop/data/FUSION/models/GTExv8_EUR_Pancreas \\\n",
    "        --ref_ld_chr /workshop/data/FUSION/ld/1000G.EUR. \\\n",
    "        --chr $chrom \\\n",
    "        --out results/fusion_GTEx_pancreas_$chrom.tsv\n",
    "        \n",
    "    if (( $chrom > 2 )); then\n",
    "        # Comment the line below to run all the chromosomes,\n",
    "        # otherwise only the first two will be used.\n",
    "        break\n",
    "    fi\n",
    "done"
   ]
  },
  {
   "cell_type": "markdown",
   "id": "e4c6a45b-32e5-4008-a8ec-5267867083cf",
   "metadata": {},
   "source": "### Result Organization for Analysis\n\nFor comprehensive analysis, chromosome-specific results should be combined into single files. The following code demonstrates how to merge chromosome-specific outputs, though it is commented out for this workshop session which focuses on a subset of chromosomes."
  },
  {
   "cell_type": "code",
   "execution_count": 15,
   "id": "ac2ff95b-3307-420a-ba42-89b0ff498500",
   "metadata": {
    "tags": []
   },
   "outputs": [],
   "source": [
    "# Merge the files (GTEx Pancreas).\n",
    "# cp results/fusion_GTEx_pancreas_1.tsv results/fusion_GTEx_pancreas.tsv\n",
    "# for chrom in $(seq 2 22); do\n",
    "#     cat results/fusion_GTEx_pancreas_${chrom}.tsv | sed 1d >> results/fusion_GTEx_pancreas.tsv\n",
    "# done\n",
    "#\n",
    "# Merge the files (YFS).\n",
    "# cp results/fusion_YFS_1.tsv results/fusion_YFS.tsv\n",
    "# for chrom in $(seq 2 22); do\n",
    "#     cat results/fusion_YFS_${chrom}.tsv | sed 1d >> results/fusion_YFS.tsv\n",
    "# done"
   ]
  },
  {
   "cell_type": "markdown",
   "id": "590c3885-40db-426f-8306-913542bd4e4b",
   "metadata": {
    "tags": []
   },
   "source": "### FUSION Output Structure: Result Interpretation\n\nThe FUSION analysis generates TWAS results in tab-separated values (TSV) format. Understanding the output structure is essential for downstream analysis and interpretation. The following command examines the column headers:"
  },
  {
   "cell_type": "code",
   "execution_count": 8,
   "id": "db25013f-eba4-498f-bd28-51b980621e14",
   "metadata": {
    "tags": []
   },
   "outputs": [
    {
     "name": "stdout",
     "output_type": "stream",
     "text": [
      "     1\tPANEL\n",
      "     2\tFILE\n",
      "     3\tID\n",
      "     4\tCHR\n",
      "     5\tP0\n",
      "     6\tP1\n",
      "     7\tHSQ\n",
      "     8\tBEST.GWAS.ID\n",
      "     9\tBEST.GWAS.Z\n",
      "    10\tEQTL.ID\n",
      "    11\tEQTL.R2\n",
      "    12\tEQTL.Z\n",
      "    13\tEQTL.GWAS.Z\n",
      "    14\tNSNP\n",
      "    15\tNWGT\n",
      "    16\tMODEL\n",
      "    17\tMODELCV.R2\n",
      "    18\tMODELCV.PV\n",
      "    19\tTWAS.Z\n",
      "    20\tTWAS.P\n"
     ]
    }
   ],
   "source": [
    "head -n 1 /workshop/local/results/fusion_GTEx_pancreas_1.tsv | tr '\\t' '\\n' | nl"
   ]
  },
  {
   "cell_type": "markdown",
   "id": "c462cd15-ca1c-450d-9f00-c72cefbcf896",
   "metadata": {},
   "source": "### FUSION Output Interpretation: Key Metrics\n\nUnderstanding FUSION's output columns is essential for proper result interpretation. The most important metrics include:\n\n**Primary TWAS Results:**\n- **TWAS.Z, TWAS.P**: Core gene-trait association statistics - Z-scores and P-values\n- **ID**: Gene identifier (format varies by dataset - may be gene symbols or Ensembl IDs)\n\n**Quality Assessment Metrics:**\n- **MODELCV.R2**: Cross-validated R² indicating how well genetic variants predict gene expression (higher values indicate greater reliability)\n- **MODELCV.PV**: P-value for prediction model performance\n- **NSNP, NWGT**: Number of SNPs utilized and number with non-zero weights\n\n**Additional Context:**\n- **BEST.GWAS.Z**: Strongest individual GWAS signal in the gene region (for comparison with TWAS signal)\n- **EQTL.R2**: Predictive capacity of the top eQTL for expression\n- **HSQ**: Heritability estimate for gene expression\n\nExample results demonstrating these metrics:"
  },
  {
   "cell_type": "code",
   "execution_count": 7,
   "id": "e49d7d2a-13ab-486d-aa34-07b842f8270e",
   "metadata": {
    "tags": []
   },
   "outputs": [
    {
     "name": "stdout",
     "output_type": "stream",
     "text": [
      "PANEL CHR P0 BEST.GWAS.Z EQTL.ID EQTL.R2 TWAS.Z TWAS.P\n",
      "GTExv8.EUR.Pancreas 1 959308 3.180 rs3748595 0.107999 1.15827 2.47e-01\n",
      "GTExv8.EUR.Pancreas 1 966496 3.180 rs604618 -0.004009 0.34623 7.29e-01\n",
      "GTExv8.EUR.Pancreas 1 998050 3.180 rs3128117 0.391529 0.69014 4.90e-01\n",
      "GTExv8.EUR.Pancreas 1 1063287 3.180 rs9442372 0.156418 -0.12335 9.02e-01\n",
      "GTExv8.EUR.Pancreas 1 1116360 3.180 rs4275402 -0.001403 -0.91489 3.60e-01\n",
      "GTExv8.EUR.Pancreas 1 1324690 3.180 rs2765021 0.100828 -3.00972 2.61e-03\n",
      "GTExv8.EUR.Pancreas 1 1407312 3.180 rs35242196 0.152516 -0.73636 4.62e-01\n",
      "GTExv8.EUR.Pancreas 1 1421768 3.180 rs12089560 0.120587 1.47945 1.39e-01\n",
      "GTExv8.EUR.Pancreas 1 1422468 3.180 rs12089560 0.114774 0.98098 3.27e-01\n"
     ]
    }
   ],
   "source": [
    "awk '{print $1, $4, $5, $9, $10, $11, $19, $20}' /workshop/local/results/fusion_GTEx_pancreas_1.tsv | head"
   ]
  },
  {
   "cell_type": "code",
   "execution_count": 19,
   "id": "b75430ea-d44d-4eba-b8e9-0e0723e34824",
   "metadata": {
    "tags": []
   },
   "outputs": [
    {
     "name": "stdout",
     "output_type": "stream",
     "text": [
      "5766 ./results/fusion_GTEx_pancreas.tsv\n",
      "4629 ./results/fusion_YFS.tsv\n"
     ]
    }
   ],
   "source": [
    "wc -l ./results/fusion_GTEx_pancreas.tsv\n",
    "wc -l ./results/fusion_YFS.tsv"
   ]
  },
  {
   "cell_type": "markdown",
   "id": "8086f23d-78b1-40a4-a103-c7495f22bad6",
   "metadata": {},
   "source": "<div class=\"alert alert-info\">\n<h4>Analysis Exercise 1: Genome-wide Significance Assessment</h4>\n\n<strong>Objective:</strong> Identify genes reaching genome-wide significance using Bonferroni correction in both tissue types.\n\n<strong>Tasks:</strong>\n1. Calculate the significance threshold: 0.05 divided by the number of tested genes per tissue\n2. Quantify genes meeting this stringent criterion in each tissue\n3. Evaluate implications for tissue-specific versus shared genetic effects\n\n<strong>Method:</strong> Use the line counts shown above to determine the total number of tested genes, then apply appropriate filtering.\n\n<!--\nSolution:\nawk 'NR == 1 || $20 <= 0.05/5765 { print $3, $19, $20 }' results/fusion_GTEx_pancreas.tsv\nawk 'NR == 1 || $20 <= 0.05/4628 { print $3, $19, $20 }' results/fusion_YFS.tsv\n\n# 119 significant for GTEx pancreas\n# 85 significant for YFS\n//-->\n\n</div>"
  },
  {
   "cell_type": "code",
   "execution_count": null,
   "id": "8c8892e8-1bff-42de-9935-e1a314c5bb70",
   "metadata": {
    "tags": []
   },
   "outputs": [],
   "source": []
  },
  {
   "cell_type": "markdown",
   "id": "09a361f5-37a5-4664-b64b-18fefacf07ed",
   "metadata": {},
   "source": "<div class=\"alert alert-info\">\n<h4>Analysis Exercise 2: Model Quality Assessment</h4>\n\n<strong>Objective:</strong> Evaluate how MODELCV.R² should influence confidence in TWAS results.\n\n<strong>Considerations:</strong>\n- Interpretation of low R² values (e.g., 0.01) regarding TWAS signal reliability\n- Assessment of highly significant TWAS.P values when MODELCV.R² is low\n- Establishment of reasonable R² thresholds for result filtering\n- Biological factors that may contribute to low prediction accuracy for certain genes\n\n<strong>Investigation approach:</strong> Compare MODELCV.R² distributions across significant associations. Examine whether genes with stronger TWAS signals demonstrate superior prediction model performance.\n</div>"
  },
  {
   "cell_type": "code",
   "execution_count": null,
   "id": "c11ae4cf-eb8b-4c49-b36a-463b4c4981fe",
   "metadata": {},
   "outputs": [],
   "source": []
  },
  {
   "cell_type": "markdown",
   "id": "f578b27a-75a7-461d-8e9d-216c20f62cbd",
   "metadata": {},
   "source": "<div class=\"alert alert-info\">\n<h4>Analysis Exercise 3: Tissue-Specific Association Patterns</h4>\n\n<strong>Objective:</strong> Evaluate differential gene association patterns between blood and pancreas tissues and their implications for diabetes biology.\n\n<strong>Investigation areas:**\n1. **Shared associations**: Identify genes with significant associations in both tissues and assess effect direction consistency\n2. **Tissue-specific associations**: Determine genes significant in only one tissue and evaluate potential explanatory factors\n3. **Effect magnitude comparison**: For genes significant in both tissues, compare association strengths\n4. **Biological interpretation**: Assess whether tissue-specific patterns align with established diabetes pathophysiology\n\n<strong>Advanced analytical approaches:**\n- Generate scatter plots comparing TWAS.Z scores between tissues\n- Investigate whether pancreas-specific signals show enrichment for metabolic pathways\n- Examine whether blood-specific signals may reflect inflammatory processes\n- Assess systematic differences in prediction model quality (MODELCV.R²) between tissues\n\n<strong>Integration note:** These findings will be essential for comparison with S-PrediXcan results in subsequent analyses.\n</div>"
  },
  {
   "cell_type": "code",
   "execution_count": null,
   "id": "44931ebe-3f7e-46b7-9f75-11234f1d7669",
   "metadata": {},
   "outputs": [],
   "source": []
  }
 ],
 "metadata": {
  "kernelspec": {
   "display_name": "Bash",
   "language": "bash",
   "name": "bash"
  },
  "language_info": {
   "codemirror_mode": "shell",
   "file_extension": ".sh",
   "mimetype": "text/x-sh",
   "name": "bash"
  }
 },
 "nbformat": 4,
 "nbformat_minor": 5
}