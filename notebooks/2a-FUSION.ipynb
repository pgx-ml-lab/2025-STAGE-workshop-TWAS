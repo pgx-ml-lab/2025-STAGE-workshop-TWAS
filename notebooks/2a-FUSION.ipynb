{
 "cells": [
  {
   "cell_type": "markdown",
   "id": "caa83ec8-1ddd-4222-88f7-f5c87e91a8f0",
   "metadata": {},
   "source": [
    "# Workshop on Statistical Genetics and Genetic Epidemiology STAGE-Quebec\n",
    "## Theme 2 - Molecular Phenotypes in Genetic Epidemiology\n",
    "\n",
    "By Marc-André Legault (Université de Montréal) and Qihuang Zhang (McGill University)\n",
    "\n",
    "**July 31 - August 1, 2025**\n",
    "\n",
    "### Introduction\n",
    "\n",
    "In this notebook, we will use a second TWAS software called FUSION on the same GWAS summary statistics. This will allow us to understand how to run the FUSION software, and to compare the results with S-PrediXcan which is the theme of the 3rd section.\n",
    "\n",
    "### Data exploration\n",
    "\n",
    "The file structure for the FUSION data included in this notebook is as follows:\n",
    "<pre>\n",
    "/data/FUSION/\n",
    "├── gwas/      # GWAS summary statistics\n",
    "├── ld/        # LD reference panels (1000 Genomes EUR)\n",
    "└── models/    # Gene expression weight models\n",
    "    ├── GTExv8_EUR_Pancreas/\n",
    "    └── YFS_BLOOD_RNAARR/\n",
    "</pre>\n",
    "\n",
    "Each ``models/`` subfolder contains:\n",
    "\n",
    "- *.wgt.RDat weight model files\n",
    "- One .pos file listing all available genes\n",
    "\n",
    "### Running the software\n",
    "\n",
    "The code below will call FUSION for the first gene expression prediction model. This model was derived from gene expression in whole blood from the Young Finns Study. The loop will call FUSION for every chromosome. For computational reason, you may want to only run the first two chromosomes. If you want to run the whole transcriptome, you can comment out the ``break`` statement by adding the pound sign at the beginning of the line (``# break``).\n",
    "\n",
    "We prepared a Checkpoint with the full results to save computational ressources."
   ]
  },
  {
   "cell_type": "code",
   "execution_count": 4,
   "id": "4950485e-ee07-4a09-8475-cf810d58d1aa",
   "metadata": {
    "tags": []
   },
   "outputs": [
    {
     "name": "stdout",
     "output_type": "stream",
     "text": [
      "WARNING :  YFS.BLOOD.RNAARR/YFS.S100PBP.wgt.RDat S100PBP 1 33282368 33324476 had 268 overlapping SNPs, but none with non-zero expression weights, try more SNPS or a different model\n",
      "WARNING :  YFS.BLOOD.RNAARR/YFS.ISG20L2.wgt.RDat ISG20L2 1 156691683 156698591 had 432 overlapping SNPs, but none with non-zero expression weights, try more SNPS or a different model\n",
      "Analysis completed.\n",
      "NOTE: 2 / 476 genes were skipped\n",
      "Analysis completed.\n",
      "NOTE: 0 / 322 genes were skipped\n",
      "Analysis completed.\n",
      "NOTE: 0 / 293 genes were skipped\n"
     ]
    }
   ],
   "source": [
    "for chrom in $(seq 1 22); do\n",
    "    Rscript /workshop/software/FUSION/FUSION.assoc_test.R \\\n",
    "        --sumstats /workshop/data/FUSION/gwas/Mahajan.NatGen2022.DIAMANTE-EUR.ldsc_ss.FUSION_ref.tsv \\\n",
    "        --weights /workshop/data/FUSION/models/YFS_BLOOD_RNAARR/YFS.BLOOD.RNAARR.pos \\\n",
    "        --weights_dir /workshop/data/FUSION/models/YFS_BLOOD_RNAARR/ \\\n",
    "        --ref_ld_chr /workshop/data/FUSION/ld/1000G.EUR. \\\n",
    "        --chr $chrom \\\n",
    "        --out results/fusion_YFS_$chrom.tsv\n",
    "        \n",
    "    if (( $chrom > 2 )); then\n",
    "        # Comment the line below to run all the chromosomes,\n",
    "        # otherwise only the first two will be used.\n",
    "        break\n",
    "    fi\n",
    "done"
   ]
  },
  {
   "cell_type": "markdown",
   "id": "af88575b-0fe5-45f8-a727-f505fc92c5e7",
   "metadata": {},
   "source": [
    "Now, we can also run FUSION with weights estimated from GTEx (pancreas). The same GTEx data was used for the S-PrediXcan model we previously ran. This will be a point of comparison between both approaches."
   ]
  },
  {
   "cell_type": "code",
   "execution_count": null,
   "id": "02f55b80-b224-4880-bcce-77ccbcba624e",
   "metadata": {
    "scrolled": true,
    "tags": []
   },
   "outputs": [
    {
     "name": "stdout",
     "output_type": "stream",
     "text": [
      "WARNING :  GTExv8.EUR.Pancreas GTExv8.EUR.Pancreas/ENSG00000269713.7.wgt.RDat ENSG00000269713.7 1 149103560 149103561 243 had 2 / 3 non-overlapping GWAS Z-scores, skipping this gene.\n",
      "WARNING :  GTExv8.EUR.Pancreas GTExv8.EUR.Pancreas/ENSG00000274265.4.wgt.RDat ENSG00000274265.4 1 149176021 149176022 243 had 2 / 3 non-overlapping GWAS Z-scores, skipping this gene.\n",
      "WARNING :  GTExv8.EUR.Pancreas GTExv8.EUR.Pancreas/ENSG00000215861.5.wgt.RDat ENSG00000215861.5 1 149321731 149321732 243 had mean GWAS Z-score imputation r2 of 0.6850275 at expression weight SNPs, skipping this gene.\n",
      "Analysis completed.\n",
      "NOTE: 3 / 538 genes were skipped\n",
      "Analysis completed.\n",
      "NOTE: 0 / 420 genes were skipped\n"
     ]
    }
   ],
   "source": [
    "for chrom in $(seq 1 22); do\n",
    "    Rscript /workshop/software/FUSION/FUSION.assoc_test.R \\\n",
    "        --sumstats /workshop/data/FUSION/gwas/Mahajan.NatGen2022.DIAMANTE-EUR.ldsc_ss.FUSION_ref.tsv \\\n",
    "        --weights /workshop/data/FUSION/models/GTExv8_EUR_Pancreas/GTExv8.EUR.Pancreas.pos \\\n",
    "        --weights_dir /workshop/data/FUSION/models/GTExv8_EUR_Pancreas \\\n",
    "        --ref_ld_chr /workshop/data/FUSION/ld/1000G.EUR. \\\n",
    "        --chr $chrom \\\n",
    "        --out results/fusion_GTEx_pancreas_$chrom.tsv\n",
    "        \n",
    "    if (( $chrom > 2 )); then\n",
    "        # Comment the line below to run all the chromosomes,\n",
    "        # otherwise only the first two will be used.\n",
    "        break\n",
    "    fi\n",
    "done"
   ]
  },
  {
   "cell_type": "markdown",
   "id": "e4c6a45b-32e5-4008-a8ec-5267867083cf",
   "metadata": {},
   "source": [
    "For convenience, you can combine the results into a single file."
   ]
  },
  {
   "cell_type": "code",
   "execution_count": 15,
   "id": "ac2ff95b-3307-420a-ba42-89b0ff498500",
   "metadata": {
    "tags": []
   },
   "outputs": [],
   "source": [
    "# Merge the files (GTEx Pancreas).\n",
    "# cp results/fusion_GTEx_pancreas_1.tsv results/fusion_GTEx_pancreas.tsv\n",
    "# for chrom in $(seq 2 22); do\n",
    "#     cat results/fusion_GTEx_pancreas_${chrom}.tsv | sed 1d >> results/fusion_GTEx_pancreas.tsv\n",
    "# done\n",
    "#\n",
    "# Merge the files (YFS).\n",
    "# cp results/fusion_YFS_1.tsv results/fusion_YFS.tsv\n",
    "# for chrom in $(seq 2 22); do\n",
    "#     cat results/fusion_YFS_${chrom}.tsv | sed 1d >> results/fusion_YFS.tsv\n",
    "# done"
   ]
  },
  {
   "cell_type": "markdown",
   "id": "590c3885-40db-426f-8306-913542bd4e4b",
   "metadata": {
    "tags": []
   },
   "source": [
    "Now that we have TWAS results, you can open a results file by double clicking on it from the file browser. You should see a TSV file with these columns:"
   ]
  },
  {
   "cell_type": "code",
   "execution_count": 8,
   "id": "db25013f-eba4-498f-bd28-51b980621e14",
   "metadata": {
    "tags": []
   },
   "outputs": [
    {
     "name": "stdout",
     "output_type": "stream",
     "text": [
      "     1\tPANEL\n",
      "     2\tFILE\n",
      "     3\tID\n",
      "     4\tCHR\n",
      "     5\tP0\n",
      "     6\tP1\n",
      "     7\tHSQ\n",
      "     8\tBEST.GWAS.ID\n",
      "     9\tBEST.GWAS.Z\n",
      "    10\tEQTL.ID\n",
      "    11\tEQTL.R2\n",
      "    12\tEQTL.Z\n",
      "    13\tEQTL.GWAS.Z\n",
      "    14\tNSNP\n",
      "    15\tNWGT\n",
      "    16\tMODEL\n",
      "    17\tMODELCV.R2\n",
      "    18\tMODELCV.PV\n",
      "    19\tTWAS.Z\n",
      "    20\tTWAS.P\n"
     ]
    }
   ],
   "source": [
    "head -n 1 /workshop/local/results/fusion_GTEx_pancreas_1.tsv | tr '\\t' '\\n' | nl"
   ]
  },
  {
   "cell_type": "markdown",
   "id": "c462cd15-ca1c-450d-9f00-c72cefbcf896",
   "metadata": {},
   "source": [
    "### Output Explanation\n",
    "\n",
    "Each output file will contain:\n",
    "\n",
    "- TWAS.Z, TWAS.P: Z-scores and P-values for imputed gene-trait associations\n",
    "- MODELCV.R2, MODELCV.PV: Cross-validated predictive performance of the model\n",
    "- Best.GWAS.Z: Strongest GWAS SNP signal in region\n",
    "\n",
    "Here is a file excerpt:"
   ]
  },
  {
   "cell_type": "code",
   "execution_count": 7,
   "id": "e49d7d2a-13ab-486d-aa34-07b842f8270e",
   "metadata": {
    "tags": []
   },
   "outputs": [
    {
     "name": "stdout",
     "output_type": "stream",
     "text": [
      "PANEL CHR P0 BEST.GWAS.Z EQTL.ID EQTL.R2 TWAS.Z TWAS.P\n",
      "GTExv8.EUR.Pancreas 1 959308 3.180 rs3748595 0.107999 1.15827 2.47e-01\n",
      "GTExv8.EUR.Pancreas 1 966496 3.180 rs604618 -0.004009 0.34623 7.29e-01\n",
      "GTExv8.EUR.Pancreas 1 998050 3.180 rs3128117 0.391529 0.69014 4.90e-01\n",
      "GTExv8.EUR.Pancreas 1 1063287 3.180 rs9442372 0.156418 -0.12335 9.02e-01\n",
      "GTExv8.EUR.Pancreas 1 1116360 3.180 rs4275402 -0.001403 -0.91489 3.60e-01\n",
      "GTExv8.EUR.Pancreas 1 1324690 3.180 rs2765021 0.100828 -3.00972 2.61e-03\n",
      "GTExv8.EUR.Pancreas 1 1407312 3.180 rs35242196 0.152516 -0.73636 4.62e-01\n",
      "GTExv8.EUR.Pancreas 1 1421768 3.180 rs12089560 0.120587 1.47945 1.39e-01\n",
      "GTExv8.EUR.Pancreas 1 1422468 3.180 rs12089560 0.114774 0.98098 3.27e-01\n"
     ]
    }
   ],
   "source": [
    "awk '{print $1, $4, $5, $9, $10, $11, $19, $20}' /workshop/local/results/fusion_GTEx_pancreas_1.tsv | head"
   ]
  },
  {
   "cell_type": "code",
   "execution_count": 19,
   "id": "b75430ea-d44d-4eba-b8e9-0e0723e34824",
   "metadata": {
    "tags": []
   },
   "outputs": [
    {
     "name": "stdout",
     "output_type": "stream",
     "text": [
      "5766 ./results/fusion_GTEx_pancreas.tsv\n",
      "4629 ./results/fusion_YFS.tsv\n"
     ]
    }
   ],
   "source": [
    "wc -l ./results/fusion_GTEx_pancreas.tsv\n",
    "wc -l ./results/fusion_YFS.tsv"
   ]
  },
  {
   "cell_type": "markdown",
   "id": "8086f23d-78b1-40a4-a103-c7495f22bad6",
   "metadata": {},
   "source": [
    "<div class=\"alert alert-info\">\n",
    "Can you identify the genes in both tissues that reach a tissue-wide Bonferroni significance threshold of 0.05 / # of tested genes per tissue? How many are there?\n",
    "\n",
    "<!--\n",
    "Solution:\n",
    "awk 'NR == 1 || $20 <= 0.05/5765 { print $3, $19, $20 }' results/fusion_GTEx_pancreas.tsv\n",
    "awk 'NR == 1 || $20 <= 0.05/4628 { print $3, $19, $20 }' results/fusion_YFS.tsv\n",
    "\n",
    "# 119 significant for GTEx pancreas\n",
    "# 85 significant for YFS\n",
    "//-->\n",
    "\n",
    "</div>"
   ]
  },
  {
   "cell_type": "code",
   "execution_count": null,
   "id": "8c8892e8-1bff-42de-9935-e1a314c5bb70",
   "metadata": {
    "tags": []
   },
   "outputs": [],
   "source": []
  },
  {
   "cell_type": "markdown",
   "id": "09a361f5-37a5-4664-b64b-18fefacf07ed",
   "metadata": {},
   "source": [
    "<div class=\"alert alert-info\">\n",
    "How does MODELCV.R2 affect your confidence?    \n",
    "</div>"
   ]
  },
  {
   "cell_type": "code",
   "execution_count": null,
   "id": "c11ae4cf-eb8b-4c49-b36a-463b4c4981fe",
   "metadata": {},
   "outputs": [],
   "source": []
  },
  {
   "cell_type": "markdown",
   "id": "f578b27a-75a7-461d-8e9d-216c20f62cbd",
   "metadata": {},
   "source": [
    "<div class=\"alert alert-info\">\n",
    "Are some gene signals stronger in one tissue than another?    \n",
    "</div>"
   ]
  },
  {
   "cell_type": "code",
   "execution_count": null,
   "id": "44931ebe-3f7e-46b7-9f75-11234f1d7669",
   "metadata": {},
   "outputs": [],
   "source": []
  }
 ],
 "metadata": {
  "kernelspec": {
   "display_name": "Bash",
   "language": "bash",
   "name": "bash"
  },
  "language_info": {
   "codemirror_mode": "shell",
   "file_extension": ".sh",
   "mimetype": "text/x-sh",
   "name": "bash"
  }
 },
 "nbformat": 4,
 "nbformat_minor": 5
}
