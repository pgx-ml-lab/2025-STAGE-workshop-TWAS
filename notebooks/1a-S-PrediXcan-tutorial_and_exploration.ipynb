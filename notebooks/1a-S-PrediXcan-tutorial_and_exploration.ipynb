{
 "cells": [
  {
   "cell_type": "markdown",
   "id": "d68b42e2-7eb2-45ce-8cea-e15444d9154b",
   "metadata": {},
   "source": [
    "# Workshop on Statistical Genetics and Genetic Epidemiology STAGE-Quebec\n",
    "## Theme 2 - Molecular Phenotypes in Genetic Epidemiology\n",
    "\n",
    "By Marc-André Legault (Université de Montréal) and Qihuang Zhang (McGill University)\n",
    "\n",
    "**July 31 - August 1, 2025**\n",
    "\n",
    "### Introduction\n",
    "\n",
    "This workshop provides a comprehensive introduction to transcriptome-wide association studies (TWAS). We will demonstrate how to identify type 2 diabetes (T2D) genes by testing the association between predicted gene expression across various tissues and T2D risk.\n",
    "\n",
    "The analysis employs real-world data from a large-scale meta-analysis involving 180,834 T2D cases and over one million controls from [Mahajan _et al._ (2022)](https://www.nature.com/articles/s41588-022-01058-3). These are high-quality summary statistics that represent current standards in genetic epidemiology research.\n",
    "\n",
    "This workshop will cover two established TWAS approaches:\n",
    "- **[S-PrediXcan](https://www.nature.com/articles/s41467-018-03621-1)**\n",
    "- **[TWAS FUSION](https://www.nature.com/articles/ng.3506)**\n",
    "\n",
    "The GWAS summary statistics have been harmonized to match the genome build (GRCh38) used by the gene expression prediction models. We have curated a focused set of tissues from GTEx to balance comprehensiveness with computational efficiency.\n",
    "\n",
    "### Workshop Structure\n",
    "\n",
    "The workshop is organized into three interconnected sections:\n",
    "\n",
    "1. **S-PrediXcan** (this Notebook) - Fundamentals of summary statistics-based TWAS using S-PrediXcan.\n",
    "2. **TWAS / FUSION** [(link)](2a-FUSION.ipynb) - A second software to conduct TWAS.\n",
    "3. **Comparing Methods** [(link)](3a-compare_TWAS_models.ipynb) - Comparative analysis of the results.\n",
    "\n",
    "**Navigation:** Use the file browser in the left pane to explore all workshop materials and switch between notebooks.\n",
    "\n",
    "<div class=\"alert alert-warning\">\n",
    "    <p>\n",
    "    <strong>Important:</strong> The <strong>local</strong> folder is shared with your computer—everything else will disappear when you close the notebook server. Save your important work and results in the local folder.\n",
    "    </p>\n",
    "    <p>\n",
    "    The \"local\" folder in this environment can be found on your computer, in your home directory:<br/>\n",
    "    • Windows: <code>C:\\Users\\[your username]\\STAGE2025_workshop_theme2</code><br/>\n",
    "    • macOS/Linux: <code>/Users/[your username]/STAGE2025_workshop_theme2</code>\n",
    "    </p>\n",
    "</div>\n",
    "\n",
    "We will begin by exploring S-PrediXcan and applying it to our prepared GWAS data to investigate the genetic architecture of type 2 diabetes."
   ]
  },
  {
   "cell_type": "markdown",
   "id": "ffb1f99e-87c3-47b8-b422-e99013a8cb28",
   "metadata": {},
   "source": [
    "### Exploring the GWAS Summary Statistics\n",
    "\n",
    "Before running S-PrediXcan, we will examine our input data. Understanding the structure and content of GWAS summary statistics is essential for any TWAS analysis.\n",
    "\n",
    "Our GWAS summary statistics have been harmonized with [PredictDB](https://predictdb.hakyimlab.org/) models—the standard gene expression prediction models that accompany S-PrediXcan. This harmonization ensures that variant names, allele coding, and genomic coordinates are aligned between our GWAS data and the prediction models.\n",
    "\n",
    "**Note:** This harmonization step is critical because inconsistencies in variant naming or allele coding can lead to incorrect results or missed associations.\n",
    "\n",
    "Let's examine the data structure, which follows a consistent format across all tissues:"
   ]
  },
  {
   "cell_type": "code",
   "execution_count": 4,
   "id": "73589759-60a8-45ff-81fe-3d4773cd758a",
   "metadata": {
    "jupyter": {
     "source_hidden": true
    },
    "tags": []
   },
   "outputs": [
    {
     "name": "stdout",
     "output_type": "stream",
     "text": [
      "Looking at file /workshop/data/PrediXcan/gwas_harmonized/harmonized_en_Whole_Blood.tsv.gz\n",
      "Column numbers and titles:\n",
      "     1\tchromosome\n",
      "     2\tbase_pair_location\n",
      "     3\teffect_allele\n",
      "     4\tother_allele\n",
      "     5\tbeta\n",
      "     6\tstandard_error\n",
      "     7\teffect_allele_frequency\n",
      "     8\tneg_log_10_p_value\n",
      "     9\trsid_x\n",
      "    10\tvariant_id\n",
      "    11\tpredictdb_id\n",
      "    12\trsid_y\n",
      "\n",
      "File excerpt:\n",
      "chromosome\tbase_pair_location\teffect_allele\tother_allele\tbeta\tstandard_error\trsid_x\n",
      "chr1\t785910\tC\tG\t-0.0176\t0.0262\trs12565286\n",
      "chr1\t817186\tA\tG\t0.0048\t0.0098\trs3094315\n",
      "chr1\t817341\tG\tA\t0.0045\t0.0097\trs3131972\n",
      "chr1\t825532\tT\tC\t0.0069\t0.0099\trs1048488\n",
      "chr1\t825767\tC\tT\t0.0066\t0.0098\trs3115850\n",
      "chr1\t833068\tA\tG\t0.0\t0.0117\trs12562034\n",
      "chr1\t841742\tT\tA\t0.0078\t0.0101\trs2980319\n",
      "chr1\t843942\tG\tA\t-0.007\t0.0101\trs4040617\n",
      "chr1\t849670\tA\tG\t0.0063\t0.0098\trs2905062\n"
     ]
    }
   ],
   "source": [
    "filename=\"/workshop/data/PrediXcan/gwas_harmonized/harmonized_en_Whole_Blood.tsv.gz\"\n",
    "echo \"Looking at file $filename\"\n",
    "echo \"Column numbers and titles:\"\n",
    "echo \"$(zcat $filename | head -n 1 | tr '\\t' '\\n' | nl)\"\n",
    "echo\n",
    "echo \"File excerpt:\"\n",
    "zcat $filename | head -n 10 | cut -f 1-6,9"
   ]
  },
  {
   "cell_type": "markdown",
   "id": "d84d2d6b-1a38-4f2f-b2d2-2f538b04af58",
   "metadata": {},
   "source": [
    "<div class=\"alert alert-info\">\n",
    "    <strong>Exercise:</strong> Take a moment to interpret the displayed columns. What does each column represent, and why might each be important for a TWAS analysis?\n",
    "</div>"
   ]
  },
  {
   "cell_type": "markdown",
   "id": "de1be96f-9694-4cb1-97b6-491d7c2303f2",
   "metadata": {},
   "source": [
    "Enter your answer here"
   ]
  },
  {
   "cell_type": "markdown",
   "id": "61ab83c3-8a39-410c-869a-d1d1eeeef27f",
   "metadata": {
    "tags": []
   },
   "source": [
    "### Gene Expression Prediction Models: The Foundation of TWAS\n",
    "\n",
    "We will now examine how gene expression is predicted from genetic variants. The gene expression prediction models are the cornerstone of any TWAS analysis. Let's examine the models for GTEx \"Whole blood\" tissue as our example.\n",
    "\n",
    "**Definition:** These models are mathematical functions that predict gene expression levels based on genotype data. They represent the relationship: \"Given a person's genotype at specific SNPs, what would their gene expression likely be in this tissue?\" These models were trained using data from the GTEx consortium, where researchers measured both genotypes and gene expression in the same individuals.\n",
    "\n",
    "PredictDB distributes these models as SQLite databases. Each database contains two essential tables that work together:"
   ]
  },
  {
   "cell_type": "code",
   "execution_count": 5,
   "id": "cad73eb5-cada-4838-bec1-44a6bddaef07",
   "metadata": {
    "tags": []
   },
   "outputs": [
    {
     "name": "stdout",
     "output_type": "stream",
     "text": [
      "CREATE TABLE `extra` (\n",
      "  `gene` TEXT,\n",
      "  `genename` TEXT,\n",
      "  `gene_type` TEXT,\n",
      "  `alpha` REAL,\n",
      "  `n_snps_in_window` INTEGER,\n",
      "  `n.snps.in.model` INTEGER,\n",
      "  `test_R2_avg` REAL,\n",
      "  `test_R2_sd` REAL,\n",
      "  `cv_R2_avg` REAL,\n",
      "  `cv_R2_sd` REAL,\n",
      "  `in_sample_R2` REAL,\n",
      "  `nested_cv_fisher_pval` REAL,\n",
      "  `nested_cv_converged` INTEGER,\n",
      "  `rho_avg` REAL,\n",
      "  `rho_se` REAL,\n",
      "  `rho_zscore` REAL,\n",
      "  `pred.perf.R2` REAL,\n",
      "  `pred.perf.pval` REAL,\n",
      "  `pred.perf.qval` REAL,\n",
      "  `phi` REAL\n",
      ");\n",
      "CREATE INDEX metab_model_summary ON extra (gene);\n"
     ]
    }
   ],
   "source": [
    "# Schema for the \"extra\" table:\n",
    "sqlite3 /workshop/data/PrediXcan/predictdb/en_Whole_Blood.db \".schema extra\""
   ]
  },
  {
   "cell_type": "markdown",
   "id": "22f8bc0c-b16d-45f8-93b7-099483098945",
   "metadata": {},
   "source": [
    "The `extra` table contains model quality control information. For every gene, it includes:\n",
    "- **Gene identifiers** (Ensembl ID and gene name)\n",
    "- **Model composition** (how many SNPs are included)  \n",
    "- **Performance metrics** (how well the model predicts expression)\n",
    "\n",
    "This metadata is essential for interpreting TWAS results appropriately.\n",
    "\n",
    "<div class=\"alert alert-info\">\n",
    "    <strong>Question:</strong> Why is the <code>pred.perf.pval</code> column important? What does it tell us about a gene's suitability for TWAS analysis? Consider what happens if we cannot reliably predict a gene's expression from genotype data.\n",
    "</div>"
   ]
  },
  {
   "cell_type": "markdown",
   "id": "d2dee5e4-f863-4baf-b081-8ec144c0d600",
   "metadata": {},
   "source": [
    "Enter your answer here"
   ]
  },
  {
   "cell_type": "markdown",
   "id": "a9ab2df2-b8c9-4ba3-9538-0d7fce689f83",
   "metadata": {},
   "source": [
    "The `weights` table contains the actual prediction parameters—the mathematical components of each gene expression model. For every gene (identified by its Ensembl ID), this table lists:\n",
    "- **Which genetic variants** (eQTLs) influence expression\n",
    "- **The magnitude of influence** each variant has (the prediction weight)\n",
    "\n",
    "Let's examine this with an example. We will look at the model for **ENSG00000157823.16**, which codes for AP3S2 (Adaptor Related Protein Complex 3 Subunit Sigma 2). To focus on the most important contributors, we will sort variants by their absolute weight and show the top 10:"
   ]
  },
  {
   "cell_type": "code",
   "execution_count": 6,
   "id": "33627747-e995-4c01-b12c-889ec39b0ab6",
   "metadata": {
    "tags": []
   },
   "outputs": [
    {
     "name": "stdout",
     "output_type": "stream",
     "text": [
      "gene                rsid        varID                   ref_allele  eff_allele  weight             \n",
      "------------------  ----------  ----------------------  ----------  ----------  -------------------\n",
      "ENSG00000157823.16  rs4363847   chr15_90547112_T_C_b38  T           C           0.128329668848438  \n",
      "ENSG00000157823.16  rs12898828  chr15_89817721_A_T_b38  A           T           -0.109067828981916 \n",
      "ENSG00000157823.16  rs11073814  chr15_88835653_A_T_b38  A           T           0.0524825659916266 \n",
      "ENSG00000157823.16  rs3853641   chr15_89900547_G_C_b38  G           C           -0.0467714907373544\n",
      "ENSG00000157823.16  rs16943673  chr15_89864201_T_C_b38  T           C           -0.0326710086433488\n",
      "ENSG00000157823.16  rs10520684  chr15_89881770_C_A_b38  C           A           -0.0295110487238457\n",
      "ENSG00000157823.16  rs1879530   chr15_88902553_G_A_b38  G           A           0.0263159897074107 \n",
      "ENSG00000157823.16  rs2165069   chr15_89863887_C_T_b38  C           T           -0.0251527944185157\n",
      "ENSG00000157823.16  rs4932250   chr15_89818473_G_A_b38  G           A           -0.0242119510907331\n",
      "ENSG00000157823.16  rs3759831   chr15_89871410_C_G_b38  C           G           -0.0223217371169919\n"
     ]
    }
   ],
   "source": [
    "sqlite3 /workshop/data/PrediXcan/predictdb/en_Whole_Blood.db <<EOF\n",
    ".mode columns\n",
    ".header on\n",
    "select * from weights\n",
    "  where gene='ENSG00000157823.16'\n",
    "  order by abs(weight) desc limit 10;\n",
    "EOF"
   ]
  },
  {
   "cell_type": "markdown",
   "id": "dd2cee8c-d457-4eb2-b8b3-06a5720874bc",
   "metadata": {
    "tags": []
   },
   "source": [
    "<div class=\"alert alert-info\">\n",
    "    <strong>Interpreting the weights:</strong> Notice that some weights are positive while others are negative. What does this tell us about the relationship between these variants and gene expression? What statistical methods could be used to estimate these prediction weights?\n",
    "</div>"
   ]
  },
  {
   "cell_type": "code",
   "execution_count": null,
   "id": "aacb436f-435f-449d-9db2-5bdb058e313b",
   "metadata": {},
   "outputs": [],
   "source": [
    "Enter your answer here"
   ]
  },
  {
   "cell_type": "markdown",
   "id": "0fb3cdb7-5b2e-415f-9d07-9ff0fe4985f7",
   "metadata": {},
   "source": [
    "### Running Your First TWAS Analysis with S-PrediXcan\n",
    "\n",
    "We are now ready to conduct our TWAS analysis using S-PrediXcan. This analysis will combine our GWAS summary statistics with the gene expression prediction models to identify genes whose predicted expression levels are associated with type 2 diabetes risk.\n",
    "\n",
    "**Note:** The analysis below may take several minutes to complete. If it runs too long, you can stop it and use the pre-computed checkpoint files we have provided.\n",
    "\n",
    "### Understanding the S-PrediXcan Command\n",
    "\n",
    "Each input parameter serves a specific purpose:\n",
    "\n",
    "**Core Input Files:**\n",
    "- **`model_db_path`**: The SQLite database containing gene expression prediction weights\n",
    "- **`covariance`**: Linkage disequilibrium (LD) estimates between SNPs—essential for accounting for correlation between nearby variants\n",
    "- **`gwas_file`**: Our harmonized GWAS summary statistics\n",
    "\n",
    "**Column Mapping Parameters:**\n",
    "The `*_column` parameters tell S-PrediXcan how to interpret our GWAS file format. This flexibility allows the software to work with data from different sources and formats.\n",
    "\n",
    "**Polygenicity Calibration Parameters:**\n",
    "- **SNP heritability (`gwas_h2 = 0.15`)**: The proportion of trait variance explained by all SNPs\n",
    "- **Sample size (`gwas_N = 1000000`)**: The effective sample size of our GWAS\n",
    "\n",
    "**Rationale:** Polygenic traits like T2D have thousands of causal variants with small effects distributed across the genome. Many of these variants are in linkage disequilibrium with our eQTLs, potentially creating spurious associations. By providing heritability and sample size estimates, we enable S-PrediXcan's recalibration method ([Liang _et al._ 2024](https://www.biorxiv.org/content/10.1101/2023.10.17.562831v2)) to account for this \"polygenic background\" and provide more accurate results.\n",
    "\n",
    "The analysis will be run across seven selected tissues:"
   ]
  },
  {
   "cell_type": "code",
   "execution_count": null,
   "id": "98d19b80-4a11-47a9-b3a9-9c7b5b96c477",
   "metadata": {
    "scrolled": true,
    "tags": []
   },
   "outputs": [],
   "source": [
    "tissues=\"Adipose_Subcutaneous Artery_Coronary Brain_Cortex Liver Muscle_Skeletal Pancreas Whole_Blood\"\n",
    "\n",
    "for tissue in $tissues; do\n",
    "    echo\n",
    "    echo\n",
    "    echo \"Running S-PrediXcan for tissue ${tissue}\"\n",
    "    echo\n",
    "    SPrediXcan.py \\\n",
    "        --model_db_path /workshop/data/PrediXcan/predictdb/en_${tissue}.db \\\n",
    "        --covariance /workshop/data/PrediXcan/predictdb/en_${tissue}.txt.gz \\\n",
    "        --gwas_file /workshop/data/PrediXcan/gwas_harmonized/harmonized_en_${tissue}.tsv.gz \\\n",
    "        --snp_column rsid_x \\\n",
    "        --effect_allele_column effect_allele \\\n",
    "        --non_effect_allele_column other_allele \\\n",
    "        --output_file /workshop/local/results/twas_en_${tissue}.csv \\\n",
    "        --beta_column beta \\\n",
    "        --se_column standard_error \\\n",
    "        --gwas_h2 0.15 \\\n",
    "        --gwas_N 1000000\n",
    "    \n",
    "    # Uncomment this line to only run a single tissue.\n",
    "    # break\n",
    "done"
   ]
  },
  {
   "cell_type": "markdown",
   "id": "3c1c674e-66a9-4e88-94da-abd303e08dda",
   "metadata": {
    "tags": []
   },
   "source": [
    "### Analysis Complete\n",
    "\n",
    "You have successfully run S-PrediXcan across multiple tissues and generated comprehensive TWAS results for type 2 diabetes. Each output file contains gene-level association statistics that indicate which genes' predicted expression levels are significantly associated with T2D risk in each tissue.\n",
    "\n",
    "<div class=\"alert alert-info\">\n",
    "    <strong>Examine your results:</strong> Open one of the results files in the <code>results</code> directory. Look for columns like gene names, association p-values, and effect sizes. Which genes show the strongest associations? Do you recognize any as known diabetes genes?\n",
    "</div>"
   ]
  },
  {
   "cell_type": "markdown",
   "id": "3fb56881-05ee-4b93-818e-efb6c544edb4",
   "metadata": {},
   "source": [
    "Enter you answer here"
   ]
  },
  {
   "cell_type": "markdown",
   "id": "9f754404-f2ce-4bb5-ab28-9f9707ce40fe",
   "metadata": {},
   "source": [
    "### Next Steps\n",
    "\n",
    "You have established a foundation in TWAS methodology. The next phase involves **interpreting** these results. In our [next notebook](1b-S-PrediXcan-interpretation.ipynb), we will use the R programming environment to:\n",
    "\n",
    "- **Apply** multiple testing corrections appropriately\n",
    "- **Visualize** association patterns across tissues\n",
    "- **Identify** the most promising candidate genes  \n",
    "- **Understand** the biological significance of our findings\n",
    "\n",
    "This interpretation phase transforms statistical genetics results into biological insights."
   ]
  }
 ],
 "metadata": {
  "kernelspec": {
   "display_name": "Bash",
   "language": "bash",
   "name": "bash"
  },
  "language_info": {
   "codemirror_mode": "shell",
   "file_extension": ".sh",
   "mimetype": "text/x-sh",
   "name": "bash"
  }
 },
 "nbformat": 4,
 "nbformat_minor": 5
}
